{
 "cells": [
  {
   "cell_type": "code",
   "execution_count": 13,
   "metadata": {
    "collapsed": true
   },
   "outputs": [],
   "source": [
    "import itertools\n",
    "import random"
   ]
  },
  {
   "cell_type": "code",
   "execution_count": 14,
   "metadata": {
    "collapsed": false
   },
   "outputs": [],
   "source": [
    "lens = [25, 30]\n",
    "methods = [\"norsnet\", \"bval\", \"ucon\"]\n",
    "\n",
    "# lens = [25]\n",
    "# methods = [\"norsnet\"]"
   ]
  },
  {
   "cell_type": "code",
   "execution_count": 15,
   "metadata": {
    "collapsed": false
   },
   "outputs": [],
   "source": [
    "def write_files(out, files, files2=None):\n",
    "    all_files = zip(itertools.repeat(1), files)\n",
    "    if files2 is not None:\n",
    "        all_files = itertools.chain(all_files, zip(itertools.repeat(2), files2))\n",
    "    ids = []\n",
    "    with open(out + \".idfile\", 'w') as idfile:\n",
    "        with open(out + \".kernelinput\", 'w') as kernelfile: \n",
    "            for i, (source, file) in enumerate(all_files): \n",
    "                with open(file) as fasta:\n",
    "                    with open(file + \".blastPsiMat\") as matfile: \n",
    "                        header = fasta.readline().strip().split(\" \")\n",
    "                        fid = header[0] + \"_\" + str(i)\n",
    "                        head = \" \".join(header[1:])\n",
    "                        idfile.write(fid + \"\\n\")\n",
    "                        group = \"positive\" if file.find(\"possitiv\") > 0 else \"negative\"\n",
    "                        ids.append((source, fid, group))\n",
    "                        kernelfile.write(fid + \" \" + head)\n",
    "                        kernelfile.write(fasta.readline())\n",
    "                        kernelfile.write(\"\\n\")\n",
    "                        for l in matfile.readlines():\n",
    "                            kernelfile.write(l)\n",
    "                            \n",
    "    sIds = \",\".join((fid[1:] for _, fid, _ in ids))\n",
    "    if files2 is None:\n",
    "        arffiles = [open(out + \".arff\", 'w')]\n",
    "    else:\n",
    "        arffiles = [open(out + \".train.arff\", 'w'), open(out + \".test.arff\", 'w')]\n",
    "    for arffile in arffiles:\n",
    "        arffile.write(\"@relation docs\\n\")\n",
    "        arffile.write(\"@attribute identifier {\" + sIds + \"}\\n\")\n",
    "        arffile.write(\"@attribute class {positive,negative}\\n\")\n",
    "        arffile.write(\"@data\\n\")\n",
    "    for source, fid, group in ids: \n",
    "        if source == 1:\n",
    "            outfile = arffiles[0]\n",
    "        else: outfile = arffiles[1]\n",
    "        outfile.write(fid[1:] + \",\" + group + \"\\n\")\n",
    "    for arffile in arffiles:\n",
    "        arffile.close()\n",
    "    \n"
   ]
  },
  {
   "cell_type": "code",
   "execution_count": 23,
   "metadata": {
    "collapsed": false
   },
   "outputs": [],
   "source": [
    "for l in lens:\n",
    "    train_path = \"data/region{}\".format(l)\n",
    "    train_files = !find {train_path} -iname \"*.fa\"\n",
    "    write_files(train_path + \"/region{}\".format(l), train_files)\n",
    "    for test_method in methods:\n",
    "        test_path = \"data/testset{}.{}\".format(l, test_method)\n",
    "        test_files = !find {test_path} -iname \"*.fa\"\n",
    "        random.seed(42)\n",
    "        test_files = random.sample(test_files, 1000)\n",
    "        all_files = train_files + test_files\n",
    "        write_files(test_path + \"/testset{}.{}\".format(l, test_method), train_files, test_files)\n",
    "\n",
    "    "
   ]
  },
  {
   "cell_type": "code",
   "execution_count": null,
   "metadata": {
    "collapsed": true
   },
   "outputs": [],
   "source": []
  },
  {
   "cell_type": "code",
   "execution_count": null,
   "metadata": {
    "collapsed": true
   },
   "outputs": [],
   "source": []
  }
 ],
 "metadata": {
  "kernelspec": {
   "display_name": "Python 3",
   "language": "python",
   "name": "python3"
  },
  "language_info": {
   "codemirror_mode": {
    "name": "ipython",
    "version": 3
   },
   "file_extension": ".py",
   "mimetype": "text/x-python",
   "name": "python",
   "nbconvert_exporter": "python",
   "pygments_lexer": "ipython3",
   "version": "3.4.4"
  }
 },
 "nbformat": 4,
 "nbformat_minor": 0
}
