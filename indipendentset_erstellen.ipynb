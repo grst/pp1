{
 "cells": [
  {
   "cell_type": "code",
   "execution_count": 1,
   "metadata": {
    "collapsed": true
   },
   "outputs": [],
   "source": [
    "#!/usr/bin/python\n",
    "import re"
   ]
  },
  {
   "cell_type": "code",
   "execution_count": 16,
   "metadata": {
    "collapsed": false
   },
   "outputs": [],
   "source": [
    "daten = open(\"ss1_16_indepTestSet_groups5_6.txt\").readlines()\n",
    "rlen = 25\n",
    "i=0\n",
    "countO = 1\n",
    "countD = 1\n",
    "while i<len(daten) :\n",
    "    if daten[i].startswith(\">\"):\n",
    "        header = daten[i]\n",
    "        i=i+3\n",
    "        zeile = re.search('\\s\\d+\\s(\\w)\\s\\d.\\d\\d\\s([D-])',daten[i])\n",
    "        now = zeile.group(2)\n",
    "        sequenz = [zeile.group(1)]\n",
    "        i= i+1\n",
    "    elif daten[i].startswith(\" \"):\n",
    "        zeile = re.search('\\s\\d+\\s(\\w)\\s\\d.\\d\\d\\s([D-])',daten[i])\n",
    "        if now == zeile.group(2) and countD <rlen and countO < rlen:\n",
    "            sequenz.append(zeile.group(1))\n",
    "            if now=='D':\n",
    "                countD = countD+1\n",
    "            else:\n",
    "                countO = countO+1\n",
    "        elif countD == rlen:\n",
    "            sequenz = ''.join(sequenz)\n",
    "            newDisorder= open(\"possitiv/region_1_\"+header[1:len(header)-1]+'_'+str(i)+'.fa','w')\n",
    "            newDisorder.write(header+sequenz)\n",
    "            newDisorder.close\n",
    "            sequenz=[zeile.group(1)]\n",
    "            countD =1\n",
    "            now = zeile.group(2)\n",
    "        elif countO == rlen:\n",
    "            sequenz = ''.join(sequenz)\n",
    "            newOrder= open(\"negativ/region_1_\"+header[1:len(header)-1]+'_'+str(i)+'.fa','w')\n",
    "            newOrder.write(header+sequenz)\n",
    "            newOrder.close()\n",
    "            countO=1\n",
    "            sequenz = [zeile.group(1)]\n",
    "            now = zeile.group(2)\n",
    "        else:\n",
    "            sequenz= [zeile.group(1)]\n",
    "            countO=1\n",
    "            countD=1\n",
    "            now = zeile.group(2)\n",
    "        i=i+1\n",
    "    else:\n",
    "        i=i+1\n"
   ]
  },
  {
   "cell_type": "code",
   "execution_count": 2,
   "metadata": {
    "collapsed": false
   },
   "outputs": [],
   "source": [
    "zeile=    \" 2\tQ\t0.01\t-\t0.60\tD\t0.13\t-\t0.677\t6\tD\""
   ]
  },
  {
   "cell_type": "code",
   "execution_count": 3,
   "metadata": {
    "collapsed": false
   },
   "outputs": [
    {
     "data": {
      "text/plain": [
       "' 2\\tQ\\t0.01\\t-\\t0.60\\tD\\t0.13\\t-\\t0.677\\t6\\tD'"
      ]
     },
     "execution_count": 3,
     "metadata": {},
     "output_type": "execute_result"
    }
   ],
   "source": [
    "\n",
    "zeile"
   ]
  },
  {
   "cell_type": "code",
   "execution_count": 8,
   "metadata": {
    "collapsed": false
   },
   "outputs": [],
   "source": [
    "x=re.search('\\s\\d+\\s(\\w)\\s\\d.\\d\\d\\s([D-])',zeile)"
   ]
  },
  {
   "cell_type": "code",
   "execution_count": 10,
   "metadata": {
    "collapsed": false
   },
   "outputs": [
    {
     "data": {
      "text/plain": [
       "'-'"
      ]
     },
     "execution_count": 10,
     "metadata": {},
     "output_type": "execute_result"
    }
   ],
   "source": [
    "x.group(2)"
   ]
  },
  {
   "cell_type": "code",
   "execution_count": 13,
   "metadata": {
    "collapsed": false
   },
   "outputs": [
    {
     "data": {
      "text/plain": [
       "True"
      ]
     },
     "execution_count": 13,
     "metadata": {},
     "output_type": "execute_result"
    }
   ],
   "source": [
    "x.group(2)=='-'"
   ]
  },
  {
   "cell_type": "code",
   "execution_count": 14,
   "metadata": {
    "collapsed": false
   },
   "outputs": [
    {
     "data": {
      "text/plain": [
       "['N',\n",
       " 'V',\n",
       " 'L',\n",
       " 'L',\n",
       " 'L',\n",
       " 'M',\n",
       " 'C',\n",
       " 'A',\n",
       " 'V',\n",
       " 'T',\n",
       " 'L',\n",
       " 'M',\n",
       " 'V',\n",
       " 'C',\n",
       " 'V',\n",
       " 'S',\n",
       " 'S',\n",
       " 'E',\n",
       " 'T',\n",
       " 'Y',\n",
       " 'C',\n",
       " 'G',\n",
       " 'S',\n",
       " 'Q',\n",
       " 'L',\n",
       " 'C',\n",
       " 'G',\n",
       " 'E',\n",
       " 'G',\n",
       " 'Y',\n",
       " 'C',\n",
       " 'C',\n",
       " 'T',\n",
       " 'G',\n",
       " 'G',\n",
       " 'H',\n",
       " 'F',\n",
       " 'R',\n",
       " 'R',\n",
       " 'Q',\n",
       " 'C',\n",
       " 'R',\n",
       " 'P',\n",
       " 'L',\n",
       " 'A',\n",
       " 'D',\n",
       " 'E',\n",
       " 'G',\n",
       " 'Q',\n",
       " 'Q',\n",
       " 'C',\n",
       " 'E',\n",
       " 'K',\n",
       " 'E',\n",
       " 'N',\n",
       " 'K',\n",
       " 'Y',\n",
       " 'N',\n",
       " 'D',\n",
       " 'Y',\n",
       " 'K',\n",
       " 'L',\n",
       " 'G',\n",
       " 'C',\n",
       " 'P',\n",
       " 'C',\n",
       " 'K',\n",
       " 'G',\n",
       " 'G',\n",
       " 'M',\n",
       " 'I',\n",
       " 'C',\n",
       " 'S',\n",
       " 'D',\n",
       " 'I',\n",
       " 'K',\n",
       " 'Y',\n",
       " 'C',\n",
       " 'Q',\n",
       " 'K',\n",
       " 'L']"
      ]
     },
     "execution_count": 14,
     "metadata": {},
     "output_type": "execute_result"
    }
   ],
   "source": [
    "sequenz\n"
   ]
  },
  {
   "cell_type": "code",
   "execution_count": null,
   "metadata": {
    "collapsed": true
   },
   "outputs": [],
   "source": []
  }
 ],
 "metadata": {
  "kernelspec": {
   "display_name": "Python 3",
   "language": "python",
   "name": "python3"
  },
  "language_info": {
   "codemirror_mode": {
    "name": "ipython",
    "version": 3
   },
   "file_extension": ".py",
   "mimetype": "text/x-python",
   "name": "python",
   "nbconvert_exporter": "python",
   "pygments_lexer": "ipython3",
   "version": "3.5.1"
  }
 },
 "nbformat": 4,
 "nbformat_minor": 0
}
