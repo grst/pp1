{
 "cells": [
  {
   "cell_type": "code",
   "execution_count": 53,
   "metadata": {
    "collapsed": false
   },
   "outputs": [],
   "source": [
    "import seaborn as sns\n",
    "import pandas as pd\n",
    "from pylab import * \n",
    "%matplotlib inline"
   ]
  },
  {
   "cell_type": "code",
   "execution_count": 8,
   "metadata": {
    "collapsed": false
   },
   "outputs": [],
   "source": [
    "fa_pos = !find data/region25/possitiv/ -iname \"*.fa\"\n",
    "fa_neg = !find data/region25/negativ/ -iname \"*.fa\""
   ]
  },
  {
   "cell_type": "code",
   "execution_count": 64,
   "metadata": {
    "collapsed": false
   },
   "outputs": [],
   "source": [
    "aas = \"ACDEFGHIKLMNPQRSTVWY\"\n",
    "aa_groups = {\n",
    "    \"positive\": \"RHK\",\n",
    "    \"negative\": \"DE\",\n",
    "    \"nonpolar\": \"GAVLIMFWP\",\n",
    "    \"polar\": \"STCYNQ\"\n",
    "}"
   ]
  },
  {
   "cell_type": "code",
   "execution_count": 65,
   "metadata": {
    "collapsed": false
   },
   "outputs": [],
   "source": [
    "disordered = []\n",
    "normal = []\n",
    "for fa in fa_pos:\n",
    "    with open(fa) as f:\n",
    "        f.readline()\n",
    "        seq = f.readline()\n",
    "        disordered.append(seq)\n",
    "for fa in fa_neg:\n",
    "    with open(fa) as f:\n",
    "        f.readline()\n",
    "        seq = f.readline()\n",
    "        normal.append(seq)"
   ]
  },
  {
   "cell_type": "code",
   "execution_count": 66,
   "metadata": {
    "collapsed": true
   },
   "outputs": [],
   "source": [
    "def count_aas(seqs, normalize = True):\n",
    "    counts = {aa: 0 for aa in aas}\n",
    "    for seq in seqs:\n",
    "        for aa in aas:\n",
    "            counts[aa] += seq.count(aa)\n",
    "    if normalize: \n",
    "        total = sum(list(counts.values()))\n",
    "        counts_norm = {}\n",
    "        counts_norm = {aa : counts[aa] / total for aa in aas}\n",
    "        return counts_norm\n",
    "    else:\n",
    "        return counts"
   ]
  },
  {
   "cell_type": "code",
   "execution_count": 67,
   "metadata": {
    "collapsed": false
   },
   "outputs": [],
   "source": [
    "counts_disordered = count_aas(disordered)\n",
    "counts_normal = count_aas(normal)"
   ]
  },
  {
   "cell_type": "code",
   "execution_count": 68,
   "metadata": {
    "collapsed": false
   },
   "outputs": [
    {
     "data": {
      "text/plain": [
       "{'A': 0.078747390396659706,\n",
       " 'C': 0.0073486430062630484,\n",
       " 'D': 0.066972860125260963,\n",
       " 'E': 0.096701461377870571,\n",
       " 'F': 0.025553235908141961,\n",
       " 'G': 0.073569937369519833,\n",
       " 'H': 0.022296450939457202,\n",
       " 'I': 0.02872651356993737,\n",
       " 'K': 0.07657620041753653,\n",
       " 'L': 0.061628392484342383,\n",
       " 'M': 0.021210855949895614,\n",
       " 'N': 0.032651356993736953,\n",
       " 'P': 0.072985386221294357,\n",
       " 'Q': 0.061878914405010435,\n",
       " 'R': 0.057286012526096032,\n",
       " 'S': 0.085929018789144052,\n",
       " 'T': 0.054112734864300627,\n",
       " 'V': 0.046764091858037579,\n",
       " 'W': 0.0063465553235908141,\n",
       " 'Y': 0.022713987473903966}"
      ]
     },
     "execution_count": 68,
     "metadata": {},
     "output_type": "execute_result"
    }
   ],
   "source": [
    "counts_disordered"
   ]
  },
  {
   "cell_type": "code",
   "execution_count": 69,
   "metadata": {
    "collapsed": false
   },
   "outputs": [
    {
     "data": {
      "text/plain": [
       "{'A': 0.076639741518578358,\n",
       " 'C': 0.016025848142164782,\n",
       " 'D': 0.052730210016155091,\n",
       " 'E': 0.06907915993537965,\n",
       " 'F': 0.036704361873990309,\n",
       " 'G': 0.069208400646203552,\n",
       " 'H': 0.02087237479806139,\n",
       " 'I': 0.047560581583198709,\n",
       " 'K': 0.059063004846526657,\n",
       " 'L': 0.090403877221324716,\n",
       " 'M': 0.023263327948303717,\n",
       " 'N': 0.042067851373182551,\n",
       " 'P': 0.062552504038772216,\n",
       " 'Q': 0.050533117932148625,\n",
       " 'R': 0.053311793214862679,\n",
       " 'S': 0.074313408723747976,\n",
       " 'T': 0.04949919224555735,\n",
       " 'V': 0.064103392568659129,\n",
       " 'W': 0.012277867528271405,\n",
       " 'Y': 0.029789983844911147}"
      ]
     },
     "execution_count": 69,
     "metadata": {},
     "output_type": "execute_result"
    }
   ],
   "source": [
    "counts_normal"
   ]
  },
  {
   "cell_type": "code",
   "execution_count": 93,
   "metadata": {
    "collapsed": false
   },
   "outputs": [],
   "source": [
    "df = pd.DataFrame({\"disordered\": list(counts_disordered.values()), \"well-structured\": list(counts_normal.values())}, index= list(counts_disordered.keys()))"
   ]
  },
  {
   "cell_type": "code",
   "execution_count": 107,
   "metadata": {
    "collapsed": true
   },
   "outputs": [],
   "source": [
    "df = df.sort_index()"
   ]
  },
  {
   "cell_type": "code",
   "execution_count": 108,
   "metadata": {
    "collapsed": false
   },
   "outputs": [
    {
     "data": {
      "text/plain": [
       "<matplotlib.axes._subplots.AxesSubplot at 0x7fa9bda75710>"
      ]
     },
     "execution_count": 108,
     "metadata": {},
     "output_type": "execute_result"
    },
    {
     "data": {
      "image/png": "[encoded data removed]",
      "text/plain": [
       "<matplotlib.figure.Figure at 0x7fa9bdadcda0>"
      ]
     },
     "metadata": {},
     "output_type": "display_data"
    }
   ],
   "source": [
    "fig, ax = subplots(figsize=(15,4))\n",
    "df.plot.bar(ax = ax)"
   ]
  },
  {
   "cell_type": "markdown",
   "metadata": {},
   "source": [
    "## count groups"
   ]
  },
  {
   "cell_type": "code",
   "execution_count": 78,
   "metadata": {
    "collapsed": false
   },
   "outputs": [],
   "source": [
    "disordered_grouped = {k: 0 for k in aa_groups.keys()}\n",
    "normal_grouped = {k: 0 for k in aa_groups.keys()}\n",
    "\n",
    "for group, gaas in aa_groups.items():\n",
    "    for aa in gaas:\n",
    "        disordered_grouped[group] += counts_disordered[aa]\n",
    "        normal_grouped[group] += counts_normal[aa]"
   ]
  },
  {
   "cell_type": "code",
   "execution_count": 109,
   "metadata": {
    "collapsed": false
   },
   "outputs": [],
   "source": [
    "dfg = pd.DataFrame({\"disordered\": list(disordered_grouped.values()), \"well-structured\": list(normal_grouped.values())}, index=list(normal_grouped.keys()))"
   ]
  },
  {
   "cell_type": "code",
   "execution_count": 106,
   "metadata": {
    "collapsed": false
   },
   "outputs": [
    {
     "data": {
      "text/plain": [
       "<matplotlib.axes._subplots.AxesSubplot at 0x7fa9bdaf54a8>"
      ]
     },
     "execution_count": 106,
     "metadata": {},
     "output_type": "execute_result"
    },
    {
     "data": {
      "image/png": "[encoded data removed]",
      "text/plain": [
       "<matplotlib.figure.Figure at 0x7fa9bdadcb00>"
      ]
     },
     "metadata": {},
     "output_type": "display_data"
    }
   ],
   "source": [
    "dfg.plot.bar()"
   ]
  },
  {
   "cell_type": "code",
   "execution_count": null,
   "metadata": {
    "collapsed": true
   },
   "outputs": [],
   "source": []
  },
  {
   "cell_type": "code",
   "execution_count": null,
   "metadata": {
    "collapsed": true
   },
   "outputs": [],
   "source": []
  }
 ],
 "metadata": {
  "kernelspec": {
   "display_name": "Python 3",
   "language": "python",
   "name": "python3"
  },
  "language_info": {
   "codemirror_mode": {
    "name": "ipython",
    "version": 3
   },
   "file_extension": ".py",
   "mimetype": "text/x-python",
   "name": "python",
   "nbconvert_exporter": "python",
   "pygments_lexer": "ipython3",
   "version": "3.4.4"
  }
 },
 "nbformat": 4,
 "nbformat_minor": 0
}
