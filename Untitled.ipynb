{
 "cells": [
  {
   "cell_type": "code",
   "execution_count": 22,
   "metadata": {
    "collapsed": false
   },
   "outputs": [],
   "source": [
    "from microbio.formats.fasta import FastaReader\n",
    "import re\n",
    "%matplotlib inline \n",
    "import seaborn as sns\n",
    "sns.set_context(\"talk\")\n",
    "from pylab import * "
   ]
  },
  {
   "cell_type": "code",
   "execution_count": 18,
   "metadata": {
    "collapsed": false
   },
   "outputs": [],
   "source": [
    "fa = FastaReader(\"data/disprot_fasta_v6.02.txt\")\n",
    "ratios = []\n",
    "for head, seq in fa.get_entries(): \n",
    "    fragments = head.split()\n",
    "    totlen = len(seq.strip())\n",
    "    prot_map = [0 for _ in range(totlen)]\n",
    "    for frag in fragments:\n",
    "        if frag[0] == \"#\": \n",
    "            start, stop = frag[1:].split(\"-\")\n",
    "            for i in range(int(start), int(stop)):\n",
    "                prot_map[i] = 1\n",
    "    ratios.append(sum(prot_map) / totlen)\n",
    "    "
   ]
  },
  {
   "cell_type": "code",
   "execution_count": 19,
   "metadata": {
    "collapsed": false
   },
   "outputs": [],
   "source": [
    "ratios = sorted(ratios)"
   ]
  },
  {
   "cell_type": "code",
   "execution_count": 20,
   "metadata": {
    "collapsed": false
   },
   "outputs": [
    {
     "data": {
      "text/plain": [
       "[0.99354838709677418,\n",
       " 0.99390243902439024,\n",
       " 0.99397590361445787,\n",
       " 0.99401197604790414,\n",
       " 0.99408284023668636,\n",
       " 0.99408284023668636,\n",
       " 0.99411764705882355,\n",
       " 0.99415204678362568,\n",
       " 0.9942196531791907,\n",
       " 0.99428571428571433,\n",
       " 0.9943820224719101,\n",
       " 0.99459459459459465,\n",
       " 0.9946236559139785,\n",
       " 0.99479166666666663,\n",
       " 0.99481865284974091,\n",
       " 0.99504950495049505,\n",
       " 0.99504950495049505,\n",
       " 0.99509803921568629,\n",
       " 0.99509803921568629,\n",
       " 0.99512195121951219,\n",
       " 0.99514563106796117,\n",
       " 0.99526066350710896,\n",
       " 0.99532710280373837,\n",
       " 0.99546485260770978,\n",
       " 0.9955357142857143,\n",
       " 0.99557522123893805,\n",
       " 0.99557522123893805,\n",
       " 0.99561403508771928,\n",
       " 0.99572649572649574,\n",
       " 0.99588477366255146,\n",
       " 0.99609375,\n",
       " 0.99615384615384617,\n",
       " 0.99622641509433962,\n",
       " 0.99622641509433962,\n",
       " 0.99642857142857144,\n",
       " 0.99676375404530748,\n",
       " 0.99681528662420382,\n",
       " 0.99683544303797467,\n",
       " 0.99684542586750791,\n",
       " 0.99710144927536237,\n",
       " 0.99710144927536237,\n",
       " 0.99735449735449733,\n",
       " 0.99746835443037973,\n",
       " 0.99830508474576274,\n",
       " 0.99836867862969003,\n",
       " 0.99845201238390091,\n",
       " 0.99846390168970811,\n",
       " 0.99861111111111112,\n",
       " 0.99899598393574296,\n",
       " 0.99946265448683502]"
      ]
     },
     "execution_count": 20,
     "metadata": {},
     "output_type": "execute_result"
    }
   ],
   "source": [
    "ratios[-50:]"
   ]
  },
  {
   "cell_type": "code",
   "execution_count": 27,
   "metadata": {
    "collapsed": false
   },
   "outputs": [
    {
     "data": {
      "image/png": "[encoded data removed]",
      "text/plain": [
       "<matplotlib.figure.Figure at 0x7f0e92c6e208>"
      ]
     },
     "metadata": {},
     "output_type": "display_data"
    }
   ],
   "source": [
    "fig, ax = subplots(figsize=(5,4))\n",
    "ax.plot(ratios)\n",
    "ax.set_xlabel(\"# proteins\")\n",
    "ax.set_ylabel(\"fraction disordered\")\n",
    "ax.set_title(\"Disprot Composition\")\n",
    "fig.savefig(\"pres/img/disprot_comp.pdf\")"
   ]
  },
  {
   "cell_type": "code",
   "execution_count": null,
   "metadata": {
    "collapsed": true
   },
   "outputs": [],
   "source": []
  }
 ],
 "metadata": {
  "kernelspec": {
   "display_name": "Python 3",
   "language": "python",
   "name": "python3"
  },
  "language_info": {
   "codemirror_mode": {
    "name": "ipython",
    "version": 3
   },
   "file_extension": ".py",
   "mimetype": "text/x-python",
   "name": "python",
   "nbconvert_exporter": "python",
   "pygments_lexer": "ipython3",
   "version": "3.4.4"
  }
 },
 "nbformat": 4,
 "nbformat_minor": 0
}
