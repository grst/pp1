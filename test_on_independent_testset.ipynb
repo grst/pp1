{
 "cells": [
  {
   "cell_type": "code",
   "execution_count": 4,
   "metadata": {
    "collapsed": true
   },
   "outputs": [],
   "source": [
    "import itertools\n",
    "import os.path"
   ]
  },
  {
   "cell_type": "markdown",
   "metadata": {},
   "source": [
    "## prepare arff files"
   ]
  },
  {
   "cell_type": "code",
   "execution_count": 2,
   "metadata": {
    "collapsed": true
   },
   "outputs": [],
   "source": [
    "ls = [25, 30]\n",
    "methods = [\"norsnet\", \"bval\", \"ucon\"]"
   ]
  },
  {
   "cell_type": "code",
   "execution_count": 3,
   "metadata": {
    "collapsed": false
   },
   "outputs": [
    {
     "name": "stdout",
     "output_type": "stream",
     "text": [
      "data/testset25.norsnet\n",
      "data/testset25.bval\n",
      "data/testset25.ucon\n",
      "data/testset30.norsnet\n",
      "data/testset30.bval\n",
      "data/testset30.ucon\n"
     ]
    }
   ],
   "source": [
    "for l, m in itertools.product(ls, methods):\n",
    "    path = \"data/testset{}.{}\".format(l, m)\n",
    "    files = !find {path} -iname \"*.fa\"\n",
    "    ids = []\n",
    "    for file in files:\n",
    "        filename\n",
    "    with open(\"{}/testset{}.{}.arff\".format(path, l, m), 'w') as arfffile:\n",
    "        arfffile.write(\"@relation docs\\n\")\n",
    "        arfffile.write(\"@attribute identifier {\" + sIds + \"}\\n\")\n",
    "        arfffile.write(\"@attribute class {positive,negative}\\n\")\n",
    "        arfffile.write(\"@data\\n\")\n",
    "        for fid, group in ids: \n",
    "            arfffile.write(fid[1:] + \",\" + group + \"\\n\")\n",
    "            "
   ]
  },
  {
   "cell_type": "markdown",
   "metadata": {},
   "source": [
    "## run weka"
   ]
  },
  {
   "cell_type": "code",
   "execution_count": null,
   "metadata": {
    "collapsed": true
   },
   "outputs": [],
   "source": [
    "l = 1\n",
    "y = 4"
   ]
  },
  {
   "cell_type": "code",
   "execution_count": null,
   "metadata": {
    "collapsed": true
   },
   "outputs": [],
   "source": [
    "java -Xmx5g -cp /mnt/opt/data/pp1_14_exercise/wekaTobi.jar:/mnt/opt/data/pp1_14_exercise/weka.jar: weka.classifiers.meta.CVParameterSelection -t /path/to/train_arff.file -T /path/to/test_arff.file -S 1 -W weka.classifiers.functions.SMO -- -C 1.0 -L 0.0010 -P 1.0E-12 -N 0 -V -1 -W 1 -K \"weka.classifiers.functions.supportVector.CustomPrecomputedKernelMatrixKernelFast -M /path/to/normalized_matrix.txt\"\n"
   ]
  },
  {
   "cell_type": "code",
   "execution_count": 5,
   "metadata": {
    "collapsed": false
   },
   "outputs": [
    {
     "data": {
      "text/plain": [
       "'x.y.z'"
      ]
     },
     "execution_count": 5,
     "metadata": {},
     "output_type": "execute_result"
    }
   ],
   "source": [
    "os.path.basename(\"/fo/baar/x.y.z\")"
   ]
  },
  {
   "cell_type": "code",
   "execution_count": null,
   "metadata": {
    "collapsed": true
   },
   "outputs": [],
   "source": []
  }
 ],
 "metadata": {
  "kernelspec": {
   "display_name": "Python 3",
   "language": "python",
   "name": "python3"
  },
  "language_info": {
   "codemirror_mode": {
    "name": "ipython",
    "version": 3
   },
   "file_extension": ".py",
   "mimetype": "text/x-python",
   "name": "python",
   "nbconvert_exporter": "python",
   "pygments_lexer": "ipython3",
   "version": "3.4.4"
  }
 },
 "nbformat": 4,
 "nbformat_minor": 0
}
