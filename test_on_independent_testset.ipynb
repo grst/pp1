{
 "cells": [
  {
   "cell_type": "code",
   "execution_count": 59,
   "metadata": {
    "collapsed": false
   },
   "outputs": [],
   "source": [
    "import itertools\n",
    "import os.path\n",
    "from mltools.weka import *\n",
    "from mltools.perfmeasures import * \n",
    "from mltools.mltools import * \n",
    "import pandas as pd\n",
    "import seaborn as sns\n",
    "sns.set_context(\"talk\")\n",
    "from pylab import * \n",
    "%matplotlib inline"
   ]
  },
  {
   "cell_type": "markdown",
   "metadata": {},
   "source": [
    "## run profkernel"
   ]
  },
  {
   "cell_type": "code",
   "execution_count": 27,
   "metadata": {
    "collapsed": true
   },
   "outputs": [],
   "source": [
    "l = 1\n",
    "y = 3\n",
    "fraglen = 25\n",
    "method = \"bval\"\n",
    "path = \"data/testset{0}.{1}/testset{0}.{1}\".format(fraglen, method)"
   ]
  },
  {
   "cell_type": "code",
   "execution_count": 28,
   "metadata": {
    "collapsed": false
   },
   "outputs": [
    {
     "name": "stdout",
     "output_type": "stream",
     "text": [
      ">>> Working on parameters L=1, Y=3\n"
     ]
    }
   ],
   "source": [
    "print(\">>> Working on parameters L={0}, Y={1}\".format(l, y))\n",
    "!profkernel-core -o {path}.idfile -K -L {l} -Y {y} -i /usr/share/fastprofkernel/data/Amino.txt -g /usr/share/fastprofkernel/data/Globals.txt {path}.kernelinput > {path}_L{l}_Y{y}.mat 2> {path}_L{l}_Y{y}.mat.log"
   ]
  },
  {
   "cell_type": "code",
   "execution_count": 29,
   "metadata": {
    "collapsed": false
   },
   "outputs": [
    {
     "data": {
      "text/plain": [
       "2098"
      ]
     },
     "execution_count": 29,
     "metadata": {},
     "output_type": "execute_result"
    }
   ],
   "source": [
    "row_count = !wc -l \"{path}_L{l}_Y{y}.mat\"\n",
    "row_count = int(row_count[0].split(\" \")[0])\n",
    "row_count"
   ]
  },
  {
   "cell_type": "code",
   "execution_count": 30,
   "metadata": {
    "collapsed": false
   },
   "outputs": [],
   "source": [
    "!echo \"{row_count} {row_count}\\n$(cat {path}_L{l}_Y{y}.mat)\" > {path}_L{l}_Y{y}.2.mat"
   ]
  },
  {
   "cell_type": "markdown",
   "metadata": {},
   "source": [
    "## run weka"
   ]
  },
  {
   "cell_type": "code",
   "execution_count": 31,
   "metadata": {
    "collapsed": false
   },
   "outputs": [],
   "source": [
    "## self test \n",
    "# !java -Xmx5g -cp bin/wekaTobi.jar:bin/weka.jar: weka.classifiers.meta.CVParameterSelection -p 1 -t {path}.train.arff -T {path}.train.arff -S 1 -W weka.classifiers.functions.SMO -- -C 1.0 -L 0.0010 -P 1.0E-12 -N 0 -V -1 -W 1 -K \"weka.classifiers.functions.supportVector.CustomPrecomputedKernelMatrixKernelFast -M data/region25_out/region25_L{l}_Y{y}.2.mat\" > {path}.self_L{l}_Y{y}.weka"
   ]
  },
  {
   "cell_type": "code",
   "execution_count": 32,
   "metadata": {
    "collapsed": false
   },
   "outputs": [],
   "source": [
    "!java -Xmx5g -cp bin/wekaTobi.jar:bin/weka.jar: weka.classifiers.meta.CVParameterSelection -p 1 -t {path}.train.arff -T {path}.test.arff -S 1 -W weka.classifiers.functions.SMO -- -C 1.0 -L 0.0010 -P 1.0E-12 -N 0 -V -1 -W 1 -K \"weka.classifiers.functions.supportVector.CustomPrecomputedKernelMatrixKernelFast -M {path}_L{l}_Y{y}.2.mat\" > {path}_L{l}_Y{y}.weka\n"
   ]
  },
  {
   "cell_type": "markdown",
   "metadata": {},
   "source": [
    "## get performances"
   ]
  },
  {
   "cell_type": "code",
   "execution_count": 63,
   "metadata": {
    "collapsed": false
   },
   "outputs": [],
   "source": [
    "perf_d = {}\n",
    "stderr_d = {}\n",
    "for method in [\"norsnet\", \"bval\", \"ucon\"]:\n",
    "    path = \"data/testset{0}.{1}/testset{0}.{1}\".format(fraglen, method)\n",
    "    \n",
    "    perf_dict = {}\n",
    "    instances = extract_confusion_matrix_instances(\"{0}_L{1}_Y{2}.weka\".format(path, l, y))\n",
    "    perfs = bootstrap(instances)\n",
    "    \n",
    "    mccs = []\n",
    "    senss = []\n",
    "    specs = []\n",
    "    for perf in perfs: \n",
    "        mccs.append(mcc(*perf))\n",
    "        senss.append(sens(*perf))\n",
    "        specs.append(spec(*perf))\n",
    "    perf_d[method] = {\"MCC\": np.mean(mccs), \"Sens.\": np.mean(senss), \"Spec.\": np.mean(specs)}\n",
    "    stderr_d[method] = {\"MCC\": stderr(mccs), \"Sens.\": stderr(senss), \"Spec.\": stderr(specs)}"
   ]
  },
  {
   "cell_type": "code",
   "execution_count": 64,
   "metadata": {
    "collapsed": false
   },
   "outputs": [
    {
     "data": {
      "text/html": [
       "<div>\n",
       "<table border=\"1\" class=\"dataframe\">\n",
       "  <thead>\n",
       "    <tr style=\"text-align: right;\">\n",
       "      <th></th>\n",
       "      <th>bval</th>\n",
       "      <th>norsnet</th>\n",
       "      <th>ucon</th>\n",
       "    </tr>\n",
       "  </thead>\n",
       "  <tbody>\n",
       "    <tr>\n",
       "      <th>MCC</th>\n",
       "      <td>0.323737</td>\n",
       "      <td>0.237609</td>\n",
       "      <td>0.373897</td>\n",
       "    </tr>\n",
       "    <tr>\n",
       "      <th>Sens.</th>\n",
       "      <td>0.248203</td>\n",
       "      <td>0.160215</td>\n",
       "      <td>0.239578</td>\n",
       "    </tr>\n",
       "    <tr>\n",
       "      <th>Spec.</th>\n",
       "      <td>1.000000</td>\n",
       "      <td>0.967686</td>\n",
       "      <td>0.976033</td>\n",
       "    </tr>\n",
       "  </tbody>\n",
       "</table>\n",
       "</div>"
      ],
      "text/plain": [
       "           bval   norsnet      ucon\n",
       "MCC    0.323737  0.237609  0.373897\n",
       "Sens.  0.248203  0.160215  0.239578\n",
       "Spec.  1.000000  0.967686  0.976033"
      ]
     },
     "execution_count": 64,
     "metadata": {},
     "output_type": "execute_result"
    }
   ],
   "source": [
    "perf_df = pd.DataFrame(perf_d)\n",
    "perf_df"
   ]
  },
  {
   "cell_type": "code",
   "execution_count": 65,
   "metadata": {
    "collapsed": false
   },
   "outputs": [
    {
     "data": {
      "text/html": [
       "<div>\n",
       "<table border=\"1\" class=\"dataframe\">\n",
       "  <thead>\n",
       "    <tr style=\"text-align: right;\">\n",
       "      <th></th>\n",
       "      <th>bval</th>\n",
       "      <th>norsnet</th>\n",
       "      <th>ucon</th>\n",
       "    </tr>\n",
       "  </thead>\n",
       "  <tbody>\n",
       "    <tr>\n",
       "      <th>MCC</th>\n",
       "      <td>0.000460</td>\n",
       "      <td>0.001485</td>\n",
       "      <td>0.001336</td>\n",
       "    </tr>\n",
       "    <tr>\n",
       "      <th>Sens.</th>\n",
       "      <td>0.000554</td>\n",
       "      <td>0.001380</td>\n",
       "      <td>0.001271</td>\n",
       "    </tr>\n",
       "    <tr>\n",
       "      <th>Spec.</th>\n",
       "      <td>0.000000</td>\n",
       "      <td>0.000183</td>\n",
       "      <td>0.000164</td>\n",
       "    </tr>\n",
       "  </tbody>\n",
       "</table>\n",
       "</div>"
      ],
      "text/plain": [
       "           bval   norsnet      ucon\n",
       "MCC    0.000460  0.001485  0.001336\n",
       "Sens.  0.000554  0.001380  0.001271\n",
       "Spec.  0.000000  0.000183  0.000164"
      ]
     },
     "execution_count": 65,
     "metadata": {},
     "output_type": "execute_result"
    }
   ],
   "source": [
    "stderr_df = pd.DataFrame(stderr_d)\n",
    "stderr_df"
   ]
  },
  {
   "cell_type": "code",
   "execution_count": 91,
   "metadata": {
    "collapsed": false
   },
   "outputs": [
    {
     "data": {
      "image/png": "[encoded data removed]",
      "text/plain": [
       "<matplotlib.figure.Figure at 0x7fa07c715048>"
      ]
     },
     "metadata": {},
     "output_type": "display_data"
    }
   ],
   "source": [
    "fig, ax = subplots(figsize=(5,4))\n",
    "pd.DataFrame(perf_df.ix[\"MCC\"]).plot.bar(ax= ax, yerr=pd.DataFrame(stderr_df.ix[\"MCC\"]))\n",
    "ax.set_xticklabels(ax.xaxis.get_majorticklabels(), rotation=0)\n",
    "legend(bbox_to_anchor=(0., 1.02, 1., .102), loc=3, borderaxespad=0.)\n",
    "fig.savefig(\"pres/img/mcc_testset.pdf\")"
   ]
  },
  {
   "cell_type": "code",
   "execution_count": 93,
   "metadata": {
    "collapsed": false
   },
   "outputs": [
    {
     "data": {
      "image/png": "[encoded data removed]",
      "text/plain": [
       "<matplotlib.figure.Figure at 0x7fa07c6b4b70>"
      ]
     },
     "metadata": {},
     "output_type": "display_data"
    }
   ],
   "source": [
    "fig, ax = subplots(figsize=(5,4))\n",
    "perf_df.loc[[\"Sens.\", \"Spec.\"]].transpose().plot.bar(ax= ax, yerr=stderr_df.loc[[\"Sens.\", \"Spec.\"]].transpose())\n",
    "ax.set_xticklabels(ax.xaxis.get_majorticklabels(), rotation=0)\n",
    "legend(bbox_to_anchor=(0., 1.02, 1., .102), loc=3, borderaxespad=0., ncol=2)\n",
    "fig.savefig(\"pres/img/sens_spec_testset.pdf\")"
   ]
  },
  {
   "cell_type": "code",
   "execution_count": null,
   "metadata": {
    "collapsed": true
   },
   "outputs": [],
   "source": []
  }
 ],
 "metadata": {
  "kernelspec": {
   "display_name": "Python 3",
   "language": "python",
   "name": "python3"
  },
  "language_info": {
   "codemirror_mode": {
    "name": "ipython",
    "version": 3
   },
   "file_extension": ".py",
   "mimetype": "text/x-python",
   "name": "python",
   "nbconvert_exporter": "python",
   "pygments_lexer": "ipython3",
   "version": "3.4.4"
  }
 },
 "nbformat": 4,
 "nbformat_minor": 0
}
