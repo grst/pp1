{
 "cells": [
  {
   "cell_type": "code",
   "execution_count": 1,
   "metadata": {
    "collapsed": false
   },
   "outputs": [],
   "source": [
    "from pylab import * \n",
    "%matplotlib inline\n",
    "import seaborn as sns\n",
    "import numpy as np"
   ]
  },
  {
   "cell_type": "code",
   "execution_count": 2,
   "metadata": {
    "collapsed": true
   },
   "outputs": [],
   "source": [
    "from microbio.formats.fasta import FastaReader\n",
    "aas = \"ACDEFGHIKLMNPQRSTVWY\""
   ]
  },
  {
   "cell_type": "markdown",
   "metadata": {},
   "source": [
    "### sequence length distribution "
   ]
  },
  {
   "cell_type": "code",
   "execution_count": 3,
   "metadata": {
    "collapsed": false
   },
   "outputs": [],
   "source": [
    "fr_dis = FastaReader(\"../disprot_selected.fa\")"
   ]
  },
  {
   "cell_type": "code",
   "execution_count": 4,
   "metadata": {
    "collapsed": true
   },
   "outputs": [],
   "source": [
    "fr_pdb = FastaReader(\"../pdb_filtered_no_disprot.fa\")"
   ]
  },
  {
   "cell_type": "code",
   "execution_count": 5,
   "metadata": {
    "collapsed": false
   },
   "outputs": [],
   "source": [
    "lengths_pdb = []\n",
    "seqs_pdb = []\n",
    "for hdr, seq in fr_pdb.get_entries():\n",
    "    lengths_pdb.append(len(seq))\n",
    "    seqs_pdb.append(seq)"
   ]
  },
  {
   "cell_type": "code",
   "execution_count": 6,
   "metadata": {
    "collapsed": false
   },
   "outputs": [],
   "source": [
    "lengths_dis = []\n",
    "seqs_dis = []\n",
    "for hdr, seq in fr_dis.get_entries():\n",
    "    lengths_dis.append(len(seq))\n",
    "    seqs_dis.append(seq)"
   ]
  },
  {
   "cell_type": "code",
   "execution_count": 7,
   "metadata": {
    "collapsed": false
   },
   "outputs": [
    {
     "data": {
      "text/plain": [
       "(array([ 169.,  143.,   73.,   49.,   27.,   16.,   12.,    5.,    5.,\n",
       "           2.,    1.,    4.,    3.,    2.,    3.]),\n",
       " array([  0,  50, 100, 150, 200, 250, 300, 350, 400, 450, 500, 550, 600,\n",
       "        650, 700, 750]),\n",
       " <a list of 15 Patch objects>)"
      ]
     },
     "execution_count": 7,
     "metadata": {},
     "output_type": "execute_result"
    },
    {
     "data": {
      "image/png": "[encoded data removed]",
      "text/plain": [
       "<matplotlib.figure.Figure at 0x7f6707249438>"
      ]
     },
     "metadata": {},
     "output_type": "display_data"
    }
   ],
   "source": [
    "hist(lengths_dis, bins=range(0, 800, 50))"
   ]
  },
  {
   "cell_type": "code",
   "execution_count": 8,
   "metadata": {
    "collapsed": false
   },
   "outputs": [
    {
     "data": {
      "text/plain": [
       "(array([ 11309.,   9595.,  11890.,   9846.,   7933.,   7017.,   5277.,\n",
       "          3269.,   2187.,   1585.,    866.,    766.,    360.,    230.,\n",
       "           267.]),\n",
       " array([  0,  50, 100, 150, 200, 250, 300, 350, 400, 450, 500, 550, 600,\n",
       "        650, 700, 750]),\n",
       " <a list of 15 Patch objects>)"
      ]
     },
     "execution_count": 8,
     "metadata": {},
     "output_type": "execute_result"
    },
    {
     "data": {
      "image/png": "[encoded data removed]",
      "text/plain": [
       "<matplotlib.figure.Figure at 0x7f67072feb70>"
      ]
     },
     "metadata": {},
     "output_type": "display_data"
    }
   ],
   "source": [
    "hist(lengths_pdb, bins=range(0, 800, 50))"
   ]
  },
  {
   "cell_type": "code",
   "execution_count": 9,
   "metadata": {
    "collapsed": true
   },
   "outputs": [],
   "source": [
    "total_counts_dis = {aa: 0 for aa in aas}\n",
    "for seq in seqs_dis: \n",
    "    for aa in aas: \n",
    "        total_counts_dis[aa] += seq.count(aa)"
   ]
  },
  {
   "cell_type": "code",
   "execution_count": 10,
   "metadata": {
    "collapsed": false
   },
   "outputs": [],
   "source": [
    "total_counts_pdb = {aa: 0 for aa in aas}\n",
    "for seq in seqs_pdb: \n",
    "    for aa in aas: \n",
    "        total_counts_pdb[aa] += seq.count(aa)"
   ]
  },
  {
   "cell_type": "code",
   "execution_count": 29,
   "metadata": {
    "collapsed": false
   },
   "outputs": [],
   "source": [
    "spdb = sum(list(total_counts_pdb.values()))\n",
    "sdis = sum(list(total_counts_dis.values()))"
   ]
  },
  {
   "cell_type": "code",
   "execution_count": 37,
   "metadata": {
    "collapsed": false
   },
   "outputs": [],
   "source": [
    "rel_counts_dis = {k: total_counts_dis[k]/sdis for k in aas}\n",
    "rel_counts_pdb = {k: total_counts_pdb[k]/spdb for k in aas}"
   ]
  },
  {
   "cell_type": "code",
   "execution_count": 38,
   "metadata": {
    "collapsed": false
   },
   "outputs": [],
   "source": [
    "x, height = zip(*rel_counts_dis.items())\n",
    "xd, heightd = zip(*rel_counts_pdb.items())"
   ]
  },
  {
   "cell_type": "code",
   "execution_count": 39,
   "metadata": {
    "collapsed": false
   },
   "outputs": [
    {
     "data": {
      "text/plain": [
       "((0.061734897227125204,\n",
       "  0.057806183453851849,\n",
       "  0.081535045265615211,\n",
       "  0.018846438535557706,\n",
       "  0.034319307635369813,\n",
       "  0.069264931959232473,\n",
       "  0.055998405739338383,\n",
       "  0.079955019074190059,\n",
       "  0.043358196207937141,\n",
       "  0.030476000683254571,\n",
       "  0.086602516654330122,\n",
       "  0.016511985423902524,\n",
       "  0.018917610886522804,\n",
       "  0.0053236918521892612,\n",
       "  0.0625320275579343,\n",
       "  0.05312304276034846,\n",
       "  0.10600409952741559,\n",
       "  0.0067898422820702612,\n",
       "  0.022163070090531232,\n",
       "  0.088737687183283037),\n",
       " (0.089475786406993441,\n",
       "  0.070324678136491264,\n",
       "  0.081487439831919098,\n",
       "  0.024087740174351033,\n",
       "  0.044228558165798029,\n",
       "  0.076871935303399544,\n",
       "  0.056597192993395586,\n",
       "  0.046803189103147014,\n",
       "  0.049005630987579263,\n",
       "  0.055709468061336365,\n",
       "  0.058184400553572324,\n",
       "  0.020908128818150799,\n",
       "  0.036547898035996056,\n",
       "  0.015391181294936615,\n",
       "  0.058444905177356191,\n",
       "  0.036992765107622706,\n",
       "  0.063445901122560155,\n",
       "  0.014216485577847408,\n",
       "  0.040467799792496983,\n",
       "  0.060808915355050133))"
      ]
     },
     "execution_count": 39,
     "metadata": {},
     "output_type": "execute_result"
    }
   ],
   "source": [
    "height, heightd"
   ]
  },
  {
   "cell_type": "code",
   "execution_count": 53,
   "metadata": {
    "collapsed": true
   },
   "outputs": [],
   "source": [
    "import pandas as pd"
   ]
  },
  {
   "cell_type": "code",
   "execution_count": 57,
   "metadata": {
    "collapsed": false
   },
   "outputs": [],
   "source": [
    "df = pd.DataFrame.from_dict({'pdb': height, 'dis': heightd})"
   ]
  },
  {
   "cell_type": "code",
   "execution_count": 58,
   "metadata": {
    "collapsed": false
   },
   "outputs": [
    {
     "data": {
      "text/html": [
       "<div>\n",
       "<table border=\"1\" class=\"dataframe\">\n",
       "  <thead>\n",
       "    <tr style=\"text-align: right;\">\n",
       "      <th></th>\n",
       "      <th>dis</th>\n",
       "      <th>pdb</th>\n",
       "    </tr>\n",
       "  </thead>\n",
       "  <tbody>\n",
       "    <tr>\n",
       "      <th>0</th>\n",
       "      <td>0.089476</td>\n",
       "      <td>0.061735</td>\n",
       "    </tr>\n",
       "    <tr>\n",
       "      <th>1</th>\n",
       "      <td>0.070325</td>\n",
       "      <td>0.057806</td>\n",
       "    </tr>\n",
       "    <tr>\n",
       "      <th>2</th>\n",
       "      <td>0.081487</td>\n",
       "      <td>0.081535</td>\n",
       "    </tr>\n",
       "    <tr>\n",
       "      <th>3</th>\n",
       "      <td>0.024088</td>\n",
       "      <td>0.018846</td>\n",
       "    </tr>\n",
       "    <tr>\n",
       "      <th>4</th>\n",
       "      <td>0.044229</td>\n",
       "      <td>0.034319</td>\n",
       "    </tr>\n",
       "    <tr>\n",
       "      <th>5</th>\n",
       "      <td>0.076872</td>\n",
       "      <td>0.069265</td>\n",
       "    </tr>\n",
       "    <tr>\n",
       "      <th>6</th>\n",
       "      <td>0.056597</td>\n",
       "      <td>0.055998</td>\n",
       "    </tr>\n",
       "    <tr>\n",
       "      <th>7</th>\n",
       "      <td>0.046803</td>\n",
       "      <td>0.079955</td>\n",
       "    </tr>\n",
       "    <tr>\n",
       "      <th>8</th>\n",
       "      <td>0.049006</td>\n",
       "      <td>0.043358</td>\n",
       "    </tr>\n",
       "    <tr>\n",
       "      <th>9</th>\n",
       "      <td>0.055709</td>\n",
       "      <td>0.030476</td>\n",
       "    </tr>\n",
       "    <tr>\n",
       "      <th>10</th>\n",
       "      <td>0.058184</td>\n",
       "      <td>0.086603</td>\n",
       "    </tr>\n",
       "    <tr>\n",
       "      <th>11</th>\n",
       "      <td>0.020908</td>\n",
       "      <td>0.016512</td>\n",
       "    </tr>\n",
       "    <tr>\n",
       "      <th>12</th>\n",
       "      <td>0.036548</td>\n",
       "      <td>0.018918</td>\n",
       "    </tr>\n",
       "    <tr>\n",
       "      <th>13</th>\n",
       "      <td>0.015391</td>\n",
       "      <td>0.005324</td>\n",
       "    </tr>\n",
       "    <tr>\n",
       "      <th>14</th>\n",
       "      <td>0.058445</td>\n",
       "      <td>0.062532</td>\n",
       "    </tr>\n",
       "    <tr>\n",
       "      <th>15</th>\n",
       "      <td>0.036993</td>\n",
       "      <td>0.053123</td>\n",
       "    </tr>\n",
       "    <tr>\n",
       "      <th>16</th>\n",
       "      <td>0.063446</td>\n",
       "      <td>0.106004</td>\n",
       "    </tr>\n",
       "    <tr>\n",
       "      <th>17</th>\n",
       "      <td>0.014216</td>\n",
       "      <td>0.006790</td>\n",
       "    </tr>\n",
       "    <tr>\n",
       "      <th>18</th>\n",
       "      <td>0.040468</td>\n",
       "      <td>0.022163</td>\n",
       "    </tr>\n",
       "    <tr>\n",
       "      <th>19</th>\n",
       "      <td>0.060809</td>\n",
       "      <td>0.088738</td>\n",
       "    </tr>\n",
       "  </tbody>\n",
       "</table>\n",
       "</div>"
      ],
      "text/plain": [
       "         dis       pdb\n",
       "0   0.089476  0.061735\n",
       "1   0.070325  0.057806\n",
       "2   0.081487  0.081535\n",
       "3   0.024088  0.018846\n",
       "4   0.044229  0.034319\n",
       "5   0.076872  0.069265\n",
       "6   0.056597  0.055998\n",
       "7   0.046803  0.079955\n",
       "8   0.049006  0.043358\n",
       "9   0.055709  0.030476\n",
       "10  0.058184  0.086603\n",
       "11  0.020908  0.016512\n",
       "12  0.036548  0.018918\n",
       "13  0.015391  0.005324\n",
       "14  0.058445  0.062532\n",
       "15  0.036993  0.053123\n",
       "16  0.063446  0.106004\n",
       "17  0.014216  0.006790\n",
       "18  0.040468  0.022163\n",
       "19  0.060809  0.088738"
      ]
     },
     "execution_count": 58,
     "metadata": {},
     "output_type": "execute_result"
    }
   ],
   "source": [
    "df"
   ]
  },
  {
   "cell_type": "code",
   "execution_count": 77,
   "metadata": {
    "collapsed": false
   },
   "outputs": [
    {
     "data": {
      "text/plain": [
       "<matplotlib.legend.Legend at 0x7f6702ca90b8>"
      ]
     },
     "execution_count": 77,
     "metadata": {},
     "output_type": "execute_result"
    },
    {
     "data": {
      "image/png": "[encoded data removed]",
      "text/plain": [
       "<matplotlib.figure.Figure at 0x7f6702ca90f0>"
      ]
     },
     "metadata": {},
     "output_type": "display_data"
    }
   ],
   "source": [
    "fig, ax = subplots()\n",
    "# bar(range(20), height)\n",
    "sns.barplot(x, height, ax=ax, color = \"red\", alpha=.5, label=\"disprot\")\n",
    "sns.barplot(x, heightd, ax=ax, color = \"blue\", alpha=.5, label=\"pdb\")\n",
    "legend()"
   ]
  },
  {
   "cell_type": "code",
   "execution_count": null,
   "metadata": {
    "collapsed": true
   },
   "outputs": [],
   "source": []
  }
 ],
 "metadata": {
  "kernelspec": {
   "display_name": "Python 3",
   "language": "python",
   "name": "python3"
  },
  "language_info": {
   "codemirror_mode": {
    "name": "ipython",
    "version": 3
   },
   "file_extension": ".py",
   "mimetype": "text/x-python",
   "name": "python",
   "nbconvert_exporter": "python",
   "pygments_lexer": "ipython3",
   "version": "3.5.1"
  }
 },
 "nbformat": 4,
 "nbformat_minor": 0
}
