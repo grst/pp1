{
 "cells": [
  {
   "cell_type": "code",
   "execution_count": 1,
   "metadata": {
    "collapsed": false
   },
   "outputs": [
    {
     "name": "stderr",
     "output_type": "stream",
     "text": [
      "/home/sturm/bin/anaconda3/lib/python3.4/site-packages/matplotlib-1.5.1+1724.g35e2781-py3.4-linux-x86_64.egg/matplotlib/__init__.py:898: UserWarning: axes.color_cycle is deprecated and replaced with axes.prop_cycle; please use the latter.\n",
      "  warnings.warn(self.msg_depr % (key, alt_key))\n"
     ]
    }
   ],
   "source": [
    "from math import sqrt\n",
    "import re\n",
    "import numpy as np\n",
    "import seaborn as sns\n",
    "import pandas as pd\n",
    "%matplotlib inline\n",
    "from pylab import * \n",
    "from itertools import product \n"
   ]
  },
  {
   "cell_type": "code",
   "execution_count": 2,
   "metadata": {
    "collapsed": true
   },
   "outputs": [],
   "source": [
    "ls = range(1,6) #length of kmer\n",
    "ys = [1, 2, 4, 5, 6, 10, 15] #some threshold\n",
    "region = \"data/region25_out/region25\""
   ]
  },
  {
   "cell_type": "markdown",
   "metadata": {},
   "source": [
    "### Run profile kernel"
   ]
  },
  {
   "cell_type": "code",
   "execution_count": 3,
   "metadata": {
    "collapsed": false,
    "scrolled": true
   },
   "outputs": [
    {
     "name": "stdout",
     "output_type": "stream",
     "text": [
      ">>> Working on parameters L=1, Y=1\n",
      ">>> Working on parameters L=1, Y=2\n",
      ">>> Working on parameters L=1, Y=4\n",
      ">>> Working on parameters L=1, Y=5\n",
      ">>> Working on parameters L=1, Y=6\n",
      ">>> Working on parameters L=1, Y=10\n",
      ">>> Working on parameters L=1, Y=15\n",
      ">>> Working on parameters L=2, Y=1\n",
      ">>> Working on parameters L=2, Y=2\n",
      ">>> Working on parameters L=2, Y=4\n",
      ">>> Working on parameters L=2, Y=5\n",
      ">>> Working on parameters L=2, Y=6\n",
      ">>> Working on parameters L=2, Y=10\n",
      ">>> Working on parameters L=2, Y=15\n",
      ">>> Working on parameters L=3, Y=1\n",
      ">>> Working on parameters L=3, Y=2\n",
      ">>> Working on parameters L=3, Y=4\n",
      ">>> Working on parameters L=3, Y=5\n",
      ">>> Working on parameters L=3, Y=6\n",
      ">>> Working on parameters L=3, Y=10\n",
      ">>> Working on parameters L=3, Y=15\n",
      ">>> Working on parameters L=4, Y=1\n",
      ">>> Working on parameters L=4, Y=2\n",
      ">>> Working on parameters L=4, Y=4\n",
      ">>> Working on parameters L=4, Y=5\n",
      ">>> Working on parameters L=4, Y=6\n",
      ">>> Working on parameters L=4, Y=10\n",
      ">>> Working on parameters L=4, Y=15\n",
      ">>> Working on parameters L=5, Y=1\n",
      ">>> Working on parameters L=5, Y=2\n",
      ">>> Working on parameters L=5, Y=4\n",
      ">>> Working on parameters L=5, Y=5\n",
      ">>> Working on parameters L=5, Y=6\n",
      ">>> Working on parameters L=5, Y=10\n",
      ">>> Working on parameters L=5, Y=15\n"
     ]
    }
   ],
   "source": [
    "for l, y in product(ls, ys):\n",
    "    print(\">>> Working on parameters L={0}, Y={1}\".format(l, y))\n",
    "    !profkernel-core -o {region}.idfile -K -L {l} -Y {y} -i /usr/share/fastprofkernel/data/Amino.txt -g /usr/share/fastprofkernel/data/Globals.txt {region}.kernelinput > {region}_L{l}_Y{y}.mat 2> {region}_L{l}_Y{y}.mat.log  "
   ]
  },
  {
   "cell_type": "markdown",
   "metadata": {},
   "source": [
    "### Adding row/col counts to the matrices"
   ]
  },
  {
   "cell_type": "code",
   "execution_count": 4,
   "metadata": {
    "collapsed": false
   },
   "outputs": [
    {
     "data": {
      "text/plain": [
       "1098"
      ]
     },
     "execution_count": 4,
     "metadata": {},
     "output_type": "execute_result"
    }
   ],
   "source": [
    "row_count = !wc -l {region}_L{ls[0]}_Y{ys[0]}.mat \n",
    "row_count = int(row_count[0].split(\" \")[0])\n",
    "row_count"
   ]
  },
  {
   "cell_type": "code",
   "execution_count": 5,
   "metadata": {
    "collapsed": false,
    "scrolled": true
   },
   "outputs": [],
   "source": [
    "for l, y in product(ls, ys):\n",
    "    !echo \"{row_count} {row_count}\\n$(cat {region}_L{l}_Y{y}.mat)\" > {region}_L{l}_Y{y}.2.mat"
   ]
  },
  {
   "cell_type": "markdown",
   "metadata": {},
   "source": [
    "### Execute weka"
   ]
  },
  {
   "cell_type": "code",
   "execution_count": 6,
   "metadata": {
    "collapsed": false,
    "scrolled": true
   },
   "outputs": [
    {
     "name": "stdout",
     "output_type": "stream",
     "text": [
      ">>> Working on parameters L=1, Y=1\n",
      ">>> Working on parameters L=1, Y=2\n",
      ">>> Working on parameters L=1, Y=4\n",
      ">>> Working on parameters L=1, Y=5\n",
      ">>> Working on parameters L=1, Y=6\n",
      ">>> Working on parameters L=1, Y=10\n",
      ">>> Working on parameters L=1, Y=15\n",
      ">>> Working on parameters L=2, Y=1\n",
      ">>> Working on parameters L=2, Y=2\n",
      ">>> Working on parameters L=2, Y=4\n",
      ">>> Working on parameters L=2, Y=5\n",
      ">>> Working on parameters L=2, Y=6\n",
      ">>> Working on parameters L=2, Y=10\n",
      ">>> Working on parameters L=2, Y=15\n",
      ">>> Working on parameters L=3, Y=1\n",
      ">>> Working on parameters L=3, Y=2\n",
      ">>> Working on parameters L=3, Y=4\n",
      ">>> Working on parameters L=3, Y=5\n",
      ">>> Working on parameters L=3, Y=6\n",
      ">>> Working on parameters L=3, Y=10\n",
      ">>> Working on parameters L=3, Y=15\n",
      ">>> Working on parameters L=4, Y=1\n",
      ">>> Working on parameters L=4, Y=2\n",
      ">>> Working on parameters L=4, Y=4\n",
      ">>> Working on parameters L=4, Y=5\n",
      ">>> Working on parameters L=4, Y=6\n",
      ">>> Working on parameters L=4, Y=10\n",
      ">>> Working on parameters L=4, Y=15\n",
      ">>> Working on parameters L=5, Y=1\n",
      ">>> Working on parameters L=5, Y=2\n",
      ">>> Working on parameters L=5, Y=4\n",
      ">>> Working on parameters L=5, Y=5\n",
      ">>> Working on parameters L=5, Y=6\n",
      ">>> Working on parameters L=5, Y=10\n",
      ">>> Working on parameters L=5, Y=15\n"
     ]
    }
   ],
   "source": [
    "for l, y in product(ls, ys):\n",
    "    print(\">>> Working on parameters L={0}, Y={1}\".format(l, y))\n",
    "    !java -Xmx5g -cp bin/wekaTobi.jar:bin/weka.jar: weka.classifiers.meta.CVParameterSelection -t {region}.arff -x 5 -S 1 -W weka.classifiers.functions.SMO -- -C 1.0 -L 0.0010 -P 1.0E-12 -N 0 -V -1 -W 1 -K \"weka.classifiers.functions.supportVector.CustomPrecomputedKernelMatrixKernelFast -M {region}_L{l}_Y{y}.2.mat\" > {region}_L{l}_Y{y}.weka"
   ]
  },
  {
   "cell_type": "markdown",
   "metadata": {
    "collapsed": true
   },
   "source": [
    "### extract confusion matrix from WEKA"
   ]
  },
  {
   "cell_type": "code",
   "execution_count": 4,
   "metadata": {
    "collapsed": false
   },
   "outputs": [],
   "source": [
    "perf_dict = {}\n",
    "for l, y in product(ls, ys):\n",
    "    file = \"{}_L{}_Y{}.weka\".format(region, l, y)\n",
    "    matrix = []\n",
    "    with open(file) as f: \n",
    "        isMatrix = False\n",
    "        isCV = False\n",
    "        for line in f.readlines():         \n",
    "            if line.startswith(\"=== Stratified cross-validation\"):\n",
    "                isCV = True\n",
    "            if isCV and line.startswith(\"=== Confusion Matrix\"):\n",
    "                isMatrix = True\n",
    "            if isMatrix and isCV: \n",
    "                matrix.append(line)\n",
    "    pos = matrix[3].split(\"|\")[0].strip()\n",
    "    neg = matrix[4].split(\"|\")[0].strip()\n",
    "    TP, FN = (int(x.strip()) for x in pos.split())\n",
    "    FP, TN = (int(x.strip()) for x in neg.split())\n",
    "    perf_dict[(l, y)] = (TP, FN, FP, TN)"
   ]
  },
  {
   "cell_type": "markdown",
   "metadata": {},
   "source": [
    "### compare the parameters\n",
    "#### Which measure to use?\n",
    "* Accuracy: bad because data is unbalanced\n",
    "* F-Measure: hard to interpret intuitievely\n",
    "* MCC: good, easy to interpret and balanced\n",
    "* Sensistivity, Specificity: good, give the user information about what they actually expect from the predictor"
   ]
  },
  {
   "cell_type": "code",
   "execution_count": 5,
   "metadata": {
    "collapsed": true
   },
   "outputs": [],
   "source": [
    "def mcc(TP, FN, FP, TN): \n",
    "    return np.divide(TP * TN + FP * FN, sqrt( (TP+FP) * (TP+FN) * (TN+FP) * (TN+FN)))\n",
    "\n",
    "def sens(TP, FN, FP, TN):\n",
    "    return TP / (TP + FN)\n",
    "\n",
    "def spec(TP, FN, FP, TN):\n",
    "    return TN / (TN + FP)\n",
    "\n",
    "def prec_pos(TP, FN, FP, TN):\n",
    "    return np.divide(TP, (TP + FP))\n",
    "def recall_pos(TP, FN, FP, TN):\n",
    "    return np.divide(TP, (TP + FN))\n",
    "def prec_neg(TP, FN, FP, TN):\n",
    "    return np.divide(TN, (TN + FN))\n",
    "def recall_neg(TP, FN, FP, TN):\n",
    "    return np.divide(TN, (TN + FP))\n",
    "\n",
    "def f1_pos(TP, FN, FP, TN):\n",
    "    return np.divide(2 * prec_pos(TP, FN, FP, TN) * recall_pos(TP, FN, FP, TN),\n",
    "                     (prec_pos(TP, FN, FP, TN) + recall_pos(TP, FN, FP, TN)))\n",
    "def f1_neg(TP, FN, FP, TN):\n",
    "    return np.divide(2 * prec_neg(TP, FN, FP, TN) * recall_neg(TP, FN, FP, TN),\n",
    "                     (prec_neg(TP, FN, FP, TN) + recall_neg(TP, FN, FP, TN)))"
   ]
  },
  {
   "cell_type": "code",
   "execution_count": 10,
   "metadata": {
    "collapsed": true
   },
   "outputs": [],
   "source": [
    "def make_df(f):\n",
    "    f_dict = {}\n",
    "    for y in ys:\n",
    "        f_dict[y] = {}\n",
    "        for l in ls:\n",
    "            f_dict[y][l] = f(*perf_dict[l, y])\n",
    "    return pd.DataFrame(f_dict)"
   ]
  },
  {
   "cell_type": "code",
   "execution_count": 32,
   "metadata": {
    "collapsed": false,
    "scrolled": false
   },
   "outputs": [
    {
     "data": {
      "image/png": "[encoded data removed]",
      "text/plain": [
       "<matplotlib.figure.Figure at 0x7fbc00a83ef0>"
      ]
     },
     "metadata": {},
     "output_type": "display_data"
    }
   ],
   "source": [
    "fig, grid = subplots(3, 3, figsize=(15, 15))\n",
    "\n",
    "sns.heatmap(make_df(mcc), ax=grid[0][0], vmin=0, vmax=1)\n",
    "grid[0][0].set_title(\"MCC\")\n",
    "\n",
    "sns.heatmap(make_df(sens), ax=grid[0][1], vmin=0, vmax=1)\n",
    "grid[0][1].set_title(\"Sensitivity\")\n",
    "\n",
    "sns.heatmap(make_df(spec), ax=grid[0][2], vmin=0, vmax=1)\n",
    "grid[0][2].set_title(\"Specificity\")\n",
    "\n",
    "sns.heatmap(make_df(prec_pos), ax=grid[1][0], vmin=0, vmax=1)\n",
    "grid[1][0].set_title(\"Positive Precision\")\n",
    "\n",
    "sns.heatmap(make_df(prec_neg), ax=grid[1][1], vmin=0, vmax=1)\n",
    "grid[1][1].set_title(\"Negative Precision\")\n",
    "\n",
    "sns.heatmap(make_df(recall_pos), ax=grid[1][2], vmin=0, vmax=1)\n",
    "grid[1][2].set_title(\"Positive Recall\")\n",
    "\n",
    "sns.heatmap(make_df(recall_neg), ax=grid[2][0], vmin=0, vmax=1)\n",
    "grid[2][0].set_title(\"Negative Recall\")\n",
    "\n",
    "sns.heatmap(make_df(f1_pos), ax=grid[2][1], vmin=0, vmax=1)\n",
    "grid[2][1].set_title(\"Positive F1\")\n",
    "\n",
    "sns.heatmap(make_df(f1_neg), ax=grid[2][2], vmin=0, vmax=1)\n",
    "grid[2][2].set_title(\"Negative F1\")\n",
    "\n",
    "\n",
    "for ax in grid.flatten():\n",
    "    ax.set_xlabel(\"Y\")\n",
    "    ax.set_ylabel(\"L\")\n",
    "    \n",
    "fig.savefig(\"wiki/eval25.png\")"
   ]
  },
  {
   "cell_type": "code",
   "execution_count": 12,
   "metadata": {
    "collapsed": false
   },
   "outputs": [
    {
     "data": {
      "text/html": [
       "<div>\n",
       "<table border=\"1\" class=\"dataframe\">\n",
       "  <thead>\n",
       "    <tr style=\"text-align: right;\">\n",
       "      <th></th>\n",
       "      <th>1</th>\n",
       "      <th>2</th>\n",
       "      <th>4</th>\n",
       "      <th>5</th>\n",
       "      <th>6</th>\n",
       "      <th>10</th>\n",
       "      <th>15</th>\n",
       "    </tr>\n",
       "  </thead>\n",
       "  <tbody>\n",
       "    <tr>\n",
       "      <th>1</th>\n",
       "      <td>0.515340</td>\n",
       "      <td>0.653199</td>\n",
       "      <td>0.649868</td>\n",
       "      <td>0.639582</td>\n",
       "      <td>0.639582</td>\n",
       "      <td>0.639582</td>\n",
       "      <td>0.639582</td>\n",
       "    </tr>\n",
       "    <tr>\n",
       "      <th>2</th>\n",
       "      <td>0.198221</td>\n",
       "      <td>0.462372</td>\n",
       "      <td>0.586005</td>\n",
       "      <td>0.606220</td>\n",
       "      <td>0.606613</td>\n",
       "      <td>0.656877</td>\n",
       "      <td>0.639582</td>\n",
       "    </tr>\n",
       "    <tr>\n",
       "      <th>3</th>\n",
       "      <td>0.059502</td>\n",
       "      <td>0.111871</td>\n",
       "      <td>0.468689</td>\n",
       "      <td>0.541367</td>\n",
       "      <td>0.584341</td>\n",
       "      <td>0.669664</td>\n",
       "      <td>0.613651</td>\n",
       "    </tr>\n",
       "    <tr>\n",
       "      <th>4</th>\n",
       "      <td>NaN</td>\n",
       "      <td>0.068738</td>\n",
       "      <td>0.142128</td>\n",
       "      <td>0.341524</td>\n",
       "      <td>0.458904</td>\n",
       "      <td>0.625985</td>\n",
       "      <td>0.676635</td>\n",
       "    </tr>\n",
       "    <tr>\n",
       "      <th>5</th>\n",
       "      <td>NaN</td>\n",
       "      <td>0.048561</td>\n",
       "      <td>0.048561</td>\n",
       "      <td>0.073210</td>\n",
       "      <td>0.148877</td>\n",
       "      <td>0.553933</td>\n",
       "      <td>0.683682</td>\n",
       "    </tr>\n",
       "  </tbody>\n",
       "</table>\n",
       "</div>"
      ],
      "text/plain": [
       "         1         2         4         5         6         10        15\n",
       "1  0.515340  0.653199  0.649868  0.639582  0.639582  0.639582  0.639582\n",
       "2  0.198221  0.462372  0.586005  0.606220  0.606613  0.656877  0.639582\n",
       "3  0.059502  0.111871  0.468689  0.541367  0.584341  0.669664  0.613651\n",
       "4       NaN  0.068738  0.142128  0.341524  0.458904  0.625985  0.676635\n",
       "5       NaN  0.048561  0.048561  0.073210  0.148877  0.553933  0.683682"
      ]
     },
     "execution_count": 12,
     "metadata": {},
     "output_type": "execute_result"
    }
   ],
   "source": [
    "make_df(mcc)"
   ]
  },
  {
   "cell_type": "code",
   "execution_count": 33,
   "metadata": {
    "collapsed": false
   },
   "outputs": [
    {
     "data": {
      "text/html": [
       "<div>\n",
       "<table border=\"1\" class=\"dataframe\">\n",
       "  <thead>\n",
       "    <tr style=\"text-align: right;\">\n",
       "      <th></th>\n",
       "      <th>1</th>\n",
       "      <th>2</th>\n",
       "      <th>4</th>\n",
       "      <th>5</th>\n",
       "      <th>6</th>\n",
       "      <th>10</th>\n",
       "      <th>15</th>\n",
       "    </tr>\n",
       "  </thead>\n",
       "  <tbody>\n",
       "    <tr>\n",
       "      <th>1</th>\n",
       "      <td>0.797495</td>\n",
       "      <td>0.707724</td>\n",
       "      <td>0.651357</td>\n",
       "      <td>0.551148</td>\n",
       "      <td>0.551148</td>\n",
       "      <td>0.551148</td>\n",
       "      <td>0.551148</td>\n",
       "    </tr>\n",
       "    <tr>\n",
       "      <th>2</th>\n",
       "      <td>0.037578</td>\n",
       "      <td>0.837161</td>\n",
       "      <td>0.776618</td>\n",
       "      <td>0.751566</td>\n",
       "      <td>0.736952</td>\n",
       "      <td>0.693111</td>\n",
       "      <td>0.551148</td>\n",
       "    </tr>\n",
       "    <tr>\n",
       "      <th>3</th>\n",
       "      <td>0.006263</td>\n",
       "      <td>0.018789</td>\n",
       "      <td>0.791232</td>\n",
       "      <td>0.778706</td>\n",
       "      <td>0.749478</td>\n",
       "      <td>0.751566</td>\n",
       "      <td>0.728601</td>\n",
       "    </tr>\n",
       "    <tr>\n",
       "      <th>4</th>\n",
       "      <td>0.000000</td>\n",
       "      <td>0.008351</td>\n",
       "      <td>0.031315</td>\n",
       "      <td>0.897704</td>\n",
       "      <td>0.795407</td>\n",
       "      <td>0.749478</td>\n",
       "      <td>0.730689</td>\n",
       "    </tr>\n",
       "    <tr>\n",
       "      <th>5</th>\n",
       "      <td>0.000000</td>\n",
       "      <td>0.004175</td>\n",
       "      <td>0.004175</td>\n",
       "      <td>0.008351</td>\n",
       "      <td>0.979123</td>\n",
       "      <td>0.747390</td>\n",
       "      <td>0.784969</td>\n",
       "    </tr>\n",
       "  </tbody>\n",
       "</table>\n",
       "</div>"
      ],
      "text/plain": [
       "         1         2         4         5         6         10        15\n",
       "1  0.797495  0.707724  0.651357  0.551148  0.551148  0.551148  0.551148\n",
       "2  0.037578  0.837161  0.776618  0.751566  0.736952  0.693111  0.551148\n",
       "3  0.006263  0.018789  0.791232  0.778706  0.749478  0.751566  0.728601\n",
       "4  0.000000  0.008351  0.031315  0.897704  0.795407  0.749478  0.730689\n",
       "5  0.000000  0.004175  0.004175  0.008351  0.979123  0.747390  0.784969"
      ]
     },
     "execution_count": 33,
     "metadata": {},
     "output_type": "execute_result"
    }
   ],
   "source": [
    "make_df(sens)"
   ]
  },
  {
   "cell_type": "code",
   "execution_count": 34,
   "metadata": {
    "collapsed": false
   },
   "outputs": [
    {
     "data": {
      "text/html": [
       "<div>\n",
       "<table border=\"1\" class=\"dataframe\">\n",
       "  <thead>\n",
       "    <tr style=\"text-align: right;\">\n",
       "      <th></th>\n",
       "      <th>1</th>\n",
       "      <th>2</th>\n",
       "      <th>4</th>\n",
       "      <th>5</th>\n",
       "      <th>6</th>\n",
       "      <th>10</th>\n",
       "      <th>15</th>\n",
       "    </tr>\n",
       "  </thead>\n",
       "  <tbody>\n",
       "    <tr>\n",
       "      <th>1</th>\n",
       "      <td>0.504039</td>\n",
       "      <td>0.846527</td>\n",
       "      <td>0.899838</td>\n",
       "      <td>1.000000</td>\n",
       "      <td>1.000000</td>\n",
       "      <td>1.000000</td>\n",
       "      <td>1.000000</td>\n",
       "    </tr>\n",
       "    <tr>\n",
       "      <th>2</th>\n",
       "      <td>0.953150</td>\n",
       "      <td>0.384491</td>\n",
       "      <td>0.662359</td>\n",
       "      <td>0.720517</td>\n",
       "      <td>0.733441</td>\n",
       "      <td>0.867528</td>\n",
       "      <td>1.000000</td>\n",
       "    </tr>\n",
       "    <tr>\n",
       "      <th>3</th>\n",
       "      <td>1.000000</td>\n",
       "      <td>0.995153</td>\n",
       "      <td>0.394184</td>\n",
       "      <td>0.568659</td>\n",
       "      <td>0.678514</td>\n",
       "      <td>0.831987</td>\n",
       "      <td>0.754443</td>\n",
       "    </tr>\n",
       "    <tr>\n",
       "      <th>4</th>\n",
       "      <td>1.000000</td>\n",
       "      <td>1.000000</td>\n",
       "      <td>0.993538</td>\n",
       "      <td>0.174475</td>\n",
       "      <td>0.369952</td>\n",
       "      <td>0.759289</td>\n",
       "      <td>0.862682</td>\n",
       "    </tr>\n",
       "    <tr>\n",
       "      <th>5</th>\n",
       "      <td>1.000000</td>\n",
       "      <td>1.000000</td>\n",
       "      <td>1.000000</td>\n",
       "      <td>0.998384</td>\n",
       "      <td>0.025848</td>\n",
       "      <td>0.613893</td>\n",
       "      <td>0.823910</td>\n",
       "    </tr>\n",
       "  </tbody>\n",
       "</table>\n",
       "</div>"
      ],
      "text/plain": [
       "         1         2         4         5         6         10        15\n",
       "1  0.504039  0.846527  0.899838  1.000000  1.000000  1.000000  1.000000\n",
       "2  0.953150  0.384491  0.662359  0.720517  0.733441  0.867528  1.000000\n",
       "3  1.000000  0.995153  0.394184  0.568659  0.678514  0.831987  0.754443\n",
       "4  1.000000  1.000000  0.993538  0.174475  0.369952  0.759289  0.862682\n",
       "5  1.000000  1.000000  1.000000  0.998384  0.025848  0.613893  0.823910"
      ]
     },
     "execution_count": 34,
     "metadata": {},
     "output_type": "execute_result"
    }
   ],
   "source": [
    "make_df(spec)"
   ]
  },
  {
   "cell_type": "code",
   "execution_count": 13,
   "metadata": {
    "collapsed": false
   },
   "outputs": [
    {
     "data": {
      "text/html": [
       "<div>\n",
       "<table border=\"1\" class=\"dataframe\">\n",
       "  <thead>\n",
       "    <tr style=\"text-align: right;\">\n",
       "      <th></th>\n",
       "      <th>1</th>\n",
       "      <th>2</th>\n",
       "      <th>4</th>\n",
       "      <th>5</th>\n",
       "      <th>6</th>\n",
       "      <th>10</th>\n",
       "      <th>15</th>\n",
       "    </tr>\n",
       "  </thead>\n",
       "  <tbody>\n",
       "    <tr>\n",
       "      <th>1</th>\n",
       "      <td>0.554427</td>\n",
       "      <td>0.781106</td>\n",
       "      <td>0.834225</td>\n",
       "      <td>1.000000</td>\n",
       "      <td>1.000000</td>\n",
       "      <td>1.000000</td>\n",
       "      <td>1.000000</td>\n",
       "    </tr>\n",
       "    <tr>\n",
       "      <th>2</th>\n",
       "      <td>0.382979</td>\n",
       "      <td>0.512788</td>\n",
       "      <td>0.640275</td>\n",
       "      <td>0.675422</td>\n",
       "      <td>0.681467</td>\n",
       "      <td>0.801932</td>\n",
       "      <td>1.000000</td>\n",
       "    </tr>\n",
       "    <tr>\n",
       "      <th>3</th>\n",
       "      <td>1.000000</td>\n",
       "      <td>0.750000</td>\n",
       "      <td>0.502653</td>\n",
       "      <td>0.582812</td>\n",
       "      <td>0.643369</td>\n",
       "      <td>0.775862</td>\n",
       "      <td>0.696607</td>\n",
       "    </tr>\n",
       "    <tr>\n",
       "      <th>4</th>\n",
       "      <td>NaN</td>\n",
       "      <td>1.000000</td>\n",
       "      <td>0.789474</td>\n",
       "      <td>0.456961</td>\n",
       "      <td>0.494163</td>\n",
       "      <td>0.706693</td>\n",
       "      <td>0.804598</td>\n",
       "    </tr>\n",
       "    <tr>\n",
       "      <th>5</th>\n",
       "      <td>NaN</td>\n",
       "      <td>1.000000</td>\n",
       "      <td>1.000000</td>\n",
       "      <td>0.800000</td>\n",
       "      <td>0.437500</td>\n",
       "      <td>0.599665</td>\n",
       "      <td>0.775258</td>\n",
       "    </tr>\n",
       "  </tbody>\n",
       "</table>\n",
       "</div>"
      ],
      "text/plain": [
       "         1         2         4         5         6         10        15\n",
       "1  0.554427  0.781106  0.834225  1.000000  1.000000  1.000000  1.000000\n",
       "2  0.382979  0.512788  0.640275  0.675422  0.681467  0.801932  1.000000\n",
       "3  1.000000  0.750000  0.502653  0.582812  0.643369  0.775862  0.696607\n",
       "4       NaN  1.000000  0.789474  0.456961  0.494163  0.706693  0.804598\n",
       "5       NaN  1.000000  1.000000  0.800000  0.437500  0.599665  0.775258"
      ]
     },
     "execution_count": 13,
     "metadata": {},
     "output_type": "execute_result"
    }
   ],
   "source": [
    "make_df(prec_pos)"
   ]
  },
  {
   "cell_type": "code",
   "execution_count": 14,
   "metadata": {
    "collapsed": false
   },
   "outputs": [
    {
     "data": {
      "text/html": [
       "<div>\n",
       "<table border=\"1\" class=\"dataframe\">\n",
       "  <thead>\n",
       "    <tr style=\"text-align: right;\">\n",
       "      <th></th>\n",
       "      <th>1</th>\n",
       "      <th>2</th>\n",
       "      <th>4</th>\n",
       "      <th>5</th>\n",
       "      <th>6</th>\n",
       "      <th>10</th>\n",
       "      <th>15</th>\n",
       "    </tr>\n",
       "  </thead>\n",
       "  <tbody>\n",
       "    <tr>\n",
       "      <th>1</th>\n",
       "      <td>0.762836</td>\n",
       "      <td>0.789157</td>\n",
       "      <td>0.769337</td>\n",
       "      <td>0.742206</td>\n",
       "      <td>0.742206</td>\n",
       "      <td>0.742206</td>\n",
       "      <td>0.742206</td>\n",
       "    </tr>\n",
       "    <tr>\n",
       "      <th>2</th>\n",
       "      <td>0.561370</td>\n",
       "      <td>0.753165</td>\n",
       "      <td>0.793037</td>\n",
       "      <td>0.789381</td>\n",
       "      <td>0.782759</td>\n",
       "      <td>0.785088</td>\n",
       "      <td>0.742206</td>\n",
       "    </tr>\n",
       "    <tr>\n",
       "      <th>3</th>\n",
       "      <td>0.565297</td>\n",
       "      <td>0.567219</td>\n",
       "      <td>0.709302</td>\n",
       "      <td>0.768559</td>\n",
       "      <td>0.777778</td>\n",
       "      <td>0.812303</td>\n",
       "      <td>0.782245</td>\n",
       "    </tr>\n",
       "    <tr>\n",
       "      <th>4</th>\n",
       "      <td>0.563752</td>\n",
       "      <td>0.565814</td>\n",
       "      <td>0.569972</td>\n",
       "      <td>0.687898</td>\n",
       "      <td>0.700306</td>\n",
       "      <td>0.796610</td>\n",
       "      <td>0.805430</td>\n",
       "    </tr>\n",
       "    <tr>\n",
       "      <th>5</th>\n",
       "      <td>0.563752</td>\n",
       "      <td>0.564781</td>\n",
       "      <td>0.564781</td>\n",
       "      <td>0.565416</td>\n",
       "      <td>0.615385</td>\n",
       "      <td>0.758483</td>\n",
       "      <td>0.831974</td>\n",
       "    </tr>\n",
       "  </tbody>\n",
       "</table>\n",
       "</div>"
      ],
      "text/plain": [
       "         1         2         4         5         6         10        15\n",
       "1  0.762836  0.789157  0.769337  0.742206  0.742206  0.742206  0.742206\n",
       "2  0.561370  0.753165  0.793037  0.789381  0.782759  0.785088  0.742206\n",
       "3  0.565297  0.567219  0.709302  0.768559  0.777778  0.812303  0.782245\n",
       "4  0.563752  0.565814  0.569972  0.687898  0.700306  0.796610  0.805430\n",
       "5  0.563752  0.564781  0.564781  0.565416  0.615385  0.758483  0.831974"
      ]
     },
     "execution_count": 14,
     "metadata": {},
     "output_type": "execute_result"
    }
   ],
   "source": [
    "make_df(prec_neg)"
   ]
  },
  {
   "cell_type": "code",
   "execution_count": 15,
   "metadata": {
    "collapsed": false
   },
   "outputs": [
    {
     "data": {
      "text/html": [
       "<div>\n",
       "<table border=\"1\" class=\"dataframe\">\n",
       "  <thead>\n",
       "    <tr style=\"text-align: right;\">\n",
       "      <th></th>\n",
       "      <th>1</th>\n",
       "      <th>2</th>\n",
       "      <th>4</th>\n",
       "      <th>5</th>\n",
       "      <th>6</th>\n",
       "      <th>10</th>\n",
       "      <th>15</th>\n",
       "    </tr>\n",
       "  </thead>\n",
       "  <tbody>\n",
       "    <tr>\n",
       "      <th>1</th>\n",
       "      <td>0.797495</td>\n",
       "      <td>0.707724</td>\n",
       "      <td>0.651357</td>\n",
       "      <td>0.551148</td>\n",
       "      <td>0.551148</td>\n",
       "      <td>0.551148</td>\n",
       "      <td>0.551148</td>\n",
       "    </tr>\n",
       "    <tr>\n",
       "      <th>2</th>\n",
       "      <td>0.037578</td>\n",
       "      <td>0.837161</td>\n",
       "      <td>0.776618</td>\n",
       "      <td>0.751566</td>\n",
       "      <td>0.736952</td>\n",
       "      <td>0.693111</td>\n",
       "      <td>0.551148</td>\n",
       "    </tr>\n",
       "    <tr>\n",
       "      <th>3</th>\n",
       "      <td>0.006263</td>\n",
       "      <td>0.018789</td>\n",
       "      <td>0.791232</td>\n",
       "      <td>0.778706</td>\n",
       "      <td>0.749478</td>\n",
       "      <td>0.751566</td>\n",
       "      <td>0.728601</td>\n",
       "    </tr>\n",
       "    <tr>\n",
       "      <th>4</th>\n",
       "      <td>0.000000</td>\n",
       "      <td>0.008351</td>\n",
       "      <td>0.031315</td>\n",
       "      <td>0.897704</td>\n",
       "      <td>0.795407</td>\n",
       "      <td>0.749478</td>\n",
       "      <td>0.730689</td>\n",
       "    </tr>\n",
       "    <tr>\n",
       "      <th>5</th>\n",
       "      <td>0.000000</td>\n",
       "      <td>0.004175</td>\n",
       "      <td>0.004175</td>\n",
       "      <td>0.008351</td>\n",
       "      <td>0.979123</td>\n",
       "      <td>0.747390</td>\n",
       "      <td>0.784969</td>\n",
       "    </tr>\n",
       "  </tbody>\n",
       "</table>\n",
       "</div>"
      ],
      "text/plain": [
       "         1         2         4         5         6         10        15\n",
       "1  0.797495  0.707724  0.651357  0.551148  0.551148  0.551148  0.551148\n",
       "2  0.037578  0.837161  0.776618  0.751566  0.736952  0.693111  0.551148\n",
       "3  0.006263  0.018789  0.791232  0.778706  0.749478  0.751566  0.728601\n",
       "4  0.000000  0.008351  0.031315  0.897704  0.795407  0.749478  0.730689\n",
       "5  0.000000  0.004175  0.004175  0.008351  0.979123  0.747390  0.784969"
      ]
     },
     "execution_count": 15,
     "metadata": {},
     "output_type": "execute_result"
    }
   ],
   "source": [
    "make_df(recall_pos)"
   ]
  },
  {
   "cell_type": "code",
   "execution_count": 16,
   "metadata": {
    "collapsed": false
   },
   "outputs": [
    {
     "data": {
      "text/html": [
       "<div>\n",
       "<table border=\"1\" class=\"dataframe\">\n",
       "  <thead>\n",
       "    <tr style=\"text-align: right;\">\n",
       "      <th></th>\n",
       "      <th>1</th>\n",
       "      <th>2</th>\n",
       "      <th>4</th>\n",
       "      <th>5</th>\n",
       "      <th>6</th>\n",
       "      <th>10</th>\n",
       "      <th>15</th>\n",
       "    </tr>\n",
       "  </thead>\n",
       "  <tbody>\n",
       "    <tr>\n",
       "      <th>1</th>\n",
       "      <td>0.504039</td>\n",
       "      <td>0.846527</td>\n",
       "      <td>0.899838</td>\n",
       "      <td>1.000000</td>\n",
       "      <td>1.000000</td>\n",
       "      <td>1.000000</td>\n",
       "      <td>1.000000</td>\n",
       "    </tr>\n",
       "    <tr>\n",
       "      <th>2</th>\n",
       "      <td>0.953150</td>\n",
       "      <td>0.384491</td>\n",
       "      <td>0.662359</td>\n",
       "      <td>0.720517</td>\n",
       "      <td>0.733441</td>\n",
       "      <td>0.867528</td>\n",
       "      <td>1.000000</td>\n",
       "    </tr>\n",
       "    <tr>\n",
       "      <th>3</th>\n",
       "      <td>1.000000</td>\n",
       "      <td>0.995153</td>\n",
       "      <td>0.394184</td>\n",
       "      <td>0.568659</td>\n",
       "      <td>0.678514</td>\n",
       "      <td>0.831987</td>\n",
       "      <td>0.754443</td>\n",
       "    </tr>\n",
       "    <tr>\n",
       "      <th>4</th>\n",
       "      <td>1.000000</td>\n",
       "      <td>1.000000</td>\n",
       "      <td>0.993538</td>\n",
       "      <td>0.174475</td>\n",
       "      <td>0.369952</td>\n",
       "      <td>0.759289</td>\n",
       "      <td>0.862682</td>\n",
       "    </tr>\n",
       "    <tr>\n",
       "      <th>5</th>\n",
       "      <td>1.000000</td>\n",
       "      <td>1.000000</td>\n",
       "      <td>1.000000</td>\n",
       "      <td>0.998384</td>\n",
       "      <td>0.025848</td>\n",
       "      <td>0.613893</td>\n",
       "      <td>0.823910</td>\n",
       "    </tr>\n",
       "  </tbody>\n",
       "</table>\n",
       "</div>"
      ],
      "text/plain": [
       "         1         2         4         5         6         10        15\n",
       "1  0.504039  0.846527  0.899838  1.000000  1.000000  1.000000  1.000000\n",
       "2  0.953150  0.384491  0.662359  0.720517  0.733441  0.867528  1.000000\n",
       "3  1.000000  0.995153  0.394184  0.568659  0.678514  0.831987  0.754443\n",
       "4  1.000000  1.000000  0.993538  0.174475  0.369952  0.759289  0.862682\n",
       "5  1.000000  1.000000  1.000000  0.998384  0.025848  0.613893  0.823910"
      ]
     },
     "execution_count": 16,
     "metadata": {},
     "output_type": "execute_result"
    }
   ],
   "source": [
    "make_df(recall_neg)"
   ]
  },
  {
   "cell_type": "code",
   "execution_count": 18,
   "metadata": {
    "collapsed": false
   },
   "outputs": [
    {
     "data": {
      "text/html": [
       "<div>\n",
       "<table border=\"1\" class=\"dataframe\">\n",
       "  <thead>\n",
       "    <tr style=\"text-align: right;\">\n",
       "      <th></th>\n",
       "      <th>1</th>\n",
       "      <th>2</th>\n",
       "      <th>4</th>\n",
       "      <th>5</th>\n",
       "      <th>6</th>\n",
       "      <th>10</th>\n",
       "      <th>15</th>\n",
       "    </tr>\n",
       "  </thead>\n",
       "  <tbody>\n",
       "    <tr>\n",
       "      <th>1</th>\n",
       "      <td>0.654110</td>\n",
       "      <td>0.742607</td>\n",
       "      <td>0.731536</td>\n",
       "      <td>0.710633</td>\n",
       "      <td>0.710633</td>\n",
       "      <td>0.710633</td>\n",
       "      <td>0.710633</td>\n",
       "    </tr>\n",
       "    <tr>\n",
       "      <th>2</th>\n",
       "      <td>0.068441</td>\n",
       "      <td>0.636003</td>\n",
       "      <td>0.701887</td>\n",
       "      <td>0.711462</td>\n",
       "      <td>0.708124</td>\n",
       "      <td>0.743561</td>\n",
       "      <td>0.710633</td>\n",
       "    </tr>\n",
       "    <tr>\n",
       "      <th>3</th>\n",
       "      <td>0.012448</td>\n",
       "      <td>0.036660</td>\n",
       "      <td>0.614761</td>\n",
       "      <td>0.666667</td>\n",
       "      <td>0.692382</td>\n",
       "      <td>0.763521</td>\n",
       "      <td>0.712245</td>\n",
       "    </tr>\n",
       "    <tr>\n",
       "      <th>4</th>\n",
       "      <td>NaN</td>\n",
       "      <td>0.016563</td>\n",
       "      <td>0.060241</td>\n",
       "      <td>0.605634</td>\n",
       "      <td>0.609600</td>\n",
       "      <td>0.727457</td>\n",
       "      <td>0.765864</td>\n",
       "    </tr>\n",
       "    <tr>\n",
       "      <th>5</th>\n",
       "      <td>NaN</td>\n",
       "      <td>0.008316</td>\n",
       "      <td>0.008316</td>\n",
       "      <td>0.016529</td>\n",
       "      <td>0.604771</td>\n",
       "      <td>0.665428</td>\n",
       "      <td>0.780083</td>\n",
       "    </tr>\n",
       "  </tbody>\n",
       "</table>\n",
       "</div>"
      ],
      "text/plain": [
       "         1         2         4         5         6         10        15\n",
       "1  0.654110  0.742607  0.731536  0.710633  0.710633  0.710633  0.710633\n",
       "2  0.068441  0.636003  0.701887  0.711462  0.708124  0.743561  0.710633\n",
       "3  0.012448  0.036660  0.614761  0.666667  0.692382  0.763521  0.712245\n",
       "4       NaN  0.016563  0.060241  0.605634  0.609600  0.727457  0.765864\n",
       "5       NaN  0.008316  0.008316  0.016529  0.604771  0.665428  0.780083"
      ]
     },
     "execution_count": 18,
     "metadata": {},
     "output_type": "execute_result"
    }
   ],
   "source": [
    "make_df(f1_pos)"
   ]
  },
  {
   "cell_type": "code",
   "execution_count": 19,
   "metadata": {
    "collapsed": false
   },
   "outputs": [
    {
     "data": {
      "text/html": [
       "<div>\n",
       "<table border=\"1\" class=\"dataframe\">\n",
       "  <thead>\n",
       "    <tr style=\"text-align: right;\">\n",
       "      <th></th>\n",
       "      <th>1</th>\n",
       "      <th>2</th>\n",
       "      <th>4</th>\n",
       "      <th>5</th>\n",
       "      <th>6</th>\n",
       "      <th>10</th>\n",
       "      <th>15</th>\n",
       "    </tr>\n",
       "  </thead>\n",
       "  <tbody>\n",
       "    <tr>\n",
       "      <th>1</th>\n",
       "      <td>0.607004</td>\n",
       "      <td>0.816836</td>\n",
       "      <td>0.829486</td>\n",
       "      <td>0.852030</td>\n",
       "      <td>0.852030</td>\n",
       "      <td>0.852030</td>\n",
       "      <td>0.852030</td>\n",
       "    </tr>\n",
       "    <tr>\n",
       "      <th>2</th>\n",
       "      <td>0.706587</td>\n",
       "      <td>0.509091</td>\n",
       "      <td>0.721831</td>\n",
       "      <td>0.753378</td>\n",
       "      <td>0.757298</td>\n",
       "      <td>0.824252</td>\n",
       "      <td>0.852030</td>\n",
       "    </tr>\n",
       "    <tr>\n",
       "      <th>3</th>\n",
       "      <td>0.722287</td>\n",
       "      <td>0.722581</td>\n",
       "      <td>0.506750</td>\n",
       "      <td>0.653668</td>\n",
       "      <td>0.724763</td>\n",
       "      <td>0.822027</td>\n",
       "      <td>0.768092</td>\n",
       "    </tr>\n",
       "    <tr>\n",
       "      <th>4</th>\n",
       "      <td>0.721025</td>\n",
       "      <td>0.722709</td>\n",
       "      <td>0.724382</td>\n",
       "      <td>0.278351</td>\n",
       "      <td>0.484144</td>\n",
       "      <td>0.777502</td>\n",
       "      <td>0.833073</td>\n",
       "    </tr>\n",
       "    <tr>\n",
       "      <th>5</th>\n",
       "      <td>0.721025</td>\n",
       "      <td>0.721866</td>\n",
       "      <td>0.721866</td>\n",
       "      <td>0.721963</td>\n",
       "      <td>0.049612</td>\n",
       "      <td>0.678571</td>\n",
       "      <td>0.827922</td>\n",
       "    </tr>\n",
       "  </tbody>\n",
       "</table>\n",
       "</div>"
      ],
      "text/plain": [
       "         1         2         4         5         6         10        15\n",
       "1  0.607004  0.816836  0.829486  0.852030  0.852030  0.852030  0.852030\n",
       "2  0.706587  0.509091  0.721831  0.753378  0.757298  0.824252  0.852030\n",
       "3  0.722287  0.722581  0.506750  0.653668  0.724763  0.822027  0.768092\n",
       "4  0.721025  0.722709  0.724382  0.278351  0.484144  0.777502  0.833073\n",
       "5  0.721025  0.721866  0.721866  0.721963  0.049612  0.678571  0.827922"
      ]
     },
     "execution_count": 19,
     "metadata": {},
     "output_type": "execute_result"
    }
   ],
   "source": [
    "make_df(f1_neg)"
   ]
  },
  {
   "cell_type": "code",
   "execution_count": null,
   "metadata": {
    "collapsed": true
   },
   "outputs": [],
   "source": []
  }
 ],
 "metadata": {
  "kernelspec": {
   "display_name": "Python 3",
   "language": "python",
   "name": "python3"
  },
  "language_info": {
   "codemirror_mode": {
    "name": "ipython",
    "version": 3
   },
   "file_extension": ".py",
   "mimetype": "text/x-python",
   "name": "python",
   "nbconvert_exporter": "python",
   "pygments_lexer": "ipython3",
   "version": "3.4.4"
  }
 },
 "nbformat": 4,
 "nbformat_minor": 0
}
