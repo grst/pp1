{
 "cells": [
  {
   "cell_type": "code",
   "execution_count": 18,
   "metadata": {
    "collapsed": false
   },
   "outputs": [],
   "source": [
    "from math import sqrt\n",
    "import re\n",
    "import numpy as np\n",
    "import seaborn as sns\n",
    "import pandas as pd\n",
    "%matplotlib inline\n",
    "from pylab import * \n",
    "from itertools import product \n",
    "from mltools.perfmeasures import *\n",
    "import random \n"
   ]
  },
  {
   "cell_type": "code",
   "execution_count": 9,
   "metadata": {
    "collapsed": true
   },
   "outputs": [],
   "source": [
    "ls = range(1,6) #length of kmer\n",
    "ys = [1, 2, 4, 5, 6, 10, 15] #some threshold\n",
    "region = \"data/region25_out/region25\""
   ]
  },
  {
   "cell_type": "markdown",
   "metadata": {},
   "source": [
    "### Run profile kernel"
   ]
  },
  {
   "cell_type": "code",
   "execution_count": 3,
   "metadata": {
    "collapsed": false,
    "scrolled": true
   },
   "outputs": [
    {
     "name": "stdout",
     "output_type": "stream",
     "text": [
      ">>> Working on parameters L=1, Y=1\n",
      ">>> Working on parameters L=1, Y=2\n",
      ">>> Working on parameters L=1, Y=4\n",
      ">>> Working on parameters L=1, Y=5\n",
      ">>> Working on parameters L=1, Y=6\n",
      ">>> Working on parameters L=1, Y=10\n",
      ">>> Working on parameters L=1, Y=15\n",
      ">>> Working on parameters L=2, Y=1\n",
      ">>> Working on parameters L=2, Y=2\n",
      ">>> Working on parameters L=2, Y=4\n",
      ">>> Working on parameters L=2, Y=5\n",
      ">>> Working on parameters L=2, Y=6\n",
      ">>> Working on parameters L=2, Y=10\n",
      ">>> Working on parameters L=2, Y=15\n",
      ">>> Working on parameters L=3, Y=1\n",
      ">>> Working on parameters L=3, Y=2\n",
      ">>> Working on parameters L=3, Y=4\n",
      ">>> Working on parameters L=3, Y=5\n",
      ">>> Working on parameters L=3, Y=6\n",
      ">>> Working on parameters L=3, Y=10\n",
      ">>> Working on parameters L=3, Y=15\n",
      ">>> Working on parameters L=4, Y=1\n",
      ">>> Working on parameters L=4, Y=2\n",
      ">>> Working on parameters L=4, Y=4\n",
      ">>> Working on parameters L=4, Y=5\n",
      ">>> Working on parameters L=4, Y=6\n",
      ">>> Working on parameters L=4, Y=10\n",
      ">>> Working on parameters L=4, Y=15\n",
      ">>> Working on parameters L=5, Y=1\n",
      ">>> Working on parameters L=5, Y=2\n",
      ">>> Working on parameters L=5, Y=4\n",
      ">>> Working on parameters L=5, Y=5\n",
      ">>> Working on parameters L=5, Y=6\n",
      ">>> Working on parameters L=5, Y=10\n",
      ">>> Working on parameters L=5, Y=15\n"
     ]
    }
   ],
   "source": [
    "for l, y in product(ls, ys):\n",
    "    print(\">>> Working on parameters L={0}, Y={1}\".format(l, y))\n",
    "    !profkernel-core -o {region}.idfile -K -L {l} -Y {y} -i /usr/share/fastprofkernel/data/Amino.txt -g /usr/share/fastprofkernel/data/Globals.txt {region}.kernelinput > {region}_L{l}_Y{y}.mat 2> {region}_L{l}_Y{y}.mat.log  "
   ]
  },
  {
   "cell_type": "markdown",
   "metadata": {},
   "source": [
    "### Adding row/col counts to the matrices"
   ]
  },
  {
   "cell_type": "code",
   "execution_count": 4,
   "metadata": {
    "collapsed": false
   },
   "outputs": [
    {
     "data": {
      "text/plain": [
       "1098"
      ]
     },
     "execution_count": 4,
     "metadata": {},
     "output_type": "execute_result"
    }
   ],
   "source": [
    "row_count = !wc -l {region}_L{ls[0]}_Y{ys[0]}.mat \n",
    "row_count = int(row_count[0].split(\" \")[0])\n",
    "row_count"
   ]
  },
  {
   "cell_type": "code",
   "execution_count": 5,
   "metadata": {
    "collapsed": false,
    "scrolled": true
   },
   "outputs": [],
   "source": [
    "for l, y in product(ls, ys):\n",
    "    !echo \"{row_count} {row_count}\\n$(cat {region}_L{l}_Y{y}.mat)\" > {region}_L{l}_Y{y}.2.mat"
   ]
  },
  {
   "cell_type": "markdown",
   "metadata": {},
   "source": [
    "### Execute weka"
   ]
  },
  {
   "cell_type": "code",
   "execution_count": 4,
   "metadata": {
    "collapsed": false,
    "scrolled": true
   },
   "outputs": [
    {
     "name": "stdout",
     "output_type": "stream",
     "text": [
      ">>> Working on parameters L=1, Y=1\n",
      ">>> Working on parameters L=1, Y=2\n",
      ">>> Working on parameters L=1, Y=4\n",
      ">>> Working on parameters L=1, Y=5\n",
      ">>> Working on parameters L=1, Y=6\n",
      ">>> Working on parameters L=1, Y=10\n",
      ">>> Working on parameters L=1, Y=15\n",
      ">>> Working on parameters L=2, Y=1\n",
      ">>> Working on parameters L=2, Y=2\n",
      ">>> Working on parameters L=2, Y=4\n",
      ">>> Working on parameters L=2, Y=5\n",
      ">>> Working on parameters L=2, Y=6\n",
      ">>> Working on parameters L=2, Y=10\n",
      ">>> Working on parameters L=2, Y=15\n",
      ">>> Working on parameters L=3, Y=1\n",
      ">>> Working on parameters L=3, Y=2\n",
      ">>> Working on parameters L=3, Y=4\n",
      ">>> Working on parameters L=3, Y=5\n",
      ">>> Working on parameters L=3, Y=6\n",
      ">>> Working on parameters L=3, Y=10\n",
      ">>> Working on parameters L=3, Y=15\n",
      ">>> Working on parameters L=4, Y=1\n",
      ">>> Working on parameters L=4, Y=2\n",
      ">>> Working on parameters L=4, Y=4\n",
      ">>> Working on parameters L=4, Y=5\n",
      ">>> Working on parameters L=4, Y=6\n",
      ">>> Working on parameters L=4, Y=10\n",
      ">>> Working on parameters L=4, Y=15\n",
      ">>> Working on parameters L=5, Y=1\n",
      ">>> Working on parameters L=5, Y=2\n",
      ">>> Working on parameters L=5, Y=4\n",
      ">>> Working on parameters L=5, Y=5\n",
      ">>> Working on parameters L=5, Y=6\n",
      ">>> Working on parameters L=5, Y=10\n",
      ">>> Working on parameters L=5, Y=15\n"
     ]
    }
   ],
   "source": [
    "for l, y in product(ls, ys):\n",
    "    print(\">>> Working on parameters L={0}, Y={1}\".format(l, y))\n",
    "    !java -Xmx5g -cp bin/wekaTobi.jar:bin/weka.jar: weka.classifiers.meta.CVParameterSelection -p 1 -t {region}.arff -x 5 -S 1 -W weka.classifiers.functions.SMO -- -C 1.0 -L 0.0010 -P 1.0E-12 -N 0 -V -1 -W 1 -K \"weka.classifiers.functions.supportVector.CustomPrecomputedKernelMatrixKernelFast -M {region}_L{l}_Y{y}.2.mat\" > {region}_L{l}_Y{y}.weka"
   ]
  },
  {
   "cell_type": "markdown",
   "metadata": {
    "collapsed": true
   },
   "source": [
    "### extract confusion matrix from WEKA and compute standard error"
   ]
  },
  {
   "cell_type": "code",
   "execution_count": 10,
   "metadata": {
    "collapsed": true
   },
   "outputs": [],
   "source": [
    "def extract_confusion_matrix_instances(wekafile):\n",
    "    \"\"\"\n",
    "    return list [(actual, predicted), (actual, predicted), ...]\n",
    "    \"\"\"\n",
    "    dataLine = re.compile(r\"\\d+\")\n",
    "    instances = []\n",
    "    with open(wekafile) as f: \n",
    "        for line in f.readlines():\n",
    "            if dataLine.search(line): \n",
    "                actual, predicted = line.strip().split()[1:3]\n",
    "                actual = actual[2:]\n",
    "                predicted = predicted[2:]\n",
    "                instances.append((actual, predicted))\n",
    "    return instances            \n",
    "                "
   ]
  },
  {
   "cell_type": "code",
   "execution_count": 11,
   "metadata": {
    "collapsed": true
   },
   "outputs": [],
   "source": [
    "def randsample(instances, fraction=0.5):\n",
    "    return random.sample(instances, int(fraction*len(instances)))"
   ]
  },
  {
   "cell_type": "code",
   "execution_count": 12,
   "metadata": {
    "collapsed": true
   },
   "outputs": [],
   "source": [
    "def get_confusion_matrix(instances): \n",
    "    TP = FN = FP = TN = 0\n",
    "    for actual, predicted in instances: \n",
    "        if actual == \"positive\":\n",
    "            if predicted == \"positive\":\n",
    "                TP += 1\n",
    "            elif predicted == \"negative\":\n",
    "                FN += 1\n",
    "            else:\n",
    "                assert False, \"invalid predicted class\"\n",
    "        elif actual == \"negative\":\n",
    "            if predicted == \"positive\":\n",
    "                FP += 1\n",
    "            elif predicted == \"negative\":\n",
    "                TN += 1\n",
    "            else:\n",
    "                assert False, \"invalid predicted class\"\n",
    "        else: \n",
    "            assert False, \"invalid actual class\"\n",
    "    return (TP, FN, FP, TN)"
   ]
  },
  {
   "cell_type": "code",
   "execution_count": 13,
   "metadata": {
    "collapsed": true
   },
   "outputs": [],
   "source": [
    "def bootstrap(instances, iterations=1000, fraction=0.5):\n",
    "    perfs = []\n",
    "    for i in range(iterations):\n",
    "        perfs.append(get_confusion_matrix(randsample(instances)))\n",
    "    return perfs"
   ]
  },
  {
   "cell_type": "code",
   "execution_count": 14,
   "metadata": {
    "collapsed": true
   },
   "outputs": [],
   "source": [
    "def stderr(array):\n",
    "    return np.std(array) / np.sqrt(len(array))"
   ]
  },
  {
   "cell_type": "code",
   "execution_count": 19,
   "metadata": {
    "collapsed": false
   },
   "outputs": [],
   "source": [
    "perf_dict = {}\n",
    "for l, y in product(ls, ys):\n",
    "    instances = extract_confusion_matrix_instances(\"{0}_L{1}_Y{2}.weka\".format(region, l, y))\n",
    "    perfs = bootstrap(instances)\n",
    "    perf_dict[(l, y)] = perfs"
   ]
  },
  {
   "cell_type": "markdown",
   "metadata": {},
   "source": [
    "### compare the parameters\n",
    "#### Which measure to use?\n",
    "* Accuracy: bad because data is unbalanced\n",
    "* F-Measure: hard to interpret intuitievely\n",
    "* MCC: good, easy to interpret and balanced\n",
    "* Sensistivity, Specificity: good, give the user information about what they actually expect from the predictor"
   ]
  },
  {
   "cell_type": "code",
   "execution_count": 22,
   "metadata": {
    "collapsed": true
   },
   "outputs": [],
   "source": [
    "def make_df(f, standard_error = False):\n",
    "    f_dict = {}\n",
    "    for y in ys:\n",
    "        f_dict[y] = {}\n",
    "        for l in ls:\n",
    "            perfs = []\n",
    "            confusion_lines = perf_dict[(l, y)]\n",
    "            for confusion_line in confusion_lines:\n",
    "                perfs.append(f(*confusion_line))\n",
    "            perf = np.mean(perfs)\n",
    "            if standard_error:\n",
    "                perf_se = stderr(perfs)\n",
    "                f_dict[y][l] = (perf, perf_se)\n",
    "            else: \n",
    "                f_dict[y][l] = perf\n",
    "    return pd.DataFrame(f_dict)"
   ]
  },
  {
   "cell_type": "code",
   "execution_count": 24,
   "metadata": {
    "collapsed": false,
    "scrolled": false
   },
   "outputs": [
    {
     "data": {
      "image/png": "[encoded data removed]",
      "text/plain": [
       "<matplotlib.figure.Figure at 0x7f45af2ef860>"
      ]
     },
     "metadata": {},
     "output_type": "display_data"
    }
   ],
   "source": [
    "fig, grid = subplots(3, 3, figsize=(15, 15))\n",
    "\n",
    "sns.heatmap(make_df(mcc), ax=grid[0][0], vmin=0, vmax=1)\n",
    "grid[0][0].set_title(\"MCC\")\n",
    "\n",
    "sns.heatmap(make_df(sens), ax=grid[0][1], vmin=0, vmax=1)\n",
    "grid[0][1].set_title(\"Sensitivity\")\n",
    "\n",
    "sns.heatmap(make_df(spec), ax=grid[0][2], vmin=0, vmax=1)\n",
    "grid[0][2].set_title(\"Specificity\")\n",
    "\n",
    "sns.heatmap(make_df(prec_pos), ax=grid[1][0], vmin=0, vmax=1)\n",
    "grid[1][0].set_title(\"Positive Precision\")\n",
    "\n",
    "sns.heatmap(make_df(prec_neg), ax=grid[1][1], vmin=0, vmax=1)\n",
    "grid[1][1].set_title(\"Negative Precision\")\n",
    "\n",
    "sns.heatmap(make_df(recall_pos), ax=grid[1][2], vmin=0, vmax=1)\n",
    "grid[1][2].set_title(\"Positive Recall\")\n",
    "\n",
    "sns.heatmap(make_df(recall_neg), ax=grid[2][0], vmin=0, vmax=1)\n",
    "grid[2][0].set_title(\"Negative Recall\")\n",
    "\n",
    "sns.heatmap(make_df(f1_pos), ax=grid[2][1], vmin=0, vmax=1)\n",
    "grid[2][1].set_title(\"Positive F1\")\n",
    "\n",
    "sns.heatmap(make_df(f1_neg), ax=grid[2][2], vmin=0, vmax=1)\n",
    "grid[2][2].set_title(\"Negative F1\")\n",
    "\n",
    "\n",
    "for ax in grid.flatten():\n",
    "    ax.set_xlabel(\"Y\")\n",
    "    ax.set_ylabel(\"L\")\n",
    "    \n",
    "fig.savefig(\"wiki/eval25.png\")"
   ]
  },
  {
   "cell_type": "code",
   "execution_count": 34,
   "metadata": {
    "collapsed": false
   },
   "outputs": [
    {
     "data": {
      "text/html": [
       "<div>\n",
       "<table border=\"1\" class=\"dataframe\">\n",
       "  <thead>\n",
       "    <tr style=\"text-align: right;\">\n",
       "      <th></th>\n",
       "      <th>1</th>\n",
       "      <th>2</th>\n",
       "      <th>4</th>\n",
       "      <th>5</th>\n",
       "      <th>6</th>\n",
       "      <th>10</th>\n",
       "      <th>15</th>\n",
       "    </tr>\n",
       "  </thead>\n",
       "  <tbody>\n",
       "    <tr>\n",
       "      <th>1</th>\n",
       "      <td>(0.515467813596, 0.000317155987892)</td>\n",
       "      <td>(0.653563479896, 0.000477807604503)</td>\n",
       "      <td>(0.650410629383, 0.000495326657741)</td>\n",
       "      <td>(0.639567743547, 0.000548135077736)</td>\n",
       "      <td>(0.640127340668, 0.000557508544046)</td>\n",
       "      <td>(0.63946695018, 0.000561380961641)</td>\n",
       "      <td>(0.639642469696, 0.00057282042381)</td>\n",
       "    </tr>\n",
       "    <tr>\n",
       "      <th>2</th>\n",
       "      <td>(0.197810398297, 0.000443371731016)</td>\n",
       "      <td>(0.462454544445, 0.000313799165241)</td>\n",
       "      <td>(0.586672666511, 0.000387280793256)</td>\n",
       "      <td>(0.606548978236, 0.000414371551175)</td>\n",
       "      <td>(0.60643825557, 0.000392848760104)</td>\n",
       "      <td>(0.656026720267, 0.000471124986539)</td>\n",
       "      <td>(0.639697610019, 0.000575217079698)</td>\n",
       "    </tr>\n",
       "    <tr>\n",
       "      <th>3</th>\n",
       "      <td>(nan, nan)</td>\n",
       "      <td>(0.110611732469, 0.000561147161677)</td>\n",
       "      <td>(0.468626940615, 0.000265343035799)</td>\n",
       "      <td>(0.541153191559, 0.000342123109152)</td>\n",
       "      <td>(0.583922534385, 0.000378444328138)</td>\n",
       "      <td>(0.670211825055, 0.00045851330387)</td>\n",
       "      <td>(0.613698101096, 0.000422052115683)</td>\n",
       "    </tr>\n",
       "    <tr>\n",
       "      <th>4</th>\n",
       "      <td>(nan, nan)</td>\n",
       "      <td>(nan, nan)</td>\n",
       "      <td>(0.140858719826, 0.000521899742442)</td>\n",
       "      <td>(0.341706010648, 0.000356320438667)</td>\n",
       "      <td>(0.458949953911, 0.000269941547841)</td>\n",
       "      <td>(0.626014612588, 0.000426135156264)</td>\n",
       "      <td>(0.676708374621, 0.000470282256577)</td>\n",
       "    </tr>\n",
       "    <tr>\n",
       "      <th>5</th>\n",
       "      <td>(nan, nan)</td>\n",
       "      <td>(nan, nan)</td>\n",
       "      <td>(nan, nan)</td>\n",
       "      <td>(nan, nan)</td>\n",
       "      <td>(0.148223259594, 0.00043743061676)</td>\n",
       "      <td>(0.553673060241, 0.000331650299244)</td>\n",
       "      <td>(0.683801028613, 0.000463794918115)</td>\n",
       "    </tr>\n",
       "  </tbody>\n",
       "</table>\n",
       "</div>"
      ],
      "text/plain": [
       "                                    1                                    2   \\\n",
       "1  (0.515467813596, 0.000317155987892)  (0.653563479896, 0.000477807604503)   \n",
       "2  (0.197810398297, 0.000443371731016)  (0.462454544445, 0.000313799165241)   \n",
       "3                           (nan, nan)  (0.110611732469, 0.000561147161677)   \n",
       "4                           (nan, nan)                           (nan, nan)   \n",
       "5                           (nan, nan)                           (nan, nan)   \n",
       "\n",
       "                                    4                                    5   \\\n",
       "1  (0.650410629383, 0.000495326657741)  (0.639567743547, 0.000548135077736)   \n",
       "2  (0.586672666511, 0.000387280793256)  (0.606548978236, 0.000414371551175)   \n",
       "3  (0.468626940615, 0.000265343035799)  (0.541153191559, 0.000342123109152)   \n",
       "4  (0.140858719826, 0.000521899742442)  (0.341706010648, 0.000356320438667)   \n",
       "5                           (nan, nan)                           (nan, nan)   \n",
       "\n",
       "                                    6                                    10  \\\n",
       "1  (0.640127340668, 0.000557508544046)   (0.63946695018, 0.000561380961641)   \n",
       "2   (0.60643825557, 0.000392848760104)  (0.656026720267, 0.000471124986539)   \n",
       "3  (0.583922534385, 0.000378444328138)   (0.670211825055, 0.00045851330387)   \n",
       "4  (0.458949953911, 0.000269941547841)  (0.626014612588, 0.000426135156264)   \n",
       "5   (0.148223259594, 0.00043743061676)  (0.553673060241, 0.000331650299244)   \n",
       "\n",
       "                                    15  \n",
       "1   (0.639642469696, 0.00057282042381)  \n",
       "2  (0.639697610019, 0.000575217079698)  \n",
       "3  (0.613698101096, 0.000422052115683)  \n",
       "4  (0.676708374621, 0.000470282256577)  \n",
       "5  (0.683801028613, 0.000463794918115)  "
      ]
     },
     "execution_count": 34,
     "metadata": {},
     "output_type": "execute_result"
    }
   ],
   "source": [
    "make_df(mcc, True)"
   ]
  },
  {
   "cell_type": "code",
   "execution_count": 35,
   "metadata": {
    "collapsed": false
   },
   "outputs": [
    {
     "data": {
      "text/html": [
       "<div>\n",
       "<table border=\"1\" class=\"dataframe\">\n",
       "  <thead>\n",
       "    <tr style=\"text-align: right;\">\n",
       "      <th></th>\n",
       "      <th>1</th>\n",
       "      <th>2</th>\n",
       "      <th>4</th>\n",
       "      <th>5</th>\n",
       "      <th>6</th>\n",
       "      <th>10</th>\n",
       "      <th>15</th>\n",
       "    </tr>\n",
       "  </thead>\n",
       "  <tbody>\n",
       "    <tr>\n",
       "      <th>1</th>\n",
       "      <td>(0.79730703515, 0.000586476154912)</td>\n",
       "      <td>(0.707975450678, 0.00066938779165)</td>\n",
       "      <td>(0.652138316668, 0.000694685324367)</td>\n",
       "      <td>(0.55118955677, 0.000686657895602)</td>\n",
       "      <td>(0.551944633167, 0.000698596087042)</td>\n",
       "      <td>(0.551692113323, 0.000703584725134)</td>\n",
       "      <td>(0.551483539112, 0.000712168143667)</td>\n",
       "    </tr>\n",
       "    <tr>\n",
       "      <th>2</th>\n",
       "      <td>(0.0376488999108, 0.000271932860796)</td>\n",
       "      <td>(0.837430933079, 0.000536417046708)</td>\n",
       "      <td>(0.776814860009, 0.000588003275698)</td>\n",
       "      <td>(0.751327094752, 0.000632642406085)</td>\n",
       "      <td>(0.737362663434, 0.000609564756696)</td>\n",
       "      <td>(0.692012192422, 0.000663952578797)</td>\n",
       "      <td>(0.551737141199, 0.000730803308643)</td>\n",
       "    </tr>\n",
       "    <tr>\n",
       "      <th>3</th>\n",
       "      <td>(0.00605770702798, 0.000116004967901)</td>\n",
       "      <td>(0.0188278344368, 0.000200166507164)</td>\n",
       "      <td>(0.791578303947, 0.000585056957975)</td>\n",
       "      <td>(0.778442016034, 0.0005967208251)</td>\n",
       "      <td>(0.748751272288, 0.000611473495758)</td>\n",
       "      <td>(0.751954242636, 0.000633115190842)</td>\n",
       "      <td>(0.728314516627, 0.0006660918666)</td>\n",
       "    </tr>\n",
       "    <tr>\n",
       "      <th>4</th>\n",
       "      <td>(0.0, 0.0)</td>\n",
       "      <td>(0.00826940569191, 0.000130936972647)</td>\n",
       "      <td>(0.0312706387125, 0.000247414168755)</td>\n",
       "      <td>(0.897633997178, 0.000428493609471)</td>\n",
       "      <td>(0.796020586397, 0.000585894530641)</td>\n",
       "      <td>(0.74920511518, 0.000618725729427)</td>\n",
       "      <td>(0.731090938199, 0.000621694323457)</td>\n",
       "    </tr>\n",
       "    <tr>\n",
       "      <th>5</th>\n",
       "      <td>(0.0, 0.0)</td>\n",
       "      <td>(0.00407743434305, 9.30974937213e-05)</td>\n",
       "      <td>(0.00412206587696, 9.24530273253e-05)</td>\n",
       "      <td>(0.00843032129397, 0.000134830965591)</td>\n",
       "      <td>(0.979084990091, 0.000198629940744)</td>\n",
       "      <td>(0.747203627074, 0.000640778432783)</td>\n",
       "      <td>(0.78505043776, 0.000573524763275)</td>\n",
       "    </tr>\n",
       "  </tbody>\n",
       "</table>\n",
       "</div>"
      ],
      "text/plain": [
       "                                      1   \\\n",
       "1     (0.79730703515, 0.000586476154912)   \n",
       "2   (0.0376488999108, 0.000271932860796)   \n",
       "3  (0.00605770702798, 0.000116004967901)   \n",
       "4                             (0.0, 0.0)   \n",
       "5                             (0.0, 0.0)   \n",
       "\n",
       "                                      2   \\\n",
       "1     (0.707975450678, 0.00066938779165)   \n",
       "2    (0.837430933079, 0.000536417046708)   \n",
       "3   (0.0188278344368, 0.000200166507164)   \n",
       "4  (0.00826940569191, 0.000130936972647)   \n",
       "5  (0.00407743434305, 9.30974937213e-05)   \n",
       "\n",
       "                                      4   \\\n",
       "1    (0.652138316668, 0.000694685324367)   \n",
       "2    (0.776814860009, 0.000588003275698)   \n",
       "3    (0.791578303947, 0.000585056957975)   \n",
       "4   (0.0312706387125, 0.000247414168755)   \n",
       "5  (0.00412206587696, 9.24530273253e-05)   \n",
       "\n",
       "                                      5                                    6   \\\n",
       "1     (0.55118955677, 0.000686657895602)  (0.551944633167, 0.000698596087042)   \n",
       "2    (0.751327094752, 0.000632642406085)  (0.737362663434, 0.000609564756696)   \n",
       "3      (0.778442016034, 0.0005967208251)  (0.748751272288, 0.000611473495758)   \n",
       "4    (0.897633997178, 0.000428493609471)  (0.796020586397, 0.000585894530641)   \n",
       "5  (0.00843032129397, 0.000134830965591)  (0.979084990091, 0.000198629940744)   \n",
       "\n",
       "                                    10                                   15  \n",
       "1  (0.551692113323, 0.000703584725134)  (0.551483539112, 0.000712168143667)  \n",
       "2  (0.692012192422, 0.000663952578797)  (0.551737141199, 0.000730803308643)  \n",
       "3  (0.751954242636, 0.000633115190842)    (0.728314516627, 0.0006660918666)  \n",
       "4   (0.74920511518, 0.000618725729427)  (0.731090938199, 0.000621694323457)  \n",
       "5  (0.747203627074, 0.000640778432783)   (0.78505043776, 0.000573524763275)  "
      ]
     },
     "execution_count": 35,
     "metadata": {},
     "output_type": "execute_result"
    }
   ],
   "source": [
    "make_df(sens, True)"
   ]
  },
  {
   "cell_type": "code",
   "execution_count": 27,
   "metadata": {
    "collapsed": false
   },
   "outputs": [
    {
     "data": {
      "text/html": [
       "<div>\n",
       "<table border=\"1\" class=\"dataframe\">\n",
       "  <thead>\n",
       "    <tr style=\"text-align: right;\">\n",
       "      <th></th>\n",
       "      <th>1</th>\n",
       "      <th>2</th>\n",
       "      <th>4</th>\n",
       "      <th>5</th>\n",
       "      <th>6</th>\n",
       "      <th>10</th>\n",
       "      <th>15</th>\n",
       "    </tr>\n",
       "  </thead>\n",
       "  <tbody>\n",
       "    <tr>\n",
       "      <th>1</th>\n",
       "      <td>0.504303</td>\n",
       "      <td>0.846897</td>\n",
       "      <td>0.899997</td>\n",
       "      <td>1.000000</td>\n",
       "      <td>1.000000</td>\n",
       "      <td>1.000000</td>\n",
       "      <td>1.000000</td>\n",
       "    </tr>\n",
       "    <tr>\n",
       "      <th>2</th>\n",
       "      <td>0.953214</td>\n",
       "      <td>0.385084</td>\n",
       "      <td>0.663603</td>\n",
       "      <td>0.721361</td>\n",
       "      <td>0.732965</td>\n",
       "      <td>0.867251</td>\n",
       "      <td>1.000000</td>\n",
       "    </tr>\n",
       "    <tr>\n",
       "      <th>3</th>\n",
       "      <td>1.000000</td>\n",
       "      <td>0.995139</td>\n",
       "      <td>0.393892</td>\n",
       "      <td>0.568335</td>\n",
       "      <td>0.678234</td>\n",
       "      <td>0.832549</td>\n",
       "      <td>0.754717</td>\n",
       "    </tr>\n",
       "    <tr>\n",
       "      <th>4</th>\n",
       "      <td>1.000000</td>\n",
       "      <td>1.000000</td>\n",
       "      <td>0.993738</td>\n",
       "      <td>0.175014</td>\n",
       "      <td>0.370085</td>\n",
       "      <td>0.759559</td>\n",
       "      <td>0.862459</td>\n",
       "    </tr>\n",
       "    <tr>\n",
       "      <th>5</th>\n",
       "      <td>1.000000</td>\n",
       "      <td>1.000000</td>\n",
       "      <td>1.000000</td>\n",
       "      <td>0.998409</td>\n",
       "      <td>0.025715</td>\n",
       "      <td>0.613542</td>\n",
       "      <td>0.824040</td>\n",
       "    </tr>\n",
       "  </tbody>\n",
       "</table>\n",
       "</div>"
      ],
      "text/plain": [
       "         1         2         4         5         6         10        15\n",
       "1  0.504303  0.846897  0.899997  1.000000  1.000000  1.000000  1.000000\n",
       "2  0.953214  0.385084  0.663603  0.721361  0.732965  0.867251  1.000000\n",
       "3  1.000000  0.995139  0.393892  0.568335  0.678234  0.832549  0.754717\n",
       "4  1.000000  1.000000  0.993738  0.175014  0.370085  0.759559  0.862459\n",
       "5  1.000000  1.000000  1.000000  0.998409  0.025715  0.613542  0.824040"
      ]
     },
     "execution_count": 27,
     "metadata": {},
     "output_type": "execute_result"
    }
   ],
   "source": [
    "make_df(spec)"
   ]
  },
  {
   "cell_type": "code",
   "execution_count": 36,
   "metadata": {
    "collapsed": false
   },
   "outputs": [
    {
     "data": {
      "text/html": [
       "<div>\n",
       "<table border=\"1\" class=\"dataframe\">\n",
       "  <thead>\n",
       "    <tr style=\"text-align: right;\">\n",
       "      <th></th>\n",
       "      <th>1</th>\n",
       "      <th>2</th>\n",
       "      <th>4</th>\n",
       "      <th>5</th>\n",
       "      <th>6</th>\n",
       "      <th>10</th>\n",
       "      <th>15</th>\n",
       "    </tr>\n",
       "  </thead>\n",
       "  <tbody>\n",
       "    <tr>\n",
       "      <th>1</th>\n",
       "      <td>(0.554774536179, 0.000582619672108)</td>\n",
       "      <td>(0.782130137632, 0.000658739726862)</td>\n",
       "      <td>(0.834647677679, 0.000608741478702)</td>\n",
       "      <td>(1.0, 0.0)</td>\n",
       "      <td>(1.0, 0.0)</td>\n",
       "      <td>(1.0, 0.0)</td>\n",
       "      <td>(1.0, 0.0)</td>\n",
       "    </tr>\n",
       "    <tr>\n",
       "      <th>2</th>\n",
       "      <td>(0.384364133569, 0.00226416490137)</td>\n",
       "      <td>(0.512561865284, 0.000575121781495)</td>\n",
       "      <td>(0.641028013276, 0.000627199317125)</td>\n",
       "      <td>(0.676034315583, 0.000679279293006)</td>\n",
       "      <td>(0.680550327216, 0.000654010349015)</td>\n",
       "      <td>(0.80155574747, 0.000613495797165)</td>\n",
       "      <td>(1.0, 0.0)</td>\n",
       "    </tr>\n",
       "    <tr>\n",
       "      <th>3</th>\n",
       "      <td>(nan, nan)</td>\n",
       "      <td>(0.749437518038, 0.00467648374998)</td>\n",
       "      <td>(0.5034335674, 0.000566638794068)</td>\n",
       "      <td>(0.582467168012, 0.000633066515508)</td>\n",
       "      <td>(0.642780834804, 0.000653246607796)</td>\n",
       "      <td>(0.776837075838, 0.000624405214601)</td>\n",
       "      <td>(0.697037217171, 0.000661466731901)</td>\n",
       "    </tr>\n",
       "    <tr>\n",
       "      <th>4</th>\n",
       "      <td>(nan, nan)</td>\n",
       "      <td>(nan, nan)</td>\n",
       "      <td>(0.795275073538, 0.00327330710817)</td>\n",
       "      <td>(0.457088335284, 0.000523193012843)</td>\n",
       "      <td>(0.495121738659, 0.000581254190799)</td>\n",
       "      <td>(0.706960862381, 0.000646012385151)</td>\n",
       "      <td>(0.804772003475, 0.000612541465922)</td>\n",
       "    </tr>\n",
       "    <tr>\n",
       "      <th>5</th>\n",
       "      <td>(nan, nan)</td>\n",
       "      <td>(nan, nan)</td>\n",
       "      <td>(nan, nan)</td>\n",
       "      <td>(nan, nan)</td>\n",
       "      <td>(0.438308416236, 0.000470998571175)</td>\n",
       "      <td>(0.599081474028, 0.000622045233071)</td>\n",
       "      <td>(0.77530497774, 0.000595793056951)</td>\n",
       "    </tr>\n",
       "  </tbody>\n",
       "</table>\n",
       "</div>"
      ],
      "text/plain": [
       "                                    1                                    2   \\\n",
       "1  (0.554774536179, 0.000582619672108)  (0.782130137632, 0.000658739726862)   \n",
       "2   (0.384364133569, 0.00226416490137)  (0.512561865284, 0.000575121781495)   \n",
       "3                           (nan, nan)   (0.749437518038, 0.00467648374998)   \n",
       "4                           (nan, nan)                           (nan, nan)   \n",
       "5                           (nan, nan)                           (nan, nan)   \n",
       "\n",
       "                                    4                                    5   \\\n",
       "1  (0.834647677679, 0.000608741478702)                           (1.0, 0.0)   \n",
       "2  (0.641028013276, 0.000627199317125)  (0.676034315583, 0.000679279293006)   \n",
       "3    (0.5034335674, 0.000566638794068)  (0.582467168012, 0.000633066515508)   \n",
       "4   (0.795275073538, 0.00327330710817)  (0.457088335284, 0.000523193012843)   \n",
       "5                           (nan, nan)                           (nan, nan)   \n",
       "\n",
       "                                    6                                    10  \\\n",
       "1                           (1.0, 0.0)                           (1.0, 0.0)   \n",
       "2  (0.680550327216, 0.000654010349015)   (0.80155574747, 0.000613495797165)   \n",
       "3  (0.642780834804, 0.000653246607796)  (0.776837075838, 0.000624405214601)   \n",
       "4  (0.495121738659, 0.000581254190799)  (0.706960862381, 0.000646012385151)   \n",
       "5  (0.438308416236, 0.000470998571175)  (0.599081474028, 0.000622045233071)   \n",
       "\n",
       "                                    15  \n",
       "1                           (1.0, 0.0)  \n",
       "2                           (1.0, 0.0)  \n",
       "3  (0.697037217171, 0.000661466731901)  \n",
       "4  (0.804772003475, 0.000612541465922)  \n",
       "5   (0.77530497774, 0.000595793056951)  "
      ]
     },
     "execution_count": 36,
     "metadata": {},
     "output_type": "execute_result"
    }
   ],
   "source": [
    "make_df(prec_pos, True)"
   ]
  },
  {
   "cell_type": "code",
   "execution_count": 29,
   "metadata": {
    "collapsed": false
   },
   "outputs": [
    {
     "data": {
      "text/html": [
       "<div>\n",
       "<table border=\"1\" class=\"dataframe\">\n",
       "  <thead>\n",
       "    <tr style=\"text-align: right;\">\n",
       "      <th></th>\n",
       "      <th>1</th>\n",
       "      <th>2</th>\n",
       "      <th>4</th>\n",
       "      <th>5</th>\n",
       "      <th>6</th>\n",
       "      <th>10</th>\n",
       "      <th>15</th>\n",
       "    </tr>\n",
       "  </thead>\n",
       "  <tbody>\n",
       "    <tr>\n",
       "      <th>1</th>\n",
       "      <td>0.762528</td>\n",
       "      <td>0.788864</td>\n",
       "      <td>0.769685</td>\n",
       "      <td>0.742293</td>\n",
       "      <td>0.742581</td>\n",
       "      <td>0.741391</td>\n",
       "      <td>0.742076</td>\n",
       "    </tr>\n",
       "    <tr>\n",
       "      <th>2</th>\n",
       "      <td>0.560916</td>\n",
       "      <td>0.754179</td>\n",
       "      <td>0.793590</td>\n",
       "      <td>0.789435</td>\n",
       "      <td>0.783413</td>\n",
       "      <td>0.784195</td>\n",
       "      <td>0.741884</td>\n",
       "    </tr>\n",
       "    <tr>\n",
       "      <th>3</th>\n",
       "      <td>0.565286</td>\n",
       "      <td>0.567292</td>\n",
       "      <td>0.708884</td>\n",
       "      <td>0.768290</td>\n",
       "      <td>0.777319</td>\n",
       "      <td>0.812344</td>\n",
       "      <td>0.781916</td>\n",
       "    </tr>\n",
       "    <tr>\n",
       "      <th>4</th>\n",
       "      <td>0.563543</td>\n",
       "      <td>0.565989</td>\n",
       "      <td>0.569609</td>\n",
       "      <td>0.688250</td>\n",
       "      <td>0.700433</td>\n",
       "      <td>0.796379</td>\n",
       "      <td>0.805229</td>\n",
       "    </tr>\n",
       "    <tr>\n",
       "      <th>5</th>\n",
       "      <td>0.562993</td>\n",
       "      <td>0.564981</td>\n",
       "      <td>0.564005</td>\n",
       "      <td>0.564905</td>\n",
       "      <td>0.612060</td>\n",
       "      <td>0.758485</td>\n",
       "      <td>0.832130</td>\n",
       "    </tr>\n",
       "  </tbody>\n",
       "</table>\n",
       "</div>"
      ],
      "text/plain": [
       "         1         2         4         5         6         10        15\n",
       "1  0.762528  0.788864  0.769685  0.742293  0.742581  0.741391  0.742076\n",
       "2  0.560916  0.754179  0.793590  0.789435  0.783413  0.784195  0.741884\n",
       "3  0.565286  0.567292  0.708884  0.768290  0.777319  0.812344  0.781916\n",
       "4  0.563543  0.565989  0.569609  0.688250  0.700433  0.796379  0.805229\n",
       "5  0.562993  0.564981  0.564005  0.564905  0.612060  0.758485  0.832130"
      ]
     },
     "execution_count": 29,
     "metadata": {},
     "output_type": "execute_result"
    }
   ],
   "source": [
    "make_df(prec_neg)"
   ]
  },
  {
   "cell_type": "code",
   "execution_count": 30,
   "metadata": {
    "collapsed": false
   },
   "outputs": [
    {
     "data": {
      "text/html": [
       "<div>\n",
       "<table border=\"1\" class=\"dataframe\">\n",
       "  <thead>\n",
       "    <tr style=\"text-align: right;\">\n",
       "      <th></th>\n",
       "      <th>1</th>\n",
       "      <th>2</th>\n",
       "      <th>4</th>\n",
       "      <th>5</th>\n",
       "      <th>6</th>\n",
       "      <th>10</th>\n",
       "      <th>15</th>\n",
       "    </tr>\n",
       "  </thead>\n",
       "  <tbody>\n",
       "    <tr>\n",
       "      <th>1</th>\n",
       "      <td>0.797307</td>\n",
       "      <td>0.707975</td>\n",
       "      <td>0.652138</td>\n",
       "      <td>0.551190</td>\n",
       "      <td>0.551945</td>\n",
       "      <td>0.551692</td>\n",
       "      <td>0.551484</td>\n",
       "    </tr>\n",
       "    <tr>\n",
       "      <th>2</th>\n",
       "      <td>0.037649</td>\n",
       "      <td>0.837431</td>\n",
       "      <td>0.776815</td>\n",
       "      <td>0.751327</td>\n",
       "      <td>0.737363</td>\n",
       "      <td>0.692012</td>\n",
       "      <td>0.551737</td>\n",
       "    </tr>\n",
       "    <tr>\n",
       "      <th>3</th>\n",
       "      <td>0.006058</td>\n",
       "      <td>0.018828</td>\n",
       "      <td>0.791578</td>\n",
       "      <td>0.778442</td>\n",
       "      <td>0.748751</td>\n",
       "      <td>0.751954</td>\n",
       "      <td>0.728315</td>\n",
       "    </tr>\n",
       "    <tr>\n",
       "      <th>4</th>\n",
       "      <td>0.000000</td>\n",
       "      <td>0.008269</td>\n",
       "      <td>0.031271</td>\n",
       "      <td>0.897634</td>\n",
       "      <td>0.796021</td>\n",
       "      <td>0.749205</td>\n",
       "      <td>0.731091</td>\n",
       "    </tr>\n",
       "    <tr>\n",
       "      <th>5</th>\n",
       "      <td>0.000000</td>\n",
       "      <td>0.004077</td>\n",
       "      <td>0.004122</td>\n",
       "      <td>0.008430</td>\n",
       "      <td>0.979085</td>\n",
       "      <td>0.747204</td>\n",
       "      <td>0.785050</td>\n",
       "    </tr>\n",
       "  </tbody>\n",
       "</table>\n",
       "</div>"
      ],
      "text/plain": [
       "         1         2         4         5         6         10        15\n",
       "1  0.797307  0.707975  0.652138  0.551190  0.551945  0.551692  0.551484\n",
       "2  0.037649  0.837431  0.776815  0.751327  0.737363  0.692012  0.551737\n",
       "3  0.006058  0.018828  0.791578  0.778442  0.748751  0.751954  0.728315\n",
       "4  0.000000  0.008269  0.031271  0.897634  0.796021  0.749205  0.731091\n",
       "5  0.000000  0.004077  0.004122  0.008430  0.979085  0.747204  0.785050"
      ]
     },
     "execution_count": 30,
     "metadata": {},
     "output_type": "execute_result"
    }
   ],
   "source": [
    "make_df(recall_pos)"
   ]
  },
  {
   "cell_type": "code",
   "execution_count": 31,
   "metadata": {
    "collapsed": false
   },
   "outputs": [
    {
     "data": {
      "text/html": [
       "<div>\n",
       "<table border=\"1\" class=\"dataframe\">\n",
       "  <thead>\n",
       "    <tr style=\"text-align: right;\">\n",
       "      <th></th>\n",
       "      <th>1</th>\n",
       "      <th>2</th>\n",
       "      <th>4</th>\n",
       "      <th>5</th>\n",
       "      <th>6</th>\n",
       "      <th>10</th>\n",
       "      <th>15</th>\n",
       "    </tr>\n",
       "  </thead>\n",
       "  <tbody>\n",
       "    <tr>\n",
       "      <th>1</th>\n",
       "      <td>0.504303</td>\n",
       "      <td>0.846897</td>\n",
       "      <td>0.899997</td>\n",
       "      <td>1.000000</td>\n",
       "      <td>1.000000</td>\n",
       "      <td>1.000000</td>\n",
       "      <td>1.000000</td>\n",
       "    </tr>\n",
       "    <tr>\n",
       "      <th>2</th>\n",
       "      <td>0.953214</td>\n",
       "      <td>0.385084</td>\n",
       "      <td>0.663603</td>\n",
       "      <td>0.721361</td>\n",
       "      <td>0.732965</td>\n",
       "      <td>0.867251</td>\n",
       "      <td>1.000000</td>\n",
       "    </tr>\n",
       "    <tr>\n",
       "      <th>3</th>\n",
       "      <td>1.000000</td>\n",
       "      <td>0.995139</td>\n",
       "      <td>0.393892</td>\n",
       "      <td>0.568335</td>\n",
       "      <td>0.678234</td>\n",
       "      <td>0.832549</td>\n",
       "      <td>0.754717</td>\n",
       "    </tr>\n",
       "    <tr>\n",
       "      <th>4</th>\n",
       "      <td>1.000000</td>\n",
       "      <td>1.000000</td>\n",
       "      <td>0.993738</td>\n",
       "      <td>0.175014</td>\n",
       "      <td>0.370085</td>\n",
       "      <td>0.759559</td>\n",
       "      <td>0.862459</td>\n",
       "    </tr>\n",
       "    <tr>\n",
       "      <th>5</th>\n",
       "      <td>1.000000</td>\n",
       "      <td>1.000000</td>\n",
       "      <td>1.000000</td>\n",
       "      <td>0.998409</td>\n",
       "      <td>0.025715</td>\n",
       "      <td>0.613542</td>\n",
       "      <td>0.824040</td>\n",
       "    </tr>\n",
       "  </tbody>\n",
       "</table>\n",
       "</div>"
      ],
      "text/plain": [
       "         1         2         4         5         6         10        15\n",
       "1  0.504303  0.846897  0.899997  1.000000  1.000000  1.000000  1.000000\n",
       "2  0.953214  0.385084  0.663603  0.721361  0.732965  0.867251  1.000000\n",
       "3  1.000000  0.995139  0.393892  0.568335  0.678234  0.832549  0.754717\n",
       "4  1.000000  1.000000  0.993738  0.175014  0.370085  0.759559  0.862459\n",
       "5  1.000000  1.000000  1.000000  0.998409  0.025715  0.613542  0.824040"
      ]
     },
     "execution_count": 31,
     "metadata": {},
     "output_type": "execute_result"
    }
   ],
   "source": [
    "make_df(recall_neg)"
   ]
  },
  {
   "cell_type": "code",
   "execution_count": 32,
   "metadata": {
    "collapsed": false
   },
   "outputs": [
    {
     "data": {
      "text/html": [
       "<div>\n",
       "<table border=\"1\" class=\"dataframe\">\n",
       "  <thead>\n",
       "    <tr style=\"text-align: right;\">\n",
       "      <th></th>\n",
       "      <th>1</th>\n",
       "      <th>2</th>\n",
       "      <th>4</th>\n",
       "      <th>5</th>\n",
       "      <th>6</th>\n",
       "      <th>10</th>\n",
       "      <th>15</th>\n",
       "    </tr>\n",
       "  </thead>\n",
       "  <tbody>\n",
       "    <tr>\n",
       "      <th>1</th>\n",
       "      <td>0.654094</td>\n",
       "      <td>0.742976</td>\n",
       "      <td>0.731954</td>\n",
       "      <td>0.710414</td>\n",
       "      <td>0.711033</td>\n",
       "      <td>0.710820</td>\n",
       "      <td>0.710640</td>\n",
       "    </tr>\n",
       "    <tr>\n",
       "      <th>2</th>\n",
       "      <td>0.068460</td>\n",
       "      <td>0.635719</td>\n",
       "      <td>0.702222</td>\n",
       "      <td>0.711474</td>\n",
       "      <td>0.707618</td>\n",
       "      <td>0.742554</td>\n",
       "      <td>0.710836</td>\n",
       "    </tr>\n",
       "    <tr>\n",
       "      <th>3</th>\n",
       "      <td>NaN</td>\n",
       "      <td>NaN</td>\n",
       "      <td>0.615266</td>\n",
       "      <td>0.666144</td>\n",
       "      <td>0.691529</td>\n",
       "      <td>0.763987</td>\n",
       "      <td>0.712112</td>\n",
       "    </tr>\n",
       "    <tr>\n",
       "      <th>4</th>\n",
       "      <td>NaN</td>\n",
       "      <td>NaN</td>\n",
       "      <td>0.060064</td>\n",
       "      <td>0.605553</td>\n",
       "      <td>0.610302</td>\n",
       "      <td>0.727272</td>\n",
       "      <td>0.765977</td>\n",
       "    </tr>\n",
       "    <tr>\n",
       "      <th>5</th>\n",
       "      <td>NaN</td>\n",
       "      <td>NaN</td>\n",
       "      <td>NaN</td>\n",
       "      <td>NaN</td>\n",
       "      <td>0.605389</td>\n",
       "      <td>0.664788</td>\n",
       "      <td>0.779976</td>\n",
       "    </tr>\n",
       "  </tbody>\n",
       "</table>\n",
       "</div>"
      ],
      "text/plain": [
       "         1         2         4         5         6         10        15\n",
       "1  0.654094  0.742976  0.731954  0.710414  0.711033  0.710820  0.710640\n",
       "2  0.068460  0.635719  0.702222  0.711474  0.707618  0.742554  0.710836\n",
       "3       NaN       NaN  0.615266  0.666144  0.691529  0.763987  0.712112\n",
       "4       NaN       NaN  0.060064  0.605553  0.610302  0.727272  0.765977\n",
       "5       NaN       NaN       NaN       NaN  0.605389  0.664788  0.779976"
      ]
     },
     "execution_count": 32,
     "metadata": {},
     "output_type": "execute_result"
    }
   ],
   "source": [
    "make_df(f1_pos)"
   ]
  },
  {
   "cell_type": "code",
   "execution_count": 33,
   "metadata": {
    "collapsed": false
   },
   "outputs": [
    {
     "data": {
      "text/html": [
       "<div>\n",
       "<table border=\"1\" class=\"dataframe\">\n",
       "  <thead>\n",
       "    <tr style=\"text-align: right;\">\n",
       "      <th></th>\n",
       "      <th>1</th>\n",
       "      <th>2</th>\n",
       "      <th>4</th>\n",
       "      <th>5</th>\n",
       "      <th>6</th>\n",
       "      <th>10</th>\n",
       "      <th>15</th>\n",
       "    </tr>\n",
       "  </thead>\n",
       "  <tbody>\n",
       "    <tr>\n",
       "      <th>1</th>\n",
       "      <td>0.606859</td>\n",
       "      <td>0.816723</td>\n",
       "      <td>0.829645</td>\n",
       "      <td>0.852006</td>\n",
       "      <td>0.852193</td>\n",
       "      <td>0.851408</td>\n",
       "      <td>0.851856</td>\n",
       "    </tr>\n",
       "    <tr>\n",
       "      <th>2</th>\n",
       "      <td>0.706117</td>\n",
       "      <td>0.509568</td>\n",
       "      <td>0.722620</td>\n",
       "      <td>0.753693</td>\n",
       "      <td>0.757203</td>\n",
       "      <td>0.823523</td>\n",
       "      <td>0.851734</td>\n",
       "    </tr>\n",
       "    <tr>\n",
       "      <th>3</th>\n",
       "      <td>0.722162</td>\n",
       "      <td>0.722509</td>\n",
       "      <td>0.506131</td>\n",
       "      <td>0.653148</td>\n",
       "      <td>0.724237</td>\n",
       "      <td>0.822196</td>\n",
       "      <td>0.767921</td>\n",
       "    </tr>\n",
       "    <tr>\n",
       "      <th>4</th>\n",
       "      <td>0.720737</td>\n",
       "      <td>0.722744</td>\n",
       "      <td>0.724025</td>\n",
       "      <td>0.278803</td>\n",
       "      <td>0.484000</td>\n",
       "      <td>0.777394</td>\n",
       "      <td>0.832756</td>\n",
       "    </tr>\n",
       "    <tr>\n",
       "      <th>5</th>\n",
       "      <td>0.720281</td>\n",
       "      <td>0.721911</td>\n",
       "      <td>0.721111</td>\n",
       "      <td>0.721437</td>\n",
       "      <td>0.049290</td>\n",
       "      <td>0.678159</td>\n",
       "      <td>0.827954</td>\n",
       "    </tr>\n",
       "  </tbody>\n",
       "</table>\n",
       "</div>"
      ],
      "text/plain": [
       "         1         2         4         5         6         10        15\n",
       "1  0.606859  0.816723  0.829645  0.852006  0.852193  0.851408  0.851856\n",
       "2  0.706117  0.509568  0.722620  0.753693  0.757203  0.823523  0.851734\n",
       "3  0.722162  0.722509  0.506131  0.653148  0.724237  0.822196  0.767921\n",
       "4  0.720737  0.722744  0.724025  0.278803  0.484000  0.777394  0.832756\n",
       "5  0.720281  0.721911  0.721111  0.721437  0.049290  0.678159  0.827954"
      ]
     },
     "execution_count": 33,
     "metadata": {},
     "output_type": "execute_result"
    }
   ],
   "source": [
    "make_df(f1_neg)"
   ]
  },
  {
   "cell_type": "code",
   "execution_count": null,
   "metadata": {
    "collapsed": true
   },
   "outputs": [],
   "source": []
  }
 ],
 "metadata": {
  "kernelspec": {
   "display_name": "Python 3",
   "language": "python",
   "name": "python3"
  },
  "language_info": {
   "codemirror_mode": {
    "name": "ipython",
    "version": 3
   },
   "file_extension": ".py",
   "mimetype": "text/x-python",
   "name": "python",
   "nbconvert_exporter": "python",
   "pygments_lexer": "ipython3",
   "version": "3.4.4"
  }
 },
 "nbformat": 4,
 "nbformat_minor": 0
}
