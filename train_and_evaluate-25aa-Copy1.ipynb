{
 "cells": [
  {
   "cell_type": "code",
   "execution_count": 3,
   "metadata": {
    "collapsed": false
   },
   "outputs": [
    {
     "name": "stderr",
     "output_type": "stream",
     "text": [
      "/home/sturm/bin/anaconda3/lib/python3.4/site-packages/matplotlib-1.5.1+1724.g35e2781-py3.4-linux-x86_64.egg/matplotlib/__init__.py:898: UserWarning: axes.color_cycle is deprecated and replaced with axes.prop_cycle; please use the latter.\n",
      "  warnings.warn(self.msg_depr % (key, alt_key))\n"
     ]
    }
   ],
   "source": [
    "from math import sqrt\n",
    "import re\n",
    "import numpy as np\n",
    "import seaborn as sns\n",
    "import pandas as pd\n",
    "%matplotlib inline\n",
    "from pylab import * \n",
    "from itertools import product \n",
    "from mltools.perfmeasures import *\n",
    "import random \n"
   ]
  },
  {
   "cell_type": "code",
   "execution_count": 4,
   "metadata": {
    "collapsed": true
   },
   "outputs": [],
   "source": [
    "ls = range(1,5) #length of kmer\n",
    "ys = [1, 2, 3, 4, 5, 6, 10] #some threshold\n",
    "region = \"data/region25_out/region25\""
   ]
  },
  {
   "cell_type": "markdown",
   "metadata": {},
   "source": [
    "### Run profile kernel"
   ]
  },
  {
   "cell_type": "code",
   "execution_count": 5,
   "metadata": {
    "collapsed": false,
    "scrolled": true
   },
   "outputs": [
    {
     "name": "stdout",
     "output_type": "stream",
     "text": [
      ">>> Working on parameters L=1, Y=1\n",
      ">>> Working on parameters L=1, Y=2\n",
      ">>> Working on parameters L=1, Y=3\n",
      ">>> Working on parameters L=1, Y=4\n",
      ">>> Working on parameters L=1, Y=5\n",
      ">>> Working on parameters L=1, Y=6\n",
      ">>> Working on parameters L=1, Y=10\n",
      ">>> Working on parameters L=2, Y=1\n",
      ">>> Working on parameters L=2, Y=2\n",
      ">>> Working on parameters L=2, Y=3\n",
      ">>> Working on parameters L=2, Y=4\n",
      ">>> Working on parameters L=2, Y=5\n",
      ">>> Working on parameters L=2, Y=6\n",
      ">>> Working on parameters L=2, Y=10\n",
      ">>> Working on parameters L=3, Y=1\n",
      ">>> Working on parameters L=3, Y=2\n",
      ">>> Working on parameters L=3, Y=3\n",
      ">>> Working on parameters L=3, Y=4\n",
      ">>> Working on parameters L=3, Y=5\n",
      ">>> Working on parameters L=3, Y=6\n",
      ">>> Working on parameters L=3, Y=10\n",
      ">>> Working on parameters L=4, Y=1\n",
      ">>> Working on parameters L=4, Y=2\n",
      ">>> Working on parameters L=4, Y=3\n",
      ">>> Working on parameters L=4, Y=4\n",
      ">>> Working on parameters L=4, Y=5\n",
      ">>> Working on parameters L=4, Y=6\n",
      ">>> Working on parameters L=4, Y=10\n"
     ]
    }
   ],
   "source": [
    "for l, y in product(ls, ys):\n",
    "    print(\">>> Working on parameters L={0}, Y={1}\".format(l, y))\n",
    "    !profkernel-core -o {region}.idfile -K -L {l} -Y {y} -i /usr/share/fastprofkernel/data/Amino.txt -g /usr/share/fastprofkernel/data/Globals.txt {region}.kernelinput > {region}_L{l}_Y{y}.mat 2> {region}_L{l}_Y{y}.mat.log  "
   ]
  },
  {
   "cell_type": "markdown",
   "metadata": {},
   "source": [
    "### Adding row/col counts to the matrices"
   ]
  },
  {
   "cell_type": "code",
   "execution_count": 6,
   "metadata": {
    "collapsed": false
   },
   "outputs": [
    {
     "data": {
      "text/plain": [
       "1098"
      ]
     },
     "execution_count": 6,
     "metadata": {},
     "output_type": "execute_result"
    }
   ],
   "source": [
    "row_count = !wc -l {region}_L{ls[0]}_Y{ys[0]}.mat \n",
    "row_count = int(row_count[0].split(\" \")[0])\n",
    "row_count"
   ]
  },
  {
   "cell_type": "code",
   "execution_count": 7,
   "metadata": {
    "collapsed": false,
    "scrolled": true
   },
   "outputs": [],
   "source": [
    "for l, y in product(ls, ys):\n",
    "    !echo \"{row_count} {row_count}\\n$(cat {region}_L{l}_Y{y}.mat)\" > {region}_L{l}_Y{y}.2.mat"
   ]
  },
  {
   "cell_type": "markdown",
   "metadata": {},
   "source": [
    "### Execute weka"
   ]
  },
  {
   "cell_type": "code",
   "execution_count": 8,
   "metadata": {
    "collapsed": false,
    "scrolled": true
   },
   "outputs": [
    {
     "name": "stdout",
     "output_type": "stream",
     "text": [
      ">>> Working on parameters L=1, Y=1\n",
      ">>> Working on parameters L=1, Y=2\n",
      ">>> Working on parameters L=1, Y=3\n",
      ">>> Working on parameters L=1, Y=4\n",
      ">>> Working on parameters L=1, Y=5\n",
      ">>> Working on parameters L=1, Y=6\n",
      ">>> Working on parameters L=1, Y=10\n",
      ">>> Working on parameters L=2, Y=1\n",
      ">>> Working on parameters L=2, Y=2\n",
      ">>> Working on parameters L=2, Y=3\n",
      ">>> Working on parameters L=2, Y=4\n",
      ">>> Working on parameters L=2, Y=5\n",
      ">>> Working on parameters L=2, Y=6\n",
      ">>> Working on parameters L=2, Y=10\n",
      ">>> Working on parameters L=3, Y=1\n",
      ">>> Working on parameters L=3, Y=2\n",
      ">>> Working on parameters L=3, Y=3\n",
      ">>> Working on parameters L=3, Y=4\n",
      ">>> Working on parameters L=3, Y=5\n",
      ">>> Working on parameters L=3, Y=6\n",
      ">>> Working on parameters L=3, Y=10\n",
      ">>> Working on parameters L=4, Y=1\n",
      ">>> Working on parameters L=4, Y=2\n",
      ">>> Working on parameters L=4, Y=3\n",
      ">>> Working on parameters L=4, Y=4\n",
      ">>> Working on parameters L=4, Y=5\n",
      ">>> Working on parameters L=4, Y=6\n",
      ">>> Working on parameters L=4, Y=10\n"
     ]
    }
   ],
   "source": [
    "for l, y in product(ls, ys):\n",
    "    print(\">>> Working on parameters L={0}, Y={1}\".format(l, y))\n",
    "    !java -Xmx5g -cp bin/wekaTobi.jar:bin/weka.jar: weka.classifiers.meta.CVParameterSelection -p 1 -t {region}.arff -x 5 -S 1 -W weka.classifiers.functions.SMO -- -C 1.0 -L 0.0010 -P 1.0E-12 -N 0 -V -1 -W 1 -K \"weka.classifiers.functions.supportVector.CustomPrecomputedKernelMatrixKernelFast -M {region}_L{l}_Y{y}.2.mat\" > {region}_L{l}_Y{y}.weka"
   ]
  },
  {
   "cell_type": "markdown",
   "metadata": {
    "collapsed": true
   },
   "source": [
    "### extract confusion matrix from WEKA and compute standard error"
   ]
  },
  {
   "cell_type": "code",
   "execution_count": 19,
   "metadata": {
    "collapsed": true
   },
   "outputs": [],
   "source": [
    "def extract_confusion_matrix_instances(wekafile):\n",
    "    \"\"\"\n",
    "    return list [(actual, predicted), (actual, predicted), ...]\n",
    "    \"\"\"\n",
    "    dataLine = re.compile(r\"\\d+\")\n",
    "    instances = []\n",
    "    with open(wekafile) as f: \n",
    "        for line in f.readlines():\n",
    "            if dataLine.search(line): \n",
    "                actual, predicted = line.strip().split()[1:3]\n",
    "                actual = actual[2:]\n",
    "                predicted = predicted[2:]\n",
    "                instances.append((actual, predicted))\n",
    "    return instances            \n",
    "                "
   ]
  },
  {
   "cell_type": "code",
   "execution_count": 20,
   "metadata": {
    "collapsed": true
   },
   "outputs": [],
   "source": [
    "def randsample(instances, fraction=0.5):\n",
    "    return random.sample(instances, int(fraction*len(instances)))"
   ]
  },
  {
   "cell_type": "code",
   "execution_count": 21,
   "metadata": {
    "collapsed": true
   },
   "outputs": [],
   "source": [
    "def get_confusion_matrix(instances): \n",
    "    TP = FN = FP = TN = 0\n",
    "    for actual, predicted in instances: \n",
    "        if actual == \"positive\":\n",
    "            if predicted == \"positive\":\n",
    "                TP += 1\n",
    "            elif predicted == \"negative\":\n",
    "                FN += 1\n",
    "            else:\n",
    "                assert False, \"invalid predicted class\"\n",
    "        elif actual == \"negative\":\n",
    "            if predicted == \"positive\":\n",
    "                FP += 1\n",
    "            elif predicted == \"negative\":\n",
    "                TN += 1\n",
    "            else:\n",
    "                assert False, \"invalid predicted class\"\n",
    "        else: \n",
    "            assert False, \"invalid actual class\"\n",
    "    return (TP, FN, FP, TN)"
   ]
  },
  {
   "cell_type": "code",
   "execution_count": 22,
   "metadata": {
    "collapsed": true
   },
   "outputs": [],
   "source": [
    "def bootstrap(instances, iterations=1000, fraction=0.5):\n",
    "    perfs = []\n",
    "    for i in range(iterations):\n",
    "        perfs.append(get_confusion_matrix(randsample(instances)))\n",
    "    return perfs"
   ]
  },
  {
   "cell_type": "code",
   "execution_count": 23,
   "metadata": {
    "collapsed": true
   },
   "outputs": [],
   "source": [
    "def stderr(array):\n",
    "    return np.std(array) / np.sqrt(len(array))"
   ]
  },
  {
   "cell_type": "code",
   "execution_count": 48,
   "metadata": {
    "collapsed": false
   },
   "outputs": [],
   "source": [
    "perf_dict = {}\n",
    "for l, y in product(ls, ys):\n",
    "    instances = extract_confusion_matrix_instances(\"{0}_L{1}_Y{2}.weka\".format(region, l, y))\n",
    "    perfs = bootstrap(instances)\n",
    "    perf_dict[(l, y)] = perfs"
   ]
  },
  {
   "cell_type": "code",
   "execution_count": 49,
   "metadata": {
    "collapsed": false
   },
   "outputs": [],
   "source": [
    "perf_dict30 = {}\n",
    "for l, y in product(ls, ys):\n",
    "    instances = extract_confusion_matrix_instances(\"data/region30_out/region30_L{}_Y{}.weka\".format(l, y))\n",
    "    perfs = bootstrap(instances)\n",
    "    perf_dict30[(l, y)] = perfs"
   ]
  },
  {
   "cell_type": "markdown",
   "metadata": {},
   "source": [
    "### compare the parameters\n",
    "#### Which measure to use?\n",
    "* Accuracy: bad because data is unbalanced\n",
    "* F-Measure: hard to interpret intuitievely\n",
    "* MCC: good, easy to interpret and balanced\n",
    "* Sensistivity, Specificity: good, give the user information about what they actually expect from the predictor"
   ]
  },
  {
   "cell_type": "code",
   "execution_count": 50,
   "metadata": {
    "collapsed": true
   },
   "outputs": [],
   "source": [
    "def make_df(f, standard_error = False, perf_dict=perf_dict):\n",
    "    f_dict = {}\n",
    "    for y in ys:\n",
    "        f_dict[y] = {}\n",
    "        for l in ls:\n",
    "            perfs = []\n",
    "            confusion_lines = perf_dict[(l, y)]\n",
    "            for confusion_line in confusion_lines:\n",
    "                perfs.append(f(*confusion_line))\n",
    "            perf = np.mean(perfs)\n",
    "            if standard_error:\n",
    "                perf_se = stderr(perfs)\n",
    "                f_dict[y][l] = (perf, perf_se)\n",
    "            else: \n",
    "                f_dict[y][l] = perf\n",
    "    return pd.DataFrame(f_dict)"
   ]
  },
  {
   "cell_type": "code",
   "execution_count": 30,
   "metadata": {
    "collapsed": false
   },
   "outputs": [
    {
     "data": {
      "text/html": [
       "<div>\n",
       "<table border=\"1\" class=\"dataframe\">\n",
       "  <thead>\n",
       "    <tr style=\"text-align: right;\">\n",
       "      <th></th>\n",
       "      <th>1</th>\n",
       "      <th>2</th>\n",
       "      <th>3</th>\n",
       "      <th>4</th>\n",
       "      <th>5</th>\n",
       "      <th>6</th>\n",
       "      <th>10</th>\n",
       "    </tr>\n",
       "  </thead>\n",
       "  <tbody>\n",
       "    <tr>\n",
       "      <th>1</th>\n",
       "      <td>0.515116</td>\n",
       "      <td>0.653673</td>\n",
       "      <td>0.699319</td>\n",
       "      <td>0.649084</td>\n",
       "      <td>0.638827</td>\n",
       "      <td>0.639292</td>\n",
       "      <td>0.639865</td>\n",
       "    </tr>\n",
       "    <tr>\n",
       "      <th>2</th>\n",
       "      <td>0.197311</td>\n",
       "      <td>0.461638</td>\n",
       "      <td>0.552431</td>\n",
       "      <td>0.585958</td>\n",
       "      <td>0.606381</td>\n",
       "      <td>0.605746</td>\n",
       "      <td>0.657069</td>\n",
       "    </tr>\n",
       "    <tr>\n",
       "      <th>3</th>\n",
       "      <td>NaN</td>\n",
       "      <td>0.111180</td>\n",
       "      <td>0.412250</td>\n",
       "      <td>0.468657</td>\n",
       "      <td>0.541184</td>\n",
       "      <td>0.584321</td>\n",
       "      <td>0.670016</td>\n",
       "    </tr>\n",
       "    <tr>\n",
       "      <th>4</th>\n",
       "      <td>NaN</td>\n",
       "      <td>NaN</td>\n",
       "      <td>NaN</td>\n",
       "      <td>0.140733</td>\n",
       "      <td>0.341856</td>\n",
       "      <td>0.458765</td>\n",
       "      <td>0.626219</td>\n",
       "    </tr>\n",
       "  </tbody>\n",
       "</table>\n",
       "</div>"
      ],
      "text/plain": [
       "         1         2         3         4         5         6         10\n",
       "1  0.515116  0.653673  0.699319  0.649084  0.638827  0.639292  0.639865\n",
       "2  0.197311  0.461638  0.552431  0.585958  0.606381  0.605746  0.657069\n",
       "3       NaN  0.111180  0.412250  0.468657  0.541184  0.584321  0.670016\n",
       "4       NaN       NaN       NaN  0.140733  0.341856  0.458765  0.626219"
      ]
     },
     "execution_count": 30,
     "metadata": {},
     "output_type": "execute_result"
    },
    {
     "data": {
      "image/png": "[encoded data removed]",
      "text/plain": [
       "<matplotlib.figure.Figure at 0x7f32b9432400>"
      ]
     },
     "metadata": {},
     "output_type": "display_data"
    }
   ],
   "source": [
    "sns.set_context(\"talk\")\n",
    "fig, ax = subplots(figsize=(6, 4))\n",
    "sns.heatmap(make_df(mcc))\n",
    "ax.set_xlabel(\"Y (conservation)\")\n",
    "ax.set_ylabel(\"L (length)\")\n",
    "ax.set_title(\"Parameter Optimization 25AA (MCC)\")\n",
    "fig.savefig(\"pres/img/mcc25.pdf\")\n",
    "make_df(mcc)"
   ]
  },
  {
   "cell_type": "code",
   "execution_count": 27,
   "metadata": {
    "collapsed": false,
    "scrolled": false
   },
   "outputs": [
    {
     "data": {
      "image/png": "[encoded data removed]",
      "text/plain": [
       "<matplotlib.figure.Figure at 0x7f32b9735c18>"
      ]
     },
     "metadata": {},
     "output_type": "display_data"
    }
   ],
   "source": [
    "fig, grid = subplots(3, 3, figsize=(15, 15))\n",
    "\n",
    "sns.heatmap(make_df(mcc), ax=grid[0][0], vmin=0, vmax=1)\n",
    "grid[0][0].set_title(\"MCC\")\n",
    "\n",
    "sns.heatmap(make_df(sens), ax=grid[0][1], vmin=0, vmax=1)\n",
    "grid[0][1].set_title(\"Sensitivity\")\n",
    "\n",
    "sns.heatmap(make_df(spec), ax=grid[0][2], vmin=0, vmax=1)\n",
    "grid[0][2].set_title(\"Specificity\")\n",
    "\n",
    "sns.heatmap(make_df(prec_pos), ax=grid[1][0], vmin=0, vmax=1)\n",
    "grid[1][0].set_title(\"Positive Precision\")\n",
    "\n",
    "sns.heatmap(make_df(prec_neg), ax=grid[1][1], vmin=0, vmax=1)\n",
    "grid[1][1].set_title(\"Negative Precision\")\n",
    "\n",
    "sns.heatmap(make_df(recall_pos), ax=grid[1][2], vmin=0, vmax=1)\n",
    "grid[1][2].set_title(\"Positive Recall\")\n",
    "\n",
    "sns.heatmap(make_df(recall_neg), ax=grid[2][0], vmin=0, vmax=1)\n",
    "grid[2][0].set_title(\"Negative Recall\")\n",
    "\n",
    "sns.heatmap(make_df(f1_pos), ax=grid[2][1], vmin=0, vmax=1)\n",
    "grid[2][1].set_title(\"Positive F1\")\n",
    "\n",
    "sns.heatmap(make_df(f1_neg), ax=grid[2][2], vmin=0, vmax=1)\n",
    "grid[2][2].set_title(\"Negative F1\")\n",
    "\n",
    "\n",
    "for ax in grid.flatten():\n",
    "    ax.set_xlabel(\"Y\")\n",
    "    ax.set_ylabel(\"L\")\n",
    "    \n",
    "fig.savefig(\"wiki/eval25.png\")"
   ]
  },
  {
   "cell_type": "code",
   "execution_count": 51,
   "metadata": {
    "collapsed": false
   },
   "outputs": [],
   "source": [
    "mccdf = make_df(mcc, True)\n",
    "mccdf30 = make_df(mcc, True, perf_dict30)"
   ]
  },
  {
   "cell_type": "code",
   "execution_count": 52,
   "metadata": {
    "collapsed": false
   },
   "outputs": [],
   "source": [
    "sensdf = make_df(sens, True)\n",
    "sensdf30 = make_df(sens, True, perf_dict30)"
   ]
  },
  {
   "cell_type": "code",
   "execution_count": 53,
   "metadata": {
    "collapsed": false
   },
   "outputs": [],
   "source": [
    "specdf = make_df(spec, True)\n",
    "specdf30 = make_df(spec, True, perf_dict30)"
   ]
  },
  {
   "cell_type": "code",
   "execution_count": 54,
   "metadata": {
    "collapsed": false
   },
   "outputs": [
    {
     "data": {
      "text/plain": [
       "(0.70015006568485905, 0.00051838483647845528)"
      ]
     },
     "execution_count": 54,
     "metadata": {},
     "output_type": "execute_result"
    }
   ],
   "source": [
    "mccdf[3][1]"
   ]
  },
  {
   "cell_type": "code",
   "execution_count": 101,
   "metadata": {
    "collapsed": false
   },
   "outputs": [],
   "source": [
    "dd = {\n",
    "    \"MCC\": [mccdf[3][1][0], mccdf30[3][1][0]],\n",
    "    \"Sens.\": [sensdf[3][1][0], sensdf30[3][1][0]],\n",
    "    \"Spec.\": [specdf[3][1][0], specdf30[3][1][0]]\n",
    "}\n",
    "dderr = {\n",
    "    \"MCC\": [mccdf[3][1][1], mccdf30[3][1][1]],\n",
    "    \"Sens.\": [sensdf[3][1][1], sensdf30[3][1][1]],\n",
    "    \"Spec.\": [specdf[3][1][1], specdf30[3][1][1]]\n",
    "}"
   ]
  },
  {
   "cell_type": "code",
   "execution_count": 102,
   "metadata": {
    "collapsed": false
   },
   "outputs": [],
   "source": [
    "df = pd.DataFrame(dd)\n",
    "dferr = pd.DataFrame(dderr)"
   ]
  },
  {
   "cell_type": "code",
   "execution_count": 103,
   "metadata": {
    "collapsed": false
   },
   "outputs": [],
   "source": [
    "df = df.transpose()\n",
    "dferr = dferr.transpose()"
   ]
  },
  {
   "cell_type": "code",
   "execution_count": 104,
   "metadata": {
    "collapsed": false
   },
   "outputs": [
    {
     "data": {
      "text/html": [
       "<div>\n",
       "<table border=\"1\" class=\"dataframe\">\n",
       "  <thead>\n",
       "    <tr style=\"text-align: right;\">\n",
       "      <th></th>\n",
       "      <th>25aa</th>\n",
       "      <th>30aa</th>\n",
       "    </tr>\n",
       "  </thead>\n",
       "  <tbody>\n",
       "    <tr>\n",
       "      <th>MCC</th>\n",
       "      <td>0.700150</td>\n",
       "      <td>0.684635</td>\n",
       "    </tr>\n",
       "    <tr>\n",
       "      <th>Sens.</th>\n",
       "      <td>0.685198</td>\n",
       "      <td>0.670502</td>\n",
       "    </tr>\n",
       "    <tr>\n",
       "      <th>Spec.</th>\n",
       "      <td>0.943613</td>\n",
       "      <td>0.934023</td>\n",
       "    </tr>\n",
       "  </tbody>\n",
       "</table>\n",
       "</div>"
      ],
      "text/plain": [
       "           25aa      30aa\n",
       "MCC    0.700150  0.684635\n",
       "Sens.  0.685198  0.670502\n",
       "Spec.  0.943613  0.934023"
      ]
     },
     "execution_count": 104,
     "metadata": {},
     "output_type": "execute_result"
    }
   ],
   "source": [
    "df.columns = [\"25aa\", \"30aa\"]\n",
    "df"
   ]
  },
  {
   "cell_type": "code",
   "execution_count": 105,
   "metadata": {
    "collapsed": false
   },
   "outputs": [
    {
     "data": {
      "text/html": [
       "<div>\n",
       "<table border=\"1\" class=\"dataframe\">\n",
       "  <thead>\n",
       "    <tr style=\"text-align: right;\">\n",
       "      <th></th>\n",
       "      <th>25aa</th>\n",
       "      <th>30aa</th>\n",
       "    </tr>\n",
       "  </thead>\n",
       "  <tbody>\n",
       "    <tr>\n",
       "      <th>MCC</th>\n",
       "      <td>0.000518</td>\n",
       "      <td>0.000585</td>\n",
       "    </tr>\n",
       "    <tr>\n",
       "      <th>Sens.</th>\n",
       "      <td>0.000689</td>\n",
       "      <td>0.000776</td>\n",
       "    </tr>\n",
       "    <tr>\n",
       "      <th>Spec.</th>\n",
       "      <td>0.000298</td>\n",
       "      <td>0.000343</td>\n",
       "    </tr>\n",
       "  </tbody>\n",
       "</table>\n",
       "</div>"
      ],
      "text/plain": [
       "           25aa      30aa\n",
       "MCC    0.000518  0.000585\n",
       "Sens.  0.000689  0.000776\n",
       "Spec.  0.000298  0.000343"
      ]
     },
     "execution_count": 105,
     "metadata": {},
     "output_type": "execute_result"
    }
   ],
   "source": [
    "dferr.columns = [\"25aa\", \"30aa\"]\n",
    "# dferr = dferr * 200\n",
    "dferr"
   ]
  },
  {
   "cell_type": "code",
   "execution_count": 107,
   "metadata": {
    "collapsed": false,
    "scrolled": true
   },
   "outputs": [
    {
     "data": {
      "image/png": "[encoded data removed]",
      "text/plain": [
       "<matplotlib.figure.Figure at 0x7f32b9bf0d68>"
      ]
     },
     "metadata": {},
     "output_type": "display_data"
    }
   ],
   "source": [
    "fig, ax = subplots(figsize=(5, 4))\n",
    "df.plot.bar(ax=ax, yerr=dferr)\n",
    "ax.set_xticklabels(ax.xaxis.get_majorticklabels(), rotation=0)\n",
    "fig.savefig(\"pres/img/perfs_best.pdf\")"
   ]
  },
  {
   "cell_type": "code",
   "execution_count": null,
   "metadata": {
    "collapsed": true
   },
   "outputs": [],
   "source": []
  }
 ],
 "metadata": {
  "kernelspec": {
   "display_name": "Python 3",
   "language": "python",
   "name": "python3"
  },
  "language_info": {
   "codemirror_mode": {
    "name": "ipython",
    "version": 3
   },
   "file_extension": ".py",
   "mimetype": "text/x-python",
   "name": "python",
   "nbconvert_exporter": "python",
   "pygments_lexer": "ipython3",
   "version": "3.4.4"
  }
 },
 "nbformat": 4,
 "nbformat_minor": 0
}
