{
 "cells": [
  {
   "cell_type": "code",
   "execution_count": 1,
   "metadata": {
    "collapsed": false
   },
   "outputs": [
    {
     "name": "stderr",
     "output_type": "stream",
     "text": [
      "/home/sturm/bin/anaconda3/lib/python3.4/site-packages/matplotlib-1.5.1+1724.g35e2781-py3.4-linux-x86_64.egg/matplotlib/__init__.py:898: UserWarning: axes.color_cycle is deprecated and replaced with axes.prop_cycle; please use the latter.\n",
      "  warnings.warn(self.msg_depr % (key, alt_key))\n"
     ]
    }
   ],
   "source": [
    "from math import sqrt\n",
    "import re\n",
    "import numpy as np\n",
    "import seaborn as sns\n",
    "import pandas as pd\n",
    "%matplotlib inline\n",
    "from pylab import * \n",
    "from itertools import product \n"
   ]
  },
  {
   "cell_type": "code",
   "execution_count": 2,
   "metadata": {
    "collapsed": true
   },
   "outputs": [],
   "source": [
    "ls = range(1,6) #length of kmer\n",
    "ys = [1, 2, 4, 5, 6, 10, 15] #some threshold\n",
    "region = \"data/region30_out/region30\""
   ]
  },
  {
   "cell_type": "markdown",
   "metadata": {},
   "source": [
    "### Run profile kernel"
   ]
  },
  {
   "cell_type": "code",
   "execution_count": 3,
   "metadata": {
    "collapsed": false,
    "scrolled": true
   },
   "outputs": [
    {
     "name": "stdout",
     "output_type": "stream",
     "text": [
      ">>> Working on parameters L=1, Y=1\n",
      ">>> Working on parameters L=1, Y=2\n",
      ">>> Working on parameters L=1, Y=4\n",
      ">>> Working on parameters L=1, Y=5\n",
      ">>> Working on parameters L=1, Y=6\n",
      ">>> Working on parameters L=1, Y=10\n",
      ">>> Working on parameters L=1, Y=15\n",
      ">>> Working on parameters L=2, Y=1\n",
      ">>> Working on parameters L=2, Y=2\n",
      ">>> Working on parameters L=2, Y=4\n",
      ">>> Working on parameters L=2, Y=5\n",
      ">>> Working on parameters L=2, Y=6\n",
      ">>> Working on parameters L=2, Y=10\n",
      ">>> Working on parameters L=2, Y=15\n",
      ">>> Working on parameters L=3, Y=1\n",
      ">>> Working on parameters L=3, Y=2\n",
      ">>> Working on parameters L=3, Y=4\n",
      ">>> Working on parameters L=3, Y=5\n",
      ">>> Working on parameters L=3, Y=6\n",
      ">>> Working on parameters L=3, Y=10\n",
      ">>> Working on parameters L=3, Y=15\n",
      ">>> Working on parameters L=4, Y=1\n",
      ">>> Working on parameters L=4, Y=2\n",
      ">>> Working on parameters L=4, Y=4\n",
      ">>> Working on parameters L=4, Y=5\n",
      ">>> Working on parameters L=4, Y=6\n",
      ">>> Working on parameters L=4, Y=10\n",
      ">>> Working on parameters L=4, Y=15\n",
      ">>> Working on parameters L=5, Y=1\n",
      ">>> Working on parameters L=5, Y=2\n",
      ">>> Working on parameters L=5, Y=4\n",
      ">>> Working on parameters L=5, Y=5\n",
      ">>> Working on parameters L=5, Y=6\n",
      ">>> Working on parameters L=5, Y=10\n",
      ">>> Working on parameters L=5, Y=15\n"
     ]
    }
   ],
   "source": [
    "for l, y in product(ls, ys):\n",
    "    print(\">>> Working on parameters L={0}, Y={1}\".format(l, y))\n",
    "    !profkernel-core -o {region}.idfile -K -L {l} -Y {y} -i /usr/share/fastprofkernel/data/Amino.txt -g /usr/share/fastprofkernel/data/Globals.txt {region}.kernelinput > {region}_L{l}_Y{y}.mat 2> {region}_L{l}_Y{y}.mat.log  "
   ]
  },
  {
   "cell_type": "markdown",
   "metadata": {},
   "source": [
    "### Adding row/col counts to the matrices"
   ]
  },
  {
   "cell_type": "code",
   "execution_count": 4,
   "metadata": {
    "collapsed": false
   },
   "outputs": [
    {
     "data": {
      "text/plain": [
       "876"
      ]
     },
     "execution_count": 4,
     "metadata": {},
     "output_type": "execute_result"
    }
   ],
   "source": [
    "row_count = !wc -l {region}_L{ls[0]}_Y{ys[0]}.mat \n",
    "row_count = int(row_count[0].split(\" \")[0])\n",
    "row_count"
   ]
  },
  {
   "cell_type": "code",
   "execution_count": 5,
   "metadata": {
    "collapsed": false,
    "scrolled": true
   },
   "outputs": [],
   "source": [
    "for l, y in product(ls, ys):\n",
    "    !echo \"{row_count} {row_count}\\n$(cat {region}_L{l}_Y{y}.mat)\" > {region}_L{l}_Y{y}.2.mat"
   ]
  },
  {
   "cell_type": "markdown",
   "metadata": {},
   "source": [
    "### Execute weka"
   ]
  },
  {
   "cell_type": "code",
   "execution_count": 6,
   "metadata": {
    "collapsed": false
   },
   "outputs": [
    {
     "name": "stdout",
     "output_type": "stream",
     "text": [
      ">>> Working on parameters L=1, Y=1\n",
      ">>> Working on parameters L=1, Y=2\n",
      ">>> Working on parameters L=1, Y=4\n",
      ">>> Working on parameters L=1, Y=5\n",
      ">>> Working on parameters L=1, Y=6\n",
      ">>> Working on parameters L=1, Y=10\n",
      ">>> Working on parameters L=1, Y=15\n",
      ">>> Working on parameters L=2, Y=1\n",
      ">>> Working on parameters L=2, Y=2\n",
      ">>> Working on parameters L=2, Y=4\n",
      ">>> Working on parameters L=2, Y=5\n",
      ">>> Working on parameters L=2, Y=6\n",
      ">>> Working on parameters L=2, Y=10\n",
      ">>> Working on parameters L=2, Y=15\n",
      ">>> Working on parameters L=3, Y=1\n",
      ">>> Working on parameters L=3, Y=2\n",
      ">>> Working on parameters L=3, Y=4\n",
      ">>> Working on parameters L=3, Y=5\n",
      ">>> Working on parameters L=3, Y=6\n",
      ">>> Working on parameters L=3, Y=10\n",
      ">>> Working on parameters L=3, Y=15\n",
      ">>> Working on parameters L=4, Y=1\n",
      ">>> Working on parameters L=4, Y=2\n",
      ">>> Working on parameters L=4, Y=4\n",
      ">>> Working on parameters L=4, Y=5\n",
      ">>> Working on parameters L=4, Y=6\n",
      ">>> Working on parameters L=4, Y=10\n",
      ">>> Working on parameters L=4, Y=15\n",
      ">>> Working on parameters L=5, Y=1\n",
      ">>> Working on parameters L=5, Y=2\n",
      ">>> Working on parameters L=5, Y=4\n",
      ">>> Working on parameters L=5, Y=5\n",
      ">>> Working on parameters L=5, Y=6\n",
      ">>> Working on parameters L=5, Y=10\n",
      ">>> Working on parameters L=5, Y=15\n"
     ]
    }
   ],
   "source": [
    "for l, y in product(ls, ys):\n",
    "    print(\">>> Working on parameters L={0}, Y={1}\".format(l, y))\n",
    "    !java -Xmx5g -cp bin/wekaTobi.jar:bin/weka.jar: weka.classifiers.meta.CVParameterSelection -t {region}.arff -x 5 -S 1 -W weka.classifiers.functions.SMO -- -C 1.0 -L 0.0010 -P 1.0E-12 -N 0 -V -1 -W 1 -K \"weka.classifiers.functions.supportVector.CustomPrecomputedKernelMatrixKernelFast -M {region}_L{l}_Y{y}.2.mat\" > {region}_L{l}_Y{y}.weka"
   ]
  },
  {
   "cell_type": "markdown",
   "metadata": {
    "collapsed": true
   },
   "source": [
    "### extract confusion matrix from WEKA"
   ]
  },
  {
   "cell_type": "code",
   "execution_count": 7,
   "metadata": {
    "collapsed": false
   },
   "outputs": [],
   "source": [
    "perf_dict = {}\n",
    "for l, y in product(ls, ys):\n",
    "    file = \"{}_L{}_Y{}.weka\".format(region, l, y)\n",
    "    matrix = []\n",
    "    with open(file) as f: \n",
    "        isMatrix = False\n",
    "        isCV = False\n",
    "        for line in f.readlines():         \n",
    "            if line.startswith(\"=== Stratified cross-validation\"):\n",
    "                isCV = True\n",
    "            if isCV and line.startswith(\"=== Confusion Matrix\"):\n",
    "                isMatrix = True\n",
    "            if isMatrix and isCV: \n",
    "                matrix.append(line)\n",
    "    pos = matrix[3].split(\"|\")[0].strip()\n",
    "    neg = matrix[4].split(\"|\")[0].strip()\n",
    "    TP, FN = (int(x.strip()) for x in pos.split())\n",
    "    FP, TN = (int(x.strip()) for x in neg.split())\n",
    "    perf_dict[(l, y)] = (TP, FN, FP, FN)"
   ]
  },
  {
   "cell_type": "markdown",
   "metadata": {},
   "source": [
    "### compare the parameters\n",
    "#### Which measure to use?\n",
    "* Accuracy: bad because data is unbalanced\n",
    "* F-Measure: hard to interpret intuitievely\n",
    "* MCC: good, easy to interpret and balanced\n",
    "* Sensistivity, Specificity: good, give the user information about what they actually expect from the predictor"
   ]
  },
  {
   "cell_type": "code",
   "execution_count": 8,
   "metadata": {
    "collapsed": true
   },
   "outputs": [],
   "source": [
    "def mcc(TP, FN, FP, TN): \n",
    "    return np.divide(TP * TN + FP * FN, sqrt( (TP+FP) * (TP+FN) * (TN+FP) * (TN+FN)))"
   ]
  },
  {
   "cell_type": "code",
   "execution_count": 9,
   "metadata": {
    "collapsed": true
   },
   "outputs": [],
   "source": [
    "def sens(TP, FN, FP, TN):\n",
    "    return TP / (TP + FN)"
   ]
  },
  {
   "cell_type": "code",
   "execution_count": 10,
   "metadata": {
    "collapsed": true
   },
   "outputs": [],
   "source": [
    "def spec(TP, FN, FP, TN):\n",
    "    return TN / (TN + FP)"
   ]
  },
  {
   "cell_type": "code",
   "execution_count": 11,
   "metadata": {
    "collapsed": true
   },
   "outputs": [],
   "source": [
    "def make_df(f):\n",
    "    f_dict = {}\n",
    "    for y in ys:\n",
    "        f_dict[y] = {}\n",
    "        for l in ls:\n",
    "            f_dict[y][l] = f(*perf_dict[l, y])\n",
    "    return pd.DataFrame(f_dict)"
   ]
  },
  {
   "cell_type": "code",
   "execution_count": 12,
   "metadata": {
    "collapsed": false
   },
   "outputs": [
    {
     "data": {
      "image/png": "[encoded data removed]",
      "text/plain": [
       "<matplotlib.figure.Figure at 0x7f6158766278>"
      ]
     },
     "metadata": {},
     "output_type": "display_data"
    }
   ],
   "source": [
    "fig, (ax1, ax2, ax3) = subplots(1, 3, figsize=(15, 4))\n",
    "sns.heatmap(make_df(mcc), ax=ax1)\n",
    "ax1.set_title(\"MCC\")\n",
    "sns.heatmap(make_df(sens), ax=ax2)\n",
    "ax2.set_title(\"Sens\")\n",
    "sns.heatmap(make_df(spec), ax=ax3)\n",
    "ax3.set_title(\"Spec\")\n",
    "for ax in (ax1, ax2, ax3):\n",
    "    ax.set_xlabel(\"Y\")\n",
    "    ax.set_ylabel(\"L\")"
   ]
  },
  {
   "cell_type": "markdown",
   "metadata": {},
   "source": [
    "#### try roc curve"
   ]
  },
  {
   "cell_type": "code",
   "execution_count": 13,
   "metadata": {
    "collapsed": true
   },
   "outputs": [],
   "source": [
    "df_sens = make_df(sens)\n",
    "df_spec = make_df(spec)"
   ]
  },
  {
   "cell_type": "code",
   "execution_count": 27,
   "metadata": {
    "collapsed": false
   },
   "outputs": [],
   "source": [
    "sns = []\n",
    "sps = []\n",
    "for i, row in df_sens.iterrows():\n",
    "    for sn in row:\n",
    "        sns.append(sn)\n",
    "for i, row in df_spec.iterrows():\n",
    "    for sp in row:\n",
    "        sps.append(1-sp)"
   ]
  },
  {
   "cell_type": "code",
   "execution_count": 28,
   "metadata": {
    "collapsed": false
   },
   "outputs": [
    {
     "data": {
      "text/plain": [
       "<matplotlib.collections.PathCollection at 0x7f61552ce470>"
      ]
     },
     "execution_count": 28,
     "metadata": {},
     "output_type": "execute_result"
    },
    {
     "data": {
      "image/png": "[encoded data removed]",
      "text/plain": [
       "<matplotlib.figure.Figure at 0x7f6155329ef0>"
      ]
     },
     "metadata": {},
     "output_type": "display_data"
    }
   ],
   "source": [
    "scatter(sps, sns)"
   ]
  },
  {
   "cell_type": "code",
   "execution_count": null,
   "metadata": {
    "collapsed": true
   },
   "outputs": [],
   "source": []
  }
 ],
 "metadata": {
  "kernelspec": {
   "display_name": "Python 3",
   "language": "python",
   "name": "python3"
  },
  "language_info": {
   "codemirror_mode": {
    "name": "ipython",
    "version": 3
   },
   "file_extension": ".py",
   "mimetype": "text/x-python",
   "name": "python",
   "nbconvert_exporter": "python",
   "pygments_lexer": "ipython3",
   "version": "3.4.4"
  }
 },
 "nbformat": 4,
 "nbformat_minor": 0
}
