{
 "cells": [
  {
   "cell_type": "code",
   "execution_count": 1,
   "metadata": {
    "collapsed": true
   },
   "outputs": [],
   "source": [
    "#!/usr/bin/python\n",
    "import re\n",
    "import itertools"
   ]
  },
  {
   "cell_type": "code",
   "execution_count": 2,
   "metadata": {
    "collapsed": true
   },
   "outputs": [],
   "source": [
    "profiles = {}\n",
    "pattern = re.compile(r\"\\s*\\d+\")\n",
    "with open(\"data/ss1_16_indepTestSet_groups5_4.profile\") as prof_file:\n",
    "    lines = prof_file.readlines()\n",
    "    i = 0\n",
    "    while i < len(lines):\n",
    "        line = lines[i].strip()\n",
    "        if line.startswith(\">\"):\n",
    "            header = line[1:]\n",
    "            if(header.find(\"#\") >= 0): \n",
    "                header = header.split(\"#\")[1]\n",
    "            prof = []\n",
    "            i+=5\n",
    "        elif pattern.match(line):\n",
    "            prof.append(line)\n",
    "            i+=1\n",
    "        else: \n",
    "            profiles[header] = prof\n",
    "            i+=6      "
   ]
  },
  {
   "cell_type": "code",
   "execution_count": 3,
   "metadata": {
    "collapsed": true
   },
   "outputs": [],
   "source": [
    "def get_profile(header, start, stop, mname): \n",
    "    prof = [\n",
    "        \"\"\"    \n",
    "Last position-specific scoring matrix computed, weighted observed percentages rounded down, information per position, and relative weight of gapless real matches to pseudocounts\n",
    "           A  R  N  D  C  Q  E  G  H  I  L  K  M  F  P  S  T  W  Y  V   A   R   N   D   C   Q   E   G   H   I   L   K   M   F   P   S   T   W   Y   V\"\"\"\n",
    "    ]\n",
    "    prof.extend(profiles[header][start:stop])\n",
    "    return prof"
   ]
  },
  {
   "cell_type": "code",
   "execution_count": 4,
   "metadata": {
    "collapsed": false
   },
   "outputs": [],
   "source": [
    "daten = open(\"data/ss1_16_indepTestSet_groups5_6.txt\").readlines()\n",
    "lens = [25, 30]\n",
    "# lens = [25]\n",
    "# method_ids = [0]\n",
    "method_ids = [0, 1, 2]\n",
    "method_patterns = ['\\s\\d+\\s(\\w)\\s\\d.\\d\\d\\s([D-])', \n",
    "                   '\\s\\d+\\s(\\w)\\s\\d.\\d\\d\\s[D-]\\s\\d.\\d\\d\\s([D-])',\n",
    "                   '\\s\\d+\\s(\\w)\\s\\d.\\d\\d\\s[D-]\\s\\d.\\d\\d\\s[D-]\\s\\d.\\d\\d\\s([D-])']\n",
    "method_names = [\"norsnet\", \"bval\", \"ucon\"]\n",
    "\n",
    "for rlen, mid in itertools.product(lens, method_ids):\n",
    "    pattern = method_patterns[mid]\n",
    "    mname = method_names[mid]\n",
    "    !mkdir -p data/testset{rlen}.{mname}/possitiv  data/testset{rlen}.{mname}/negativ\n",
    "    i=0\n",
    "    countO = 1\n",
    "    countD = 1\n",
    "    while i<len(daten) :\n",
    "        if daten[i].startswith(\">\"):\n",
    "            pos = 0\n",
    "            countO = countD = 1\n",
    "            header = daten[i][1:].strip().split(\"#\")[1]\n",
    "            i=i+3\n",
    "            zeile = re.search(pattern,daten[i])\n",
    "            now = zeile.group(2)\n",
    "            sequenz = [zeile.group(1)]\n",
    "            i= i+1\n",
    "        elif daten[i].startswith(\" \"):\n",
    "            zeile = re.search(pattern,daten[i])\n",
    "            pos += 1\n",
    "            if now == zeile.group(2) and countD <rlen and countO < rlen:\n",
    "                sequenz.append(zeile.group(1))\n",
    "                if now=='D':\n",
    "                    countD = countD+1\n",
    "                    countO = 1\n",
    "                else:\n",
    "                    countO = countO+1\n",
    "                    countD = 1\n",
    "            elif countD == rlen:                \n",
    "                sequenz = ''.join(sequenz)\n",
    "                assert len(sequenz) == rlen, (countD, len(sequenz), sequenz)\n",
    "                basename = \"data/testset{}.{}/possitiv/region_1_{}_{}\".format(rlen,mname,header,pos-rlen)\n",
    "                newDisorder= open(basename +'.fa','w')\n",
    "                newDisorderMat = open(basename + \".fa.blastPsiMat\", 'w')\n",
    "                newDisorder.write(\">\" + header+ \" \" + mname + \"\\n\"+ sequenz)\n",
    "                newDisorderMat.write(\"\\n\".join(get_profile(header, pos-rlen, pos, mname)) + \"\\n\")\n",
    "                newDisorderMat.close()\n",
    "                newDisorder.close()\n",
    "                sequenz=[zeile.group(1)]\n",
    "                countD =1\n",
    "                now = zeile.group(2)\n",
    "            elif countO == rlen:\n",
    "                sequenz = ''.join(sequenz)\n",
    "                assert len(sequenz) == rlen, (countO, len(sequenz), sequenz)\n",
    "                basename = \"data/testset{}.{}/negativ/region_1_{}_{}\".format(rlen,mname,header,pos-rlen)\n",
    "                newOrder= open(basename + '.fa','w')\n",
    "                newOrderMat = open(basename + \".fa.blastPsiMat\", 'w')\n",
    "                newOrderMat.write(\"\\n\".join(get_profile(header, pos-rlen, pos, mname)) + \"\\n\")\n",
    "                newOrderMat.close()\n",
    "                newOrder.write(\">\" + header+ \" \" + mname + \"\\n\"+ sequenz)\n",
    "                newOrder.close()\n",
    "                countO=1\n",
    "                sequenz = [zeile.group(1)]\n",
    "                now = zeile.group(2)\n",
    "            else:\n",
    "                sequenz= [zeile.group(1)]\n",
    "                countO=1\n",
    "                countD=1\n",
    "                now = zeile.group(2)\n",
    "            i=i+1\n",
    "        else:\n",
    "            i=i+1\n"
   ]
  },
  {
   "cell_type": "code",
   "execution_count": null,
   "metadata": {
    "collapsed": true
   },
   "outputs": [],
   "source": []
  }
 ],
 "metadata": {
  "kernelspec": {
   "display_name": "Python 3",
   "language": "python",
   "name": "python3"
  },
  "language_info": {
   "codemirror_mode": {
    "name": "ipython",
    "version": 3
   },
   "file_extension": ".py",
   "mimetype": "text/x-python",
   "name": "python",
   "nbconvert_exporter": "python",
   "pygments_lexer": "ipython3",
   "version": "3.4.4"
  }
 },
 "nbformat": 4,
 "nbformat_minor": 0
}
