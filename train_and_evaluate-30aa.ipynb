{
 "cells": [
  {
   "cell_type": "code",
   "execution_count": 15,
   "metadata": {
    "collapsed": false
   },
   "outputs": [],
   "source": [
    "from math import sqrt\n",
    "import re\n",
    "import numpy as np\n",
    "import seaborn as sns\n",
    "import pandas as pd\n",
    "%matplotlib inline\n",
    "from pylab import * \n",
    "from itertools import product \n"
   ]
  },
  {
   "cell_type": "code",
   "execution_count": 16,
   "metadata": {
    "collapsed": true
   },
   "outputs": [],
   "source": [
    "ls = range(1,6) #length of kmer\n",
    "ys = [1, 2, 4, 5, 6, 10, 15] #some threshold\n",
    "region = \"data/region30_out/region30\""
   ]
  },
  {
   "cell_type": "markdown",
   "metadata": {},
   "source": [
    "### Run profile kernel"
   ]
  },
  {
   "cell_type": "code",
   "execution_count": 3,
   "metadata": {
    "collapsed": false,
    "scrolled": true
   },
   "outputs": [
    {
     "name": "stdout",
     "output_type": "stream",
     "text": [
      ">>> Working on parameters L=1, Y=1\n",
      ">>> Working on parameters L=1, Y=2\n",
      ">>> Working on parameters L=1, Y=4\n",
      ">>> Working on parameters L=1, Y=5\n",
      ">>> Working on parameters L=1, Y=6\n",
      ">>> Working on parameters L=1, Y=10\n",
      ">>> Working on parameters L=1, Y=15\n",
      ">>> Working on parameters L=2, Y=1\n",
      ">>> Working on parameters L=2, Y=2\n",
      ">>> Working on parameters L=2, Y=4\n",
      ">>> Working on parameters L=2, Y=5\n",
      ">>> Working on parameters L=2, Y=6\n",
      ">>> Working on parameters L=2, Y=10\n",
      ">>> Working on parameters L=2, Y=15\n",
      ">>> Working on parameters L=3, Y=1\n",
      ">>> Working on parameters L=3, Y=2\n",
      ">>> Working on parameters L=3, Y=4\n",
      ">>> Working on parameters L=3, Y=5\n",
      ">>> Working on parameters L=3, Y=6\n",
      ">>> Working on parameters L=3, Y=10\n",
      ">>> Working on parameters L=3, Y=15\n",
      ">>> Working on parameters L=4, Y=1\n",
      ">>> Working on parameters L=4, Y=2\n",
      ">>> Working on parameters L=4, Y=4\n",
      ">>> Working on parameters L=4, Y=5\n",
      ">>> Working on parameters L=4, Y=6\n",
      ">>> Working on parameters L=4, Y=10\n",
      ">>> Working on parameters L=4, Y=15\n",
      ">>> Working on parameters L=5, Y=1\n",
      ">>> Working on parameters L=5, Y=2\n",
      ">>> Working on parameters L=5, Y=4\n",
      ">>> Working on parameters L=5, Y=5\n",
      ">>> Working on parameters L=5, Y=6\n",
      ">>> Working on parameters L=5, Y=10\n",
      ">>> Working on parameters L=5, Y=15\n"
     ]
    }
   ],
   "source": [
    "for l, y in product(ls, ys):\n",
    "    print(\">>> Working on parameters L={0}, Y={1}\".format(l, y))\n",
    "    !profkernel-core -o {region}.idfile -K -L {l} -Y {y} -i /usr/share/fastprofkernel/data/Amino.txt -g /usr/share/fastprofkernel/data/Globals.txt {region}.kernelinput > {region}_L{l}_Y{y}.mat 2> {region}_L{l}_Y{y}.mat.log  "
   ]
  },
  {
   "cell_type": "markdown",
   "metadata": {},
   "source": [
    "### Adding row/col counts to the matrices"
   ]
  },
  {
   "cell_type": "code",
   "execution_count": 4,
   "metadata": {
    "collapsed": false
   },
   "outputs": [
    {
     "data": {
      "text/plain": [
       "876"
      ]
     },
     "execution_count": 4,
     "metadata": {},
     "output_type": "execute_result"
    }
   ],
   "source": [
    "row_count = !wc -l {region}_L{ls[0]}_Y{ys[0]}.mat \n",
    "row_count = int(row_count[0].split(\" \")[0])\n",
    "row_count"
   ]
  },
  {
   "cell_type": "code",
   "execution_count": 5,
   "metadata": {
    "collapsed": false,
    "scrolled": true
   },
   "outputs": [],
   "source": [
    "for l, y in product(ls, ys):\n",
    "    !echo \"{row_count} {row_count}\\n$(cat {region}_L{l}_Y{y}.mat)\" > {region}_L{l}_Y{y}.2.mat"
   ]
  },
  {
   "cell_type": "markdown",
   "metadata": {},
   "source": [
    "### Execute weka"
   ]
  },
  {
   "cell_type": "code",
   "execution_count": 6,
   "metadata": {
    "collapsed": false
   },
   "outputs": [
    {
     "name": "stdout",
     "output_type": "stream",
     "text": [
      ">>> Working on parameters L=1, Y=1\n",
      ">>> Working on parameters L=1, Y=2\n",
      ">>> Working on parameters L=1, Y=4\n",
      ">>> Working on parameters L=1, Y=5\n",
      ">>> Working on parameters L=1, Y=6\n",
      ">>> Working on parameters L=1, Y=10\n",
      ">>> Working on parameters L=1, Y=15\n",
      ">>> Working on parameters L=2, Y=1\n",
      ">>> Working on parameters L=2, Y=2\n",
      ">>> Working on parameters L=2, Y=4\n",
      ">>> Working on parameters L=2, Y=5\n",
      ">>> Working on parameters L=2, Y=6\n",
      ">>> Working on parameters L=2, Y=10\n",
      ">>> Working on parameters L=2, Y=15\n",
      ">>> Working on parameters L=3, Y=1\n",
      ">>> Working on parameters L=3, Y=2\n",
      ">>> Working on parameters L=3, Y=4\n",
      ">>> Working on parameters L=3, Y=5\n",
      ">>> Working on parameters L=3, Y=6\n",
      ">>> Working on parameters L=3, Y=10\n",
      ">>> Working on parameters L=3, Y=15\n",
      ">>> Working on parameters L=4, Y=1\n",
      ">>> Working on parameters L=4, Y=2\n",
      ">>> Working on parameters L=4, Y=4\n",
      ">>> Working on parameters L=4, Y=5\n",
      ">>> Working on parameters L=4, Y=6\n",
      ">>> Working on parameters L=4, Y=10\n",
      ">>> Working on parameters L=4, Y=15\n",
      ">>> Working on parameters L=5, Y=1\n",
      ">>> Working on parameters L=5, Y=2\n",
      ">>> Working on parameters L=5, Y=4\n",
      ">>> Working on parameters L=5, Y=5\n",
      ">>> Working on parameters L=5, Y=6\n",
      ">>> Working on parameters L=5, Y=10\n",
      ">>> Working on parameters L=5, Y=15\n"
     ]
    }
   ],
   "source": [
    "for l, y in product(ls, ys):\n",
    "    print(\">>> Working on parameters L={0}, Y={1}\".format(l, y))\n",
    "    !java -Xmx5g -cp bin/wekaTobi.jar:bin/weka.jar: weka.classifiers.meta.CVParameterSelection -t {region}.arff -x 5 -S 1 -W weka.classifiers.functions.SMO -- -C 1.0 -L 0.0010 -P 1.0E-12 -N 0 -V -1 -W 1 -K \"weka.classifiers.functions.supportVector.CustomPrecomputedKernelMatrixKernelFast -M {region}_L{l}_Y{y}.2.mat\" > {region}_L{l}_Y{y}.weka"
   ]
  },
  {
   "cell_type": "markdown",
   "metadata": {
    "collapsed": true
   },
   "source": [
    "### extract confusion matrix from WEKA"
   ]
  },
  {
   "cell_type": "code",
   "execution_count": 3,
   "metadata": {
    "collapsed": false
   },
   "outputs": [],
   "source": [
    "perf_dict = {}\n",
    "for l, y in product(ls, ys):\n",
    "    file = \"{}_L{}_Y{}.weka\".format(region, l, y)\n",
    "    matrix = []\n",
    "    with open(file) as f: \n",
    "        isMatrix = False\n",
    "        isCV = False\n",
    "        for line in f.readlines():         \n",
    "            if line.startswith(\"=== Stratified cross-validation\"):\n",
    "                isCV = True\n",
    "            if isCV and line.startswith(\"=== Confusion Matrix\"):\n",
    "                isMatrix = True\n",
    "            if isMatrix and isCV: \n",
    "                matrix.append(line)\n",
    "    pos = matrix[3].split(\"|\")[0].strip()\n",
    "    neg = matrix[4].split(\"|\")[0].strip()\n",
    "    TP, FN = (int(x.strip()) for x in pos.split())\n",
    "    FP, TN = (int(x.strip()) for x in neg.split())\n",
    "    perf_dict[(l, y)] = (TP, FN, FP, TN)"
   ]
  },
  {
   "cell_type": "markdown",
   "metadata": {},
   "source": [
    "### compare the parameters\n",
    "#### Which measure to use?\n",
    "* Accuracy: bad because data is unbalanced\n",
    "* F-Measure: hard to interpret intuitievely\n",
    "* MCC: good, easy to interpret and balanced\n",
    "* Sensistivity, Specificity: good, give the user information about what they actually expect from the predictor"
   ]
  },
  {
   "cell_type": "code",
   "execution_count": 13,
   "metadata": {
    "collapsed": true
   },
   "outputs": [],
   "source": [
    "def mcc(TP, FN, FP, TN): \n",
    "    return np.divide(TP * TN + FP * FN, sqrt( (TP+FP) * (TP+FN) * (TN+FP) * (TN+FN)))\n",
    "\n",
    "def sens(TP, FN, FP, TN):\n",
    "    return TP / (TP + FN)\n",
    "\n",
    "def spec(TP, FN, FP, TN):\n",
    "    return TN / (TN + FP)\n",
    "\n",
    "def prec_pos(TP, FN, FP, TN):\n",
    "    return np.divide(TP, (TP + FP))\n",
    "def recall_pos(TP, FN, FP, TN):\n",
    "    return np.divide(TP, (TP + FN))\n",
    "def prec_neg(TP, FN, FP, TN):\n",
    "    return np.divide(TN, (TN + FN))\n",
    "def recall_neg(TP, FN, FP, TN):\n",
    "    return np.divide(TN, (TN + FP))\n",
    "\n",
    "def f1_pos(TP, FN, FP, TN):\n",
    "    return np.divide(2 * prec_pos(TP, FN, FP, TN) * recall_pos(TP, FN, FP, TN),\n",
    "                     (prec_pos(TP, FN, FP, TN) + recall_pos(TP, FN, FP, TN)))\n",
    "def f1_neg(TP, FN, FP, TN):\n",
    "    return np.divide(2 * prec_neg(TP, FN, FP, TN) * recall_neg(TP, FN, FP, TN),\n",
    "                     (prec_neg(TP, FN, FP, TN) + recall_neg(TP, FN, FP, TN)))"
   ]
  },
  {
   "cell_type": "code",
   "execution_count": 7,
   "metadata": {
    "collapsed": true
   },
   "outputs": [],
   "source": [
    "def make_df(f):\n",
    "    f_dict = {}\n",
    "    for y in ys:\n",
    "        f_dict[y] = {}\n",
    "        for l in ls:\n",
    "            f_dict[y][l] = f(*perf_dict[l, y])\n",
    "    return pd.DataFrame(f_dict)"
   ]
  },
  {
   "cell_type": "code",
   "execution_count": 18,
   "metadata": {
    "collapsed": false
   },
   "outputs": [
    {
     "data": {
      "image/png": "[encoded data removed]",
      "text/plain": [
       "<matplotlib.figure.Figure at 0x7f48393a8080>"
      ]
     },
     "metadata": {},
     "output_type": "display_data"
    }
   ],
   "source": [
    "fig, grid = subplots(3, 3, figsize=(15, 15))\n",
    "\n",
    "sns.heatmap(make_df(mcc), ax=grid[0][0], vmin=0, vmax=1)\n",
    "grid[0][0].set_title(\"MCC\")\n",
    "\n",
    "sns.heatmap(make_df(sens), ax=grid[0][1], vmin=0, vmax=1)\n",
    "grid[0][1].set_title(\"Sensitivity\")\n",
    "\n",
    "sns.heatmap(make_df(spec), ax=grid[0][2], vmin=0, vmax=1)\n",
    "grid[0][2].set_title(\"Specificity\")\n",
    "\n",
    "sns.heatmap(make_df(prec_pos), ax=grid[1][0], vmin=0, vmax=1)\n",
    "grid[1][0].set_title(\"Positive Precision\")\n",
    "\n",
    "sns.heatmap(make_df(prec_neg), ax=grid[1][1], vmin=0, vmax=1)\n",
    "grid[1][1].set_title(\"Negative Precision\")\n",
    "\n",
    "sns.heatmap(make_df(recall_pos), ax=grid[1][2], vmin=0, vmax=1)\n",
    "grid[1][2].set_title(\"Positive Recall\")\n",
    "\n",
    "sns.heatmap(make_df(recall_neg), ax=grid[2][0], vmin=0, vmax=1)\n",
    "grid[2][0].set_title(\"Negative Recall\")\n",
    "\n",
    "sns.heatmap(make_df(f1_pos), ax=grid[2][1], vmin=0, vmax=1)\n",
    "grid[2][1].set_title(\"Positive F1\")\n",
    "\n",
    "sns.heatmap(make_df(f1_neg), ax=grid[2][2], vmin=0, vmax=1)\n",
    "grid[2][2].set_title(\"Negative F1\")\n",
    "\n",
    "\n",
    "for ax in grid.flatten():\n",
    "    ax.set_xlabel(\"Y\")\n",
    "    ax.set_ylabel(\"L\")\n",
    "    \n",
    "fig.savefig(\"wiki/eval30.png\")"
   ]
  },
  {
   "cell_type": "code",
   "execution_count": 9,
   "metadata": {
    "collapsed": false
   },
   "outputs": [
    {
     "data": {
      "text/html": [
       "<div>\n",
       "<table border=\"1\" class=\"dataframe\">\n",
       "  <thead>\n",
       "    <tr style=\"text-align: right;\">\n",
       "      <th></th>\n",
       "      <th>1</th>\n",
       "      <th>2</th>\n",
       "      <th>4</th>\n",
       "      <th>5</th>\n",
       "      <th>6</th>\n",
       "      <th>10</th>\n",
       "      <th>15</th>\n",
       "    </tr>\n",
       "  </thead>\n",
       "  <tbody>\n",
       "    <tr>\n",
       "      <th>1</th>\n",
       "      <td>0.536057</td>\n",
       "      <td>0.590760</td>\n",
       "      <td>0.642347</td>\n",
       "      <td>0.576171</td>\n",
       "      <td>0.576171</td>\n",
       "      <td>0.576171</td>\n",
       "      <td>0.576171</td>\n",
       "    </tr>\n",
       "    <tr>\n",
       "      <th>2</th>\n",
       "      <td>0.220832</td>\n",
       "      <td>0.493644</td>\n",
       "      <td>0.571950</td>\n",
       "      <td>0.583564</td>\n",
       "      <td>0.601164</td>\n",
       "      <td>0.615213</td>\n",
       "      <td>0.576171</td>\n",
       "    </tr>\n",
       "    <tr>\n",
       "      <th>3</th>\n",
       "      <td>0.106888</td>\n",
       "      <td>0.152978</td>\n",
       "      <td>0.468340</td>\n",
       "      <td>0.521797</td>\n",
       "      <td>0.565314</td>\n",
       "      <td>0.662928</td>\n",
       "      <td>0.602861</td>\n",
       "    </tr>\n",
       "    <tr>\n",
       "      <th>4</th>\n",
       "      <td>0.078102</td>\n",
       "      <td>0.095765</td>\n",
       "      <td>0.164821</td>\n",
       "      <td>0.350120</td>\n",
       "      <td>0.456122</td>\n",
       "      <td>0.615139</td>\n",
       "      <td>0.659614</td>\n",
       "    </tr>\n",
       "    <tr>\n",
       "      <th>5</th>\n",
       "      <td>NaN</td>\n",
       "      <td>0.095765</td>\n",
       "      <td>0.099476</td>\n",
       "      <td>0.103179</td>\n",
       "      <td>0.139748</td>\n",
       "      <td>0.552661</td>\n",
       "      <td>0.658670</td>\n",
       "    </tr>\n",
       "  </tbody>\n",
       "</table>\n",
       "</div>"
      ],
      "text/plain": [
       "         1         2         4         5         6         10        15\n",
       "1  0.536057  0.590760  0.642347  0.576171  0.576171  0.576171  0.576171\n",
       "2  0.220832  0.493644  0.571950  0.583564  0.601164  0.615213  0.576171\n",
       "3  0.106888  0.152978  0.468340  0.521797  0.565314  0.662928  0.602861\n",
       "4  0.078102  0.095765  0.164821  0.350120  0.456122  0.615139  0.659614\n",
       "5       NaN  0.095765  0.099476  0.103179  0.139748  0.552661  0.658670"
      ]
     },
     "execution_count": 9,
     "metadata": {},
     "output_type": "execute_result"
    }
   ],
   "source": [
    "make_df(mcc)"
   ]
  },
  {
   "cell_type": "markdown",
   "metadata": {},
   "source": [
    "#### try roc curve"
   ]
  },
  {
   "cell_type": "code",
   "execution_count": 10,
   "metadata": {
    "collapsed": true
   },
   "outputs": [],
   "source": [
    "df_sens = make_df(sens)\n",
    "df_spec = make_df(spec)"
   ]
  },
  {
   "cell_type": "code",
   "execution_count": 11,
   "metadata": {
    "collapsed": false
   },
   "outputs": [],
   "source": [
    "sns = []\n",
    "sps = []\n",
    "for i, row in df_sens.iterrows():\n",
    "    for sn in row:\n",
    "        sns.append(sn)\n",
    "for i, row in df_spec.iterrows():\n",
    "    for sp in row:\n",
    "        sps.append(1-sp)"
   ]
  },
  {
   "cell_type": "code",
   "execution_count": 12,
   "metadata": {
    "collapsed": false
   },
   "outputs": [
    {
     "data": {
      "text/plain": [
       "<matplotlib.collections.PathCollection at 0x7f48394eff28>"
      ]
     },
     "execution_count": 12,
     "metadata": {},
     "output_type": "execute_result"
    },
    {
     "data": {
      "image/png": "[encoded data removed]",
      "text/plain": [
       "<matplotlib.figure.Figure at 0x7f483950b8d0>"
      ]
     },
     "metadata": {},
     "output_type": "display_data"
    }
   ],
   "source": [
    "scatter(sps, sns)"
   ]
  },
  {
   "cell_type": "code",
   "execution_count": null,
   "metadata": {
    "collapsed": true
   },
   "outputs": [],
   "source": []
  }
 ],
 "metadata": {
  "kernelspec": {
   "display_name": "Python 3",
   "language": "python",
   "name": "python3"
  },
  "language_info": {
   "codemirror_mode": {
    "name": "ipython",
    "version": 3
   },
   "file_extension": ".py",
   "mimetype": "text/x-python",
   "name": "python",
   "nbconvert_exporter": "python",
   "pygments_lexer": "ipython3",
   "version": "3.4.4"
  }
 },
 "nbformat": 4,
 "nbformat_minor": 0
}
