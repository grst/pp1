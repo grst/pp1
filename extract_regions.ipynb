{
 "cells": [
  {
   "cell_type": "code",
   "execution_count": 1,
   "metadata": {
    "collapsed": false
   },
   "outputs": [],
   "source": [
    "#!/usr/bin/python\n",
    "import re\n",
    "from glob import glob"
   ]
  },
  {
   "cell_type": "code",
   "execution_count": 15,
   "metadata": {
    "collapsed": false,
    "scrolled": true
   },
   "outputs": [],
   "source": [
    "dirList1 = glob('group4_positive_profiles\\\\*.fa')\n",
    "dirList2 = glob('group4_positive_profiles\\\\*.fa.blastPsiMat')\n",
    "dirList = zip(dirList1,dirList2)\n",
    "dirList = list(dirList)\n",
    "pr = 30\n",
    "for files in dirList:\n",
    "    actProt = open(files[0])\n",
    "    actMat = open(files[1]).readlines()\n",
    "#actProt = open(\"group4_positive_profiles\\\\02082_DisProt_DP00744.fa\")\n",
    "#actMat = open(\"group4_positive_profiles\\\\02082_DisProt_DP00744.fa.blastPsiMat\").readlines()\n",
    "    disorderdPos=[]\n",
    "    disorderd=[]\n",
    "    orderedPos=[]\n",
    "    ordered=[]\n",
    "    for line in actProt:\n",
    "        #print(line.rstrip())\n",
    "        if line.startswith(\">\"):\n",
    "            liste = line.split(' ')\n",
    "            for i in liste:\n",
    "                     if i.startswith(\"#\"):\n",
    "                        m = re.search('(\\d+)-(\\d+)',i)\n",
    "                        disorderdPos.append([int(m.group(1)),int(m.group(2))])\n",
    "        else:\n",
    "            disorderdPos = sorted(disorderdPos)\n",
    "            last = 0\n",
    "            for i in disorderdPos:\n",
    "                    if i[0]!= 1 and (i[0]-last)>pr-1:\n",
    "                        ordered.append(line[last:i[0]])\n",
    "                        orderedPos.append([last,i[0]])\n",
    "                        disorderd.append(line[i[0]-1:i[1]-1])\n",
    "                    else:\n",
    "                        disorderd.append(line[i[0]-1:i[1]-1])\n",
    "                    last=i[1]\n",
    "            if len(line)-last>pr-1:\n",
    "                    ordered.append(line[last:len(line)-1])\n",
    "                    orderedPos.append([last,len(line)-1])\n",
    "\n",
    "    actProt.close()\n",
    "    alle=1\n",
    "    d=0\n",
    "    for orderd in ordered:\n",
    "        x=int(len(orderd)/pr)\n",
    "        a=0\n",
    "        while a<x:\n",
    "            newOrder= open(\"negativ\\\\region_2_\"+liste[0][1:len(liste[0])]+\"_\"+str(alle)+'.fa','w')\n",
    "            newOMat= open(\"negativ\\\\region_2_\"+liste[0][1:len(liste[0])]+\"_\"+str(alle)+'.fa.blastPsiMat','w')\n",
    "            newOrder.write(liste[0]+' '+liste[1]+\"\\n\"+orderd[a*pr:(a+1)*pr])\n",
    "            newOMat.write(actMat[0]+actMat[1]+actMat[2])\n",
    "            i=orderedPos[d][0]+pr*a+3\n",
    "            while i<orderedPos[d][0]+pr*a+pr+3:\n",
    "                newOMat.write(actMat[i])\n",
    "                i+=1\n",
    "            newOrder.close()\n",
    "            newOMat.close()\n",
    "            a+=1\n",
    "            alle+=1\n",
    "        d+=1\n",
    "    alle=1\n",
    "    d=0\n",
    "    for disordered in disorderd:\n",
    "        x=int(len(disordered)/pr)\n",
    "        a=0\n",
    "        while a<x:\n",
    "            newDisorder= open(\"possitiv\\\\region_2_\"+liste[0][1:len(liste[0])]+\"_\"+str(alle)+'.fa','w')\n",
    "            newDisMat = open(\"possitiv\\\\region_2_\"+liste[0][1:len(liste[0])]+\"_\"+str(alle)+'.fa.blastPsiMat','w')\n",
    "            newDisorder.write(liste[0]+' '+liste[1]+\"\\n\"+disordered[a*pr:(a+1)*pr])\n",
    "            newDisMat.write(actMat[0]+actMat[1]+actMat[2])\n",
    "            i=disorderdPos[d][0]+pr*a+2\n",
    "            while i<disorderdPos[d][0]+pr*a+pr+2:\n",
    "                newDisMat.write(actMat[i])\n",
    "                i+=1\n",
    "            newDisorder.close()\n",
    "            newDisMat.close()\n",
    "            a+=1  \n",
    "            alle+=1\n",
    "        d+=1\n"
   ]
  },
  {
   "cell_type": "code",
   "execution_count": 9,
   "metadata": {
    "collapsed": false
   },
   "outputs": [
    {
     "data": {
      "text/plain": [
       "10"
      ]
     },
     "execution_count": 9,
     "metadata": {},
     "output_type": "execute_result"
    }
   ],
   "source": [
    "x\n"
   ]
  },
  {
   "cell_type": "code",
   "execution_count": 40,
   "metadata": {
    "collapsed": false
   },
   "outputs": [
    {
     "data": {
      "text/plain": [
       "[[22, 41], [66, 97], [386, 447]]"
      ]
     },
     "execution_count": 40,
     "metadata": {},
     "output_type": "execute_result"
    }
   ],
   "source": [
    "l"
   ]
  },
  {
   "cell_type": "code",
   "execution_count": null,
   "metadata": {
    "collapsed": true
   },
   "outputs": [],
   "source": []
  }
 ],
 "metadata": {
  "kernelspec": {
   "display_name": "Python 3",
   "language": "python",
   "name": "python3"
  },
  "language_info": {
   "codemirror_mode": {
    "name": "ipython",
    "version": 3
   },
   "file_extension": ".py",
   "mimetype": "text/x-python",
   "name": "python",
   "nbconvert_exporter": "python",
   "pygments_lexer": "ipython3",
   "version": "3.5.1"
  }
 },
 "nbformat": 4,
 "nbformat_minor": 0
}
