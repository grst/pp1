{
 "cells": [
  {
   "cell_type": "code",
   "execution_count": 47,
   "metadata": {
    "collapsed": true
   },
   "outputs": [],
   "source": [
    "path = \"/home/sturm/Dropbox/PP1_2016-06-01/region1\"\n",
    "out = \"/home/sturm/Dropbox/PP1_2016-06-01/region1\""
   ]
  },
  {
   "cell_type": "code",
   "execution_count": 48,
   "metadata": {
    "collapsed": true
   },
   "outputs": [],
   "source": [
    "files = !find {path} -type f -iname \"*.fa\""
   ]
  },
  {
   "cell_type": "code",
   "execution_count": 49,
   "metadata": {
    "collapsed": true
   },
   "outputs": [],
   "source": [
    "ids = []"
   ]
  },
  {
   "cell_type": "code",
   "execution_count": 50,
   "metadata": {
    "collapsed": false
   },
   "outputs": [],
   "source": [
    "with open(out + \".idfile\", 'w') as idfile:\n",
    "    with open(out + \".kernelinput\", 'w') as kernelfile: \n",
    "        for i, file in enumerate(files): \n",
    "            with open(file) as fasta:\n",
    "                with open(file + \".blastPsiMat\") as matfile: \n",
    "                    header = fasta.readline().split(\" \")\n",
    "                    fid = header[0] + \"_\" + str(i)\n",
    "                    head = \" \".join(header[1:])\n",
    "                    idfile.write(fid + \"\\n\")\n",
    "                    group = \"positive\" if file.find(\"possitiv\") > 0 else \"negative\"\n",
    "                    ids.append((fid, group))\n",
    "                    kernelfile.write(fid + \" \" + head)\n",
    "                    kernelfile.write(fasta.readline())\n",
    "                    kernelfile.write(\"\\n\")\n",
    "                    for l in matfile.readlines():\n",
    "                        kernelfile.write(l)\n",
    "                    \n",
    "            "
   ]
  },
  {
   "cell_type": "code",
   "execution_count": 51,
   "metadata": {
    "collapsed": false
   },
   "outputs": [],
   "source": [
    "sIds = \",\".join((fid[1:] for fid, _ in ids))"
   ]
  },
  {
   "cell_type": "code",
   "execution_count": 52,
   "metadata": {
    "collapsed": false
   },
   "outputs": [],
   "source": [
    "with open(out + \".arff\", 'w') as arfffile:\n",
    "    arfffile.write(\"@relation docs\\n\")\n",
    "    arfffile.write(\"@attribute identifier {\" + sIds + \"}\\n\")\n",
    "    arfffile.write(\"@attribute class {positive,negative}\\n\")\n",
    "    arfffile.write(\"@data\\n\")\n",
    "    for fid, group in ids: \n",
    "        arfffile.write(fid[1:] + \",\" + group + \"\\n\")\n",
    "    "
   ]
  },
  {
   "cell_type": "code",
   "execution_count": null,
   "metadata": {
    "collapsed": true
   },
   "outputs": [],
   "source": []
  }
 ],
 "metadata": {
  "kernelspec": {
   "display_name": "Python 3",
   "language": "python",
   "name": "python3"
  },
  "language_info": {
   "codemirror_mode": {
    "name": "ipython",
    "version": 3
   },
   "file_extension": ".py",
   "mimetype": "text/x-python",
   "name": "python",
   "nbconvert_exporter": "python",
   "pygments_lexer": "ipython3",
   "version": "3.4.4"
  }
 },
 "nbformat": 4,
 "nbformat_minor": 0
}
