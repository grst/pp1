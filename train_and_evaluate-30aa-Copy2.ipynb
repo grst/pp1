{
 "cells": [
  {
   "cell_type": "code",
   "execution_count": 19,
   "metadata": {
    "collapsed": false
   },
   "outputs": [],
   "source": [
    "from math import sqrt\n",
    "import re\n",
    "import numpy as np\n",
    "import seaborn as sns\n",
    "import pandas as pd\n",
    "%matplotlib inline\n",
    "from pylab import * \n",
    "from itertools import product \n",
    "from mltools.perfmeasures import *\n",
    "import random \n"
   ]
  },
  {
   "cell_type": "code",
   "execution_count": 4,
   "metadata": {
    "collapsed": true
   },
   "outputs": [],
   "source": [
    "ls = range(1,5) #length of kmer\n",
    "ys = [1, 2, 3, 4, 5, 6, 10] #some threshold\n",
    "region = \"data/region30_out/region30\""
   ]
  },
  {
   "cell_type": "markdown",
   "metadata": {},
   "source": [
    "### Run profile kernel"
   ]
  },
  {
   "cell_type": "code",
   "execution_count": 5,
   "metadata": {
    "collapsed": false,
    "scrolled": true
   },
   "outputs": [
    {
     "name": "stdout",
     "output_type": "stream",
     "text": [
      ">>> Working on parameters L=1, Y=1\n",
      ">>> Working on parameters L=1, Y=2\n",
      ">>> Working on parameters L=1, Y=3\n",
      ">>> Working on parameters L=1, Y=4\n",
      ">>> Working on parameters L=1, Y=5\n",
      ">>> Working on parameters L=1, Y=6\n",
      ">>> Working on parameters L=1, Y=10\n",
      ">>> Working on parameters L=2, Y=1\n",
      ">>> Working on parameters L=2, Y=2\n",
      ">>> Working on parameters L=2, Y=3\n",
      ">>> Working on parameters L=2, Y=4\n",
      ">>> Working on parameters L=2, Y=5\n",
      ">>> Working on parameters L=2, Y=6\n",
      ">>> Working on parameters L=2, Y=10\n",
      ">>> Working on parameters L=3, Y=1\n",
      ">>> Working on parameters L=3, Y=2\n",
      ">>> Working on parameters L=3, Y=3\n",
      ">>> Working on parameters L=3, Y=4\n",
      ">>> Working on parameters L=3, Y=5\n",
      ">>> Working on parameters L=3, Y=6\n",
      ">>> Working on parameters L=3, Y=10\n",
      ">>> Working on parameters L=4, Y=1\n",
      ">>> Working on parameters L=4, Y=2\n",
      ">>> Working on parameters L=4, Y=3\n",
      ">>> Working on parameters L=4, Y=4\n",
      ">>> Working on parameters L=4, Y=5\n",
      ">>> Working on parameters L=4, Y=6\n",
      ">>> Working on parameters L=4, Y=10\n"
     ]
    }
   ],
   "source": [
    "for l, y in product(ls, ys):\n",
    "    print(\">>> Working on parameters L={0}, Y={1}\".format(l, y))\n",
    "    !profkernel-core -o {region}.idfile -K -L {l} -Y {y} -i /usr/share/fastprofkernel/data/Amino.txt -g /usr/share/fastprofkernel/data/Globals.txt {region}.kernelinput > {region}_L{l}_Y{y}.mat 2> {region}_L{l}_Y{y}.mat.log  "
   ]
  },
  {
   "cell_type": "markdown",
   "metadata": {},
   "source": [
    "### Adding row/col counts to the matrices"
   ]
  },
  {
   "cell_type": "code",
   "execution_count": 6,
   "metadata": {
    "collapsed": false
   },
   "outputs": [
    {
     "data": {
      "text/plain": [
       "876"
      ]
     },
     "execution_count": 6,
     "metadata": {},
     "output_type": "execute_result"
    }
   ],
   "source": [
    "row_count = !wc -l {region}_L{ls[0]}_Y{ys[0]}.mat \n",
    "row_count = int(row_count[0].split(\" \")[0])\n",
    "row_count"
   ]
  },
  {
   "cell_type": "code",
   "execution_count": 7,
   "metadata": {
    "collapsed": false,
    "scrolled": true
   },
   "outputs": [],
   "source": [
    "for l, y in product(ls, ys):\n",
    "    !echo \"{row_count} {row_count}\\n$(cat {region}_L{l}_Y{y}.mat)\" > {region}_L{l}_Y{y}.2.mat"
   ]
  },
  {
   "cell_type": "markdown",
   "metadata": {},
   "source": [
    "### Execute weka"
   ]
  },
  {
   "cell_type": "code",
   "execution_count": 18,
   "metadata": {
    "collapsed": false
   },
   "outputs": [
    {
     "name": "stdout",
     "output_type": "stream",
     "text": [
      ">>> Working on parameters L=1, Y=1\n",
      ">>> Working on parameters L=1, Y=2\n",
      ">>> Working on parameters L=1, Y=3\n",
      ">>> Working on parameters L=1, Y=4\n",
      ">>> Working on parameters L=1, Y=5\n",
      ">>> Working on parameters L=1, Y=6\n",
      ">>> Working on parameters L=1, Y=10\n",
      ">>> Working on parameters L=2, Y=1\n",
      ">>> Working on parameters L=2, Y=2\n",
      ">>> Working on parameters L=2, Y=3\n",
      ">>> Working on parameters L=2, Y=4\n",
      ">>> Working on parameters L=2, Y=5\n",
      ">>> Working on parameters L=2, Y=6\n",
      ">>> Working on parameters L=2, Y=10\n",
      ">>> Working on parameters L=3, Y=1\n",
      ">>> Working on parameters L=3, Y=2\n",
      ">>> Working on parameters L=3, Y=3\n",
      ">>> Working on parameters L=3, Y=4\n",
      ">>> Working on parameters L=3, Y=5\n",
      ">>> Working on parameters L=3, Y=6\n",
      ">>> Working on parameters L=3, Y=10\n",
      ">>> Working on parameters L=4, Y=1\n",
      ">>> Working on parameters L=4, Y=2\n",
      ">>> Working on parameters L=4, Y=3\n",
      ">>> Working on parameters L=4, Y=4\n",
      ">>> Working on parameters L=4, Y=5\n",
      ">>> Working on parameters L=4, Y=6\n",
      ">>> Working on parameters L=4, Y=10\n"
     ]
    }
   ],
   "source": [
    "for l, y in product(ls, ys):\n",
    "    print(\">>> Working on parameters L={0}, Y={1}\".format(l, y))\n",
    "    !java -Xmx5g -cp bin/wekaTobi.jar:bin/weka.jar: weka.classifiers.meta.CVParameterSelection -p 1 -t {region}.arff -x 5 -S 1 -W weka.classifiers.functions.SMO -- -C 1.0 -L 0.0010 -P 1.0E-12 -N 0 -V -1 -W 1 -K \"weka.classifiers.functions.supportVector.CustomPrecomputedKernelMatrixKernelFast -M {region}_L{l}_Y{y}.2.mat\" > {region}_L{l}_Y{y}.weka"
   ]
  },
  {
   "cell_type": "code",
   "execution_count": null,
   "metadata": {
    "collapsed": true
   },
   "outputs": [],
   "source": []
  }
 ],
 "metadata": {
  "kernelspec": {
   "display_name": "Python 3",
   "language": "python",
   "name": "python3"
  },
  "language_info": {
   "codemirror_mode": {
    "name": "ipython",
    "version": 3
   },
   "file_extension": ".py",
   "mimetype": "text/x-python",
   "name": "python",
   "nbconvert_exporter": "python",
   "pygments_lexer": "ipython3",
   "version": "3.4.4"
  }
 },
 "nbformat": 4,
 "nbformat_minor": 0
}
